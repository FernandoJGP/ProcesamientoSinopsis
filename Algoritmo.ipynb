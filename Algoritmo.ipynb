{
 "cells": [
  {
   "cell_type": "markdown",
   "metadata": {},
   "source": [
    "## Clasificación de documentos:"
   ]
  },
  {
   "cell_type": "markdown",
   "metadata": {},
   "source": [
    "# Calculo del género de una película a raíz de su sinopsis"
   ]
  },
  {
   "cell_type": "markdown",
   "metadata": {},
   "source": [
    "## Parte I: Introducción"
   ]
  },
  {
   "cell_type": "markdown",
   "metadata": {},
   "source": [
    "Se requiere la implementación de un algoritmo que, previamente entrenado, calcule el __género principal__ de una película en base al conocimiento adquirido."
   ]
  },
  {
   "cell_type": "markdown",
   "metadata": {},
   "source": [
    "Los géneros que tendrá en cuenta el algoritmo son: ___acción___, ___comedia___, ___terror___, ___bélico___ y __western__."
   ]
  },
  {
   "cell_type": "markdown",
   "metadata": {},
   "source": [
    "Los __archivos que contienen la sinopsis__ (o equivalente, pudiendo ser también un breve resumen de la primera parte de la película) de las películas estarán distribuídos de la siguiente forma: 1) Si forman parte del conjunto de pruebas estarán dentro de la carpeta del conjunto de prueba sin más, que será la carpeta en la que el algoritmo, una vez entrenado, buscará sinopsis para categorizarlas 2) Si forman parte del conjunto de entrenamiento estarán dentro de la carpeta del conjunto de entrenamiento y __a su vez__ dentro de una carpeta que indique su género."
   ]
  },
  {
   "cell_type": "markdown",
   "metadata": {},
   "source": [
    "Inicialmente se planteó utilizar _html_ como __formato__ para almacenar los archivos con los que vamos a trabajar pero, dado que no ha sido posible encontrar una fuente común para extraer todas las sinopsis, finalmente se almacenarán como __texto plano__, trabajando de esta manera con archivos _.txt_."
   ]
  },
  {
   "cell_type": "markdown",
   "metadata": {},
   "source": [
    "__Los conocimientos requeridos por parte del usuario__ que ejecutará el algoritmo __son mínimos__: tan sólo necesita __colocar__ los textos, en el formato adecuado, en la carpeta indicada y __ejecutar__ el algoritmo en sí. Únicamente se requiere mayor interacción por parte del usuario si desea cambiar el funcionamiento del algorimo en sí, o ajustar el mismo, como por ejemplo si desea cambiar las palabras clave para cada una de las categorías."
   ]
  },
  {
   "cell_type": "markdown",
   "metadata": {},
   "source": [
    "## Parte II: Escaneo de archivos"
   ]
  },
  {
   "cell_type": "markdown",
   "metadata": {},
   "source": [
    "Empezamos símplemente indicando qué __carpeta__ contiene el __conjunto de entrenamiento__ y el de __prueba__, además de las __categorías__, que no serán útiles más adelante."
   ]
  },
  {
   "cell_type": "code",
   "execution_count": 1132,
   "metadata": {
    "collapsed": false
   },
   "outputs": [],
   "source": [
    "ruta_conjunto_entrenamiento = \"conjunto_entrenamiento\"\n",
    "ruta_conjunto_prueba = \"conjunto_prueba\""
   ]
  },
  {
   "cell_type": "markdown",
   "metadata": {},
   "source": [
    "Empezamos escaneando la carpeta del conjunto de entrenamiento, que contendrá las __categorías__ en las que se podrán clasificar los nuevos documentos:"
   ]
  },
  {
   "cell_type": "code",
   "execution_count": 1133,
   "metadata": {
    "collapsed": false
   },
   "outputs": [
    {
     "name": "stdout",
     "output_type": "stream",
     "text": [
      "{'terror', 'western', 'comedia', 'acción', 'bélico'}\n"
     ]
    }
   ],
   "source": [
    "import os # Nos ayudaremos de la librería \"os\" para leer ficheros y carpetas.\n",
    "\n",
    "categorías = {elemento for elemento in os.listdir(ruta_conjunto_entrenamiento) if os.path.isdir(ruta_conjunto_entrenamiento + \"/\" + elemento)} # \"os.listdir\" devuelve las el contenido de un directorio dado, pero además queremos filtrar que sea un directorio, por eso lo procesamos y le aplicamos el filtro de que sea un directorio.\n",
    "\n",
    "print(categorías)"
   ]
  },
  {
   "cell_type": "markdown",
   "metadata": {},
   "source": [
    "A continuación, vamos a recorrer nuestra estructura de carpetas para detectar cada uno de los textos a analizar."
   ]
  },
  {
   "cell_type": "markdown",
   "metadata": {},
   "source": [
    "Procedemos a __encontrar__ todos los __archivos ya clasificados__ (conjunto de entrenamiento), según su __categoría__."
   ]
  },
  {
   "cell_type": "code",
   "execution_count": 1134,
   "metadata": {
    "collapsed": false
   },
   "outputs": [],
   "source": [
    "# NOTA: Vamos a almacenarlos en conjunto (set) ya que no nos interesa el orden y, además, no permite duplicados (no puede haber dos archivos con el mismo nombre).\n",
    "\n",
    "archivos_entrenamiento = set()\n",
    "\n",
    "archivos_entrenamiento_acción = set()\n",
    "for file in os.listdir(ruta_conjunto_entrenamiento + \"/\" + \"acción\"):\n",
    "    if file.endswith(\".txt\"):\n",
    "        aux = \"acción\" + \"/\" + file\n",
    "        archivos_entrenamiento.add(aux)\n",
    "        archivos_entrenamiento_acción.add(aux)\n",
    "\n",
    "archivos_entrenamiento_comedia = set()\n",
    "for file in os.listdir(ruta_conjunto_entrenamiento + \"/\" + \"comedia\"):\n",
    "    if file.endswith(\".txt\"):\n",
    "        aux = \"comedia\" + \"/\" + file\n",
    "        archivos_entrenamiento.add(aux)\n",
    "        archivos_entrenamiento_comedia.add(aux)\n",
    "\n",
    "archivos_entrenamiento_terror = set()\n",
    "for file in os.listdir(ruta_conjunto_entrenamiento + \"/\" + \"terror\"):\n",
    "    if file.endswith(\".txt\"):\n",
    "        aux = \"terror\" + \"/\" + file\n",
    "        archivos_entrenamiento.add(aux)\n",
    "        archivos_entrenamiento_terror.add(aux)\n",
    "\n",
    "archivos_entrenamiento_bélico = set()\n",
    "for file in os.listdir(ruta_conjunto_entrenamiento + \"/\" + \"bélico\"):\n",
    "    if file.endswith(\".txt\"):\n",
    "        aux = \"bélico\" + \"/\" + file\n",
    "        archivos_entrenamiento.add(aux)\n",
    "        archivos_entrenamiento_bélico.add(aux)\n",
    "\n",
    "archivos_entrenamiento_western = set()\n",
    "for file in os.listdir(ruta_conjunto_entrenamiento + \"/\" + \"western\"):\n",
    "    if file.endswith(\".txt\"):\n",
    "        aux = \"western\" + \"/\" + file\n",
    "        archivos_entrenamiento.add(aux)\n",
    "        archivos_entrenamiento_western.add(aux)"
   ]
  },
  {
   "cell_type": "markdown",
   "metadata": {},
   "source": [
    "Y, a continuación, procedemos a __encontrar__ los __archivos que querríamos clasificar__ (conjunto de prueba):"
   ]
  },
  {
   "cell_type": "code",
   "execution_count": 1135,
   "metadata": {
    "collapsed": false
   },
   "outputs": [
    {
     "name": "stdout",
     "output_type": "stream",
     "text": [
      "{'Le llamaban Trinidad.txt', 'Misión imposible - Protocolo fantasma.txt', 'Shrek 3.txt', 'Teléfono rojo - Volamos hacia Moscú.txt', 'Sin perdón.txt', 'El padrino.txt', 'El jinete pálido.txt', 'El tirador.txt', 'Jungla de cristal.txt', 'A todo gas - Tokyo race.txt', 'La caza del Octubre Rojo.txt', 'Django desencadenado.txt', 'El ultimátum de Bourne.txt', 'Solo ante el peligro.txt', 'Fast and Furious 5.txt'}\n"
     ]
    }
   ],
   "source": [
    "# Usamos conjunto por la misma razón de arriba.\n",
    "\n",
    "archivos_prueba = set()\n",
    "for file in os.listdir(ruta_conjunto_prueba):\n",
    "    if file.endswith(\".txt\"):\n",
    "        archivos_prueba.add(file)\n",
    "\n",
    "print(archivos_prueba)"
   ]
  },
  {
   "cell_type": "markdown",
   "metadata": {},
   "source": [
    "## Parte III: Elección del conjunto de palabras clave"
   ]
  },
  {
   "cell_type": "markdown",
   "metadata": {
    "collapsed": false
   },
   "source": [
    "Para ayudarnos en el estudio de las __palabras clave__ que debemos escoger para cada categoría vamos a realizar un pequeño estudio para determinar las palabras más frecuentes de cada categoría. La elección en sí debemos realizarla a mano puesto que no podemos escoger directamente las más frecuentes puesto que con total seguridad entre las más frecuentes se encontrarán verbos, conectores, preposiciones, pronombres, artículos, nombres propios, etc. que no nos serán de utilidad a la hora de determinar la categoría de una película."
   ]
  },
  {
   "cell_type": "markdown",
   "metadata": {},
   "source": [
    "Debemos definir __método que recibirá__ tanto __un conjunto de archivos__ como una __ruta__ donde se encuentran y __contará las palabras__ que aparecen en él __y el número de veces que dichas palabras aparecen__."
   ]
  },
  {
   "cell_type": "markdown",
   "metadata": {},
   "source": [
    "Pero antes, definimos un método que reciba un solo archivo y cuente sus palabras. Este metodo será usado por el método que estamos buscando y los dividimos de esta forma porque debemos buscar en un solo archivo cuando apliquemos los algoritmos de Naive Bayes y kNN."
   ]
  },
  {
   "cell_type": "code",
   "execution_count": 1136,
   "metadata": {
    "collapsed": false
   },
   "outputs": [],
   "source": [
    "def cuenta_palabras_desde_archivo(ruta, archivo):\n",
    "    cuenta_palabras = {}\n",
    "    \n",
    "    file = open(ruta + \"/\" + archivo, \"r\", encoding=\"latin-1\") # Elegimos latin-1 en vez de utf-8 por problemas con las tildes.\n",
    "\n",
    "    for palabra in file.read().split(): # Recorremos el fichero, palabra a palabra.\n",
    "        palabra = palabra.lower() # Pasamos la palabra a minúscula.\n",
    "        # Para perder la menor información posible, reemplazamos ':', ',', ':' y ';', que son los carácteres más típicos que nos podemos encontrar adyacentes a una palabra y que la invalidarían en el siguiente if del algoritmo.\n",
    "        palabra = palabra.replace('.', '')\n",
    "        palabra = palabra.replace(',', '')\n",
    "        palabra = palabra.replace(':', '')\n",
    "        palabra = palabra.replace(';', '')\n",
    "        if palabra.isalpha() is True: # Será true cuando todos los caracteres son alfabéticos y hay al menos uno.\n",
    "            if palabra in cuenta_palabras:\n",
    "                cuenta_palabras[palabra] += 1 # Si la palabra ya existe, entonces incrementa en 1 el número de veces que hace aparición.\n",
    "            else:\n",
    "                cuenta_palabras[palabra] = 1 # Si la palabra no existe, la añade (con valor 1 al número de veces que aparece).\n",
    "\n",
    "    cuenta_palabras\n",
    "    return cuenta_palabras"
   ]
  },
  {
   "cell_type": "markdown",
   "metadata": {},
   "source": [
    "Ahora sí, definimos el método que estamos buscando y que se anunciaba antes:"
   ]
  },
  {
   "cell_type": "code",
   "execution_count": 1137,
   "metadata": {
    "collapsed": false
   },
   "outputs": [],
   "source": [
    "from collections import Counter # Lo usaremos para añadir un diccionario a otro.\n",
    "\n",
    "def cuenta_palabras_desde_archivos(ruta, archivos):\n",
    "    cuenta_palabras = {}\n",
    "    \n",
    "    for archivo in archivos:\n",
    "        new = cuenta_palabras_desde_archivo(ruta, archivo)\n",
    "        cuenta_palabras = dict(Counter(cuenta_palabras)+Counter(new))\n",
    "    \n",
    "    return cuenta_palabras"
   ]
  },
  {
   "cell_type": "markdown",
   "metadata": {},
   "source": [
    "Además, con propósito de limpiar el output que obtendremos vamos a establecer un __umbral__ para desechar todas las palabras que se repitan por debajo del mismo:"
   ]
  },
  {
   "cell_type": "code",
   "execution_count": 1138,
   "metadata": {
    "collapsed": true
   },
   "outputs": [],
   "source": [
    "umbral_repetición = 4"
   ]
  },
  {
   "cell_type": "markdown",
   "metadata": {
    "collapsed": false
   },
   "source": [
    "Y, con el mismo propósito, otro __umbral__ para desechar todas las palabras con una longitud menor a él:"
   ]
  },
  {
   "cell_type": "code",
   "execution_count": 1139,
   "metadata": {
    "collapsed": true
   },
   "outputs": [],
   "source": [
    "umbral_longitud = 4"
   ]
  },
  {
   "cell_type": "markdown",
   "metadata": {},
   "source": [
    "Y, por último, un método que use al anterior que, además, nos __ordene las palabras__ (de mayor a menor uso) __y las muestre__:"
   ]
  },
  {
   "cell_type": "code",
   "execution_count": 1140,
   "metadata": {
    "collapsed": false
   },
   "outputs": [],
   "source": [
    "def cuenta_palabras_desde_archivos_ordenadas(ruta, archivos):\n",
    "    cuenta_palabras = cuenta_palabras_desde_archivos(ruta, archivos)\n",
    "    \n",
    "    lista = [] # Usamos una lista para poder ordenar las palabras.\n",
    "    for palabra, contador in cuenta_palabras.items():\n",
    "        lista.append((contador, palabra))\n",
    "\n",
    "    lista = sorted(lista, reverse = True) # Lo ordenamos y lo invertimos para que las palabras más frecuentes estén arriba.\n",
    "\n",
    "    for aux in lista:\n",
    "        if(aux[0] >= umbral_repetición and len(aux[1]) >= umbral_longitud): # Si la palabra supera los umbrales indicados, se muestra.\n",
    "            print(\"%s \\t %d\" % (aux[1], aux[0]))"
   ]
  },
  {
   "cell_type": "markdown",
   "metadata": {
    "collapsed": true
   },
   "source": [
    "Palabras más frecuentes en: __ACCIÓN__."
   ]
  },
  {
   "cell_type": "code",
   "execution_count": 1141,
   "metadata": {
    "collapsed": false
   },
   "outputs": [
    {
     "name": "stdout",
     "output_type": "stream",
     "text": [
      "para \t 54\n",
      "brian \t 29\n",
      "después \t 24\n",
      "bryan \t 24\n",
      "pero \t 22\n",
      "policía \t 20\n",
      "está \t 20\n",
      "mientras \t 19\n",
      "ethan \t 19\n",
      "coche \t 17\n",
      "quien \t 16\n",
      "mcclane \t 16\n",
      "letty \t 16\n",
      "donde \t 16\n",
      "dice \t 15\n",
      "tiene \t 14\n",
      "ella \t 14\n",
      "equipo \t 13\n",
      "como \t 13\n",
      "martin \t 12\n",
      "cuando \t 12\n",
      "agente \t 12\n",
      "novia \t 11\n",
      "hombres \t 11\n",
      "entonces \t 11\n",
      "encuentra \t 11\n",
      "ellos \t 11\n",
      "cual \t 11\n",
      "hombre \t 10\n",
      "dominic \t 10\n",
      "tras \t 9\n",
      "llega \t 9\n",
      "hunt \t 9\n",
      "aeropuerto \t 9\n",
      "toretto \t 8\n",
      "sobre \t 8\n",
      "owen \t 8\n",
      "luego \t 8\n",
      "hija \t 8\n",
      "había \t 8\n",
      "auto \t 8\n",
      "ahora \t 8\n",
      "virus \t 7\n",
      "todo \t 7\n",
      "tanto \t 7\n",
      "también \t 7\n",
      "shaw \t 7\n",
      "plan \t 7\n",
      "nueva \t 7\n",
      "mills \t 7\n",
      "lenore \t 7\n",
      "gasolina \t 7\n",
      "están \t 7\n",
      "durante \t 7\n",
      "desde \t 7\n",
      "comienza \t 7\n",
      "antes \t 7\n",
      "ambrosio \t 7\n",
      "vive \t 6\n",
      "unidos \t 6\n",
      "todos \t 6\n",
      "tego \t 6\n",
      "sindicato \t 6\n",
      "reúne \t 6\n",
      "puede \t 6\n",
      "película \t 6\n",
      "parte \t 6\n",
      "nyah \t 6\n",
      "lugar \t 6\n",
      "lleva \t 6\n",
      "leonore \t 6\n",
      "john \t 6\n",
      "informa \t 6\n",
      "hasta \t 6\n",
      "grupo \t 6\n",
      "fuera \t 6\n",
      "estados \t 6\n",
      "entrega \t 6\n",
      "embargo \t 6\n",
      "director \t 6\n",
      "descubre \t 6\n",
      "cuerpo \t 6\n",
      "ciudad \t 6\n",
      "casa \t 6\n",
      "carrera \t 6\n",
      "biocyte \t 6\n",
      "bill \t 6\n",
      "banda \t 6\n",
      "ayuda \t 6\n",
      "amigo \t 6\n",
      "ángeles \t 5\n",
      "vida \t 5\n",
      "venganza \t 5\n",
      "varios \t 5\n",
      "unos \t 5\n",
      "tres \t 5\n",
      "tarde \t 5\n",
      "stuart \t 5\n",
      "sigue \t 5\n",
      "seguridad \t 5\n",
      "robo \t 5\n",
      "rico \t 5\n",
      "primera \t 5\n",
      "operación \t 5\n",
      "nekhorvich \t 5\n",
      "mujer \t 5\n",
      "muestra \t 5\n",
      "momento \t 5\n",
      "misión \t 5\n",
      "mccloy \t 5\n",
      "matt \t 5\n",
      "llegan \t 5\n",
      "llamado \t 5\n",
      "llamada \t 5\n",
      "hace \t 5\n",
      "gana \t 5\n",
      "escapar \t 5\n",
      "dinero \t 5\n",
      "dentro \t 5\n",
      "decide \t 5\n",
      "debido \t 5\n",
      "cuenta \t 5\n",
      "contra \t 5\n",
      "cara \t 5\n",
      "belerofonte \t 5\n",
      "años \t 5\n",
      "asesinos \t 5\n",
      "asesinato \t 5\n",
      "arma \t 5\n",
      "advierte \t 5\n",
      "washington \t 4\n",
      "visita \t 4\n",
      "trato \t 4\n",
      "trabajo \t 4\n",
      "tiempo \t 4\n",
      "terrorista \t 4\n",
      "tanque \t 4\n",
      "solo \t 4\n",
      "siguiente \t 4\n",
      "sido \t 4\n",
      "retirado \t 4\n",
      "quimera \t 4\n",
      "queda \t 4\n",
      "programas \t 4\n",
      "posee \t 4\n",
      "poco \t 4\n",
      "pista \t 4\n",
      "pesar \t 4\n",
      "pasar \t 4\n",
      "pasado \t 4\n",
      "parís \t 4\n",
      "otra \t 4\n",
      "número \t 4\n",
      "nombre \t 4\n",
      "nacional \t 4\n",
      "muerte \t 4\n",
      "maletas \t 4\n",
      "líder \t 4\n",
      "logra \t 4\n",
      "local \t 4\n",
      "llegada \t 4\n",
      "jason \t 4\n",
      "jack \t 4\n",
      "investigación \t 4\n",
      "información \t 4\n",
      "hospital \t 4\n",
      "hobbs \t 4\n",
      "fuerza \t 4\n",
      "frank \t 4\n",
      "este \t 4\n",
      "esposa \t 4\n",
      "dólares \t 4\n",
      "dispone \t 4\n",
      "destrucción \t 4\n",
      "departamento \t 4\n",
      "dejar \t 4\n",
      "cámara \t 4\n",
      "carreras \t 4\n",
      "camión \t 4\n",
      "cabeza \t 4\n",
      "bourne \t 4\n",
      "aunque \t 4\n",
      "ataque \t 4\n",
      "amanda \t 4\n"
     ]
    }
   ],
   "source": [
    "cuenta_palabras_desde_archivos_ordenadas(ruta_conjunto_entrenamiento, archivos_entrenamiento_acción)"
   ]
  },
  {
   "cell_type": "markdown",
   "metadata": {},
   "source": [
    "Palabras más frecuentes en: __COMEDIA__."
   ]
  },
  {
   "cell_type": "code",
   "execution_count": 1142,
   "metadata": {
    "collapsed": false
   },
   "outputs": [
    {
     "name": "stdout",
     "output_type": "stream",
     "text": [
      "para \t 47\n",
      "como \t 25\n",
      "esta \t 17\n",
      "cuando \t 16\n",
      "vida \t 15\n",
      "humor \t 15\n",
      "comedia \t 14\n",
      "película \t 13\n",
      "tiene \t 12\n",
      "también \t 12\n",
      "todo \t 11\n",
      "sobre \t 11\n",
      "pero \t 11\n",
      "gags \t 11\n",
      "está \t 11\n",
      "mundo \t 10\n",
      "hilarantes \t 10\n",
      "entre \t 10\n",
      "después \t 10\n",
      "situaciones \t 9\n",
      "país \t 9\n",
      "hasta \t 9\n",
      "años \t 9\n",
      "todos \t 8\n",
      "tiempo \t 8\n",
      "serie \t 8\n",
      "nueva \t 8\n",
      "noche \t 8\n",
      "mike \t 8\n",
      "ellos \t 8\n",
      "divertida \t 8\n",
      "amigos \t 8\n",
      "personajes \t 7\n",
      "personaje \t 7\n",
      "historia \t 7\n",
      "donde \t 7\n",
      "casa \t 7\n",
      "borat \t 7\n",
      "aunque \t 7\n",
      "york \t 6\n",
      "trabajo \t 6\n",
      "sátira \t 6\n",
      "risas \t 6\n",
      "momentos \t 6\n",
      "irreverente \t 6\n",
      "hacen \t 6\n",
      "fiona \t 6\n",
      "embargo \t 6\n",
      "divertido \t 6\n",
      "dictador \t 6\n",
      "desde \t 6\n",
      "absurdo \t 6\n",
      "unos \t 5\n",
      "unidos \t 5\n",
      "tras \t 5\n",
      "toda \t 5\n",
      "tienen \t 5\n",
      "tener \t 5\n",
      "shrek \t 5\n",
      "quien \t 5\n",
      "problemas \t 5\n",
      "poco \t 5\n",
      "pasar \t 5\n",
      "otros \t 5\n",
      "muchos \t 5\n",
      "mucho \t 5\n",
      "monstruos \t 5\n",
      "mientras \t 5\n",
      "kevin \t 5\n",
      "incluso \t 5\n",
      "hacer \t 5\n",
      "guerra \t 5\n",
      "gran \t 5\n",
      "gloria \t 5\n",
      "fuerte \t 5\n",
      "este \t 5\n",
      "ejército \t 5\n",
      "durante \t 5\n",
      "decide \t 5\n",
      "caballeros \t 5\n",
      "bien \t 5\n",
      "baron \t 5\n",
      "algunos \t 5\n",
      "tópicos \t 4\n",
      "sulley \t 4\n",
      "suerte \t 4\n",
      "solo \t 4\n",
      "simpáticos \t 4\n",
      "siempre \t 4\n",
      "sido \t 4\n",
      "será \t 4\n",
      "secreto \t 4\n",
      "salir \t 4\n",
      "reino \t 4\n",
      "propia \t 4\n",
      "pesar \t 4\n",
      "novio \t 4\n",
      "nada \t 4\n",
      "mismo \t 4\n",
      "minions \t 4\n",
      "menos \t 4\n",
      "melman \t 4\n",
      "mejores \t 4\n",
      "mejor \t 4\n",
      "mayor \t 4\n",
      "marty \t 4\n",
      "llegar \t 4\n",
      "llega \t 4\n",
      "llamado \t 4\n",
      "isla \t 4\n",
      "incorrecto \t 4\n",
      "hynkel \t 4\n",
      "hilarante \t 4\n",
      "hermanas \t 4\n",
      "grupo \t 4\n",
      "geniales \t 4\n",
      "familia \t 4\n",
      "están \t 4\n",
      "estos \t 4\n",
      "estados \t 4\n",
      "doug \t 4\n",
      "dentro \t 4\n",
      "delirante \t 4\n",
      "daniel \t 4\n",
      "cuenta \t 4\n",
      "crítica \t 4\n",
      "cohen \t 4\n",
      "boda \t 4\n",
      "barbero \t 4\n",
      "arturo \t 4\n",
      "alex \t 4\n",
      "alan \t 4\n",
      "ahora \t 4\n",
      "además \t 4\n",
      "absurdas \t 4\n"
     ]
    }
   ],
   "source": [
    "cuenta_palabras_desde_archivos_ordenadas(ruta_conjunto_entrenamiento, archivos_entrenamiento_comedia)"
   ]
  },
  {
   "cell_type": "markdown",
   "metadata": {
    "collapsed": false
   },
   "source": [
    "Palabras más frecuentes en: __TERROR__."
   ]
  },
  {
   "cell_type": "code",
   "execution_count": 1143,
   "metadata": {
    "collapsed": false
   },
   "outputs": [
    {
     "name": "stdout",
     "output_type": "stream",
     "text": [
      "lorraine \t 17\n",
      "casa \t 17\n",
      "carolyn \t 17\n",
      "aunque \t 15\n",
      "cuando \t 12\n",
      "april \t 11\n",
      "tras \t 10\n",
      "ella \t 10\n",
      "alguien \t 10\n",
      "todo \t 8\n",
      "mujer \t 8\n",
      "donde \t 8\n",
      "sobre \t 7\n",
      "siendo \t 7\n",
      "para \t 7\n",
      "habitación \t 7\n",
      "exorcismo \t 7\n",
      "espíritu \t 7\n",
      "warren \t 6\n",
      "roger \t 6\n",
      "muñeca \t 6\n",
      "cómo \t 6\n",
      "armario \t 6\n",
      "viendo \t 5\n",
      "ruidos \t 5\n",
      "observando \t 5\n",
      "noche \t 5\n",
      "mientras \t 5\n",
      "judy \t 5\n",
      "hija \t 5\n",
      "hacia \t 5\n",
      "está \t 5\n",
      "como \t 5\n",
      "allí \t 5\n",
      "todos \t 4\n",
      "tiene \t 4\n",
      "sótano \t 4\n",
      "suelo \t 4\n",
      "siguiente \t 4\n",
      "rory \t 4\n",
      "puerta \t 4\n",
      "padre \t 4\n",
      "lugar \t 4\n",
      "hijo \t 4\n",
      "hijas \t 4\n",
      "familia \t 4\n",
      "escucha \t 4\n",
      "entretanto \t 4\n",
      "encontrando \t 4\n",
      "dice \t 4\n",
      "descubre \t 4\n",
      "debe \t 4\n",
      "cual \t 4\n",
      "contra \t 4\n",
      "consigue \t 4\n",
      "christine \t 4\n",
      "annabelle \t 4\n"
     ]
    }
   ],
   "source": [
    "cuenta_palabras_desde_archivos_ordenadas(ruta_conjunto_entrenamiento, archivos_entrenamiento_terror)"
   ]
  },
  {
   "cell_type": "markdown",
   "metadata": {
    "collapsed": true
   },
   "source": [
    "Palabras más frecuentes en: __BÉLICO__."
   ]
  },
  {
   "cell_type": "code",
   "execution_count": 1144,
   "metadata": {
    "collapsed": false
   },
   "outputs": [
    {
     "name": "stdout",
     "output_type": "stream",
     "text": [
      "para \t 44\n",
      "guerra \t 39\n",
      "como \t 24\n",
      "ejército \t 22\n",
      "sargento \t 21\n",
      "soldados \t 19\n",
      "está \t 18\n",
      "durante \t 18\n",
      "general \t 16\n",
      "cuando \t 16\n",
      "grupo \t 14\n",
      "sobre \t 12\n",
      "hombres \t 12\n",
      "hitler \t 12\n",
      "combate \t 12\n",
      "este \t 11\n",
      "tres \t 10\n",
      "tras \t 10\n",
      "todo \t 10\n",
      "patoso \t 10\n",
      "misión \t 10\n",
      "mientras \t 10\n",
      "después \t 10\n",
      "ante \t 10\n",
      "unidos \t 9\n",
      "quien \t 9\n",
      "pero \t 9\n",
      "matar \t 9\n",
      "estados \t 9\n",
      "contra \t 9\n",
      "teniente \t 8\n",
      "stauffenberg \t 8\n",
      "pelotón \t 8\n",
      "james \t 8\n",
      "ellos \t 8\n",
      "capitán \t 8\n",
      "alemán \t 8\n",
      "alemanes \t 8\n",
      "vietnam \t 7\n",
      "tiene \t 7\n",
      "tiempo \t 7\n",
      "solo \t 7\n",
      "recibe \t 7\n",
      "raine \t 7\n",
      "policías \t 7\n",
      "parte \t 7\n",
      "japonés \t 7\n",
      "isla \t 7\n",
      "historia \t 7\n",
      "estadounidenses \t 7\n",
      "estadounidense \t 7\n",
      "entre \t 7\n",
      "edificio \t 7\n",
      "donde \t 7\n",
      "coronel \t 7\n",
      "compañeros \t 7\n",
      "comienza \t 7\n",
      "batalla \t 7\n",
      "albert \t 7\n",
      "vietnamita \t 6\n",
      "todos \t 6\n",
      "también \t 6\n",
      "soldado \t 6\n",
      "sido \t 6\n",
      "regimiento \t 6\n",
      "primera \t 6\n",
      "pesar \t 6\n",
      "otros \t 6\n",
      "ordena \t 6\n",
      "operación \t 6\n",
      "oficial \t 6\n",
      "nuevo \t 6\n",
      "norman \t 6\n",
      "marina \t 6\n",
      "mando \t 6\n",
      "kuribayashi \t 6\n",
      "infantería \t 6\n",
      "hombre \t 6\n",
      "están \t 6\n",
      "equipo \t 6\n",
      "desde \t 6\n",
      "bajo \t 6\n",
      "algren \t 6\n",
      "zaitsev \t 5\n",
      "vida \t 5\n",
      "tropas \t 5\n",
      "tomar \t 5\n",
      "segunda \t 5\n",
      "ryan \t 5\n",
      "riyadi \t 5\n",
      "recluta \t 5\n",
      "película \t 5\n",
      "país \t 5\n",
      "orden \t 5\n",
      "mundial \t 5\n",
      "mismo \t 5\n",
      "marines \t 5\n",
      "lugar \t 5\n",
      "llega \t 5\n",
      "llamado \t 5\n",
      "imperial \t 5\n",
      "fuego \t 5\n",
      "estado \t 5\n",
      "enemigo \t 5\n",
      "encuentran \t 5\n",
      "dice \t 5\n",
      "descubre \t 5\n",
      "danilov \t 5\n",
      "ciudad \t 5\n",
      "cabo \t 5\n",
      "antes \t 5\n",
      "willard \t 4\n",
      "vuelve \t 4\n",
      "unidad \t 4\n",
      "tripulación \t 4\n",
      "tarde \t 4\n",
      "tanto \t 4\n",
      "tanque \t 4\n",
      "superiores \t 4\n",
      "sanborn \t 4\n",
      "saigo \t 4\n",
      "resto \t 4\n",
      "reclutas \t 4\n",
      "rama \t 4\n",
      "provoca \t 4\n",
      "propios \t 4\n",
      "prisioneros \t 4\n",
      "potro \t 4\n",
      "policía \t 4\n",
      "padre \t 4\n",
      "muerte \t 4\n",
      "militares \t 4\n",
      "militar \t 4\n",
      "mayor \t 4\n",
      "mata \t 4\n",
      "llegar \t 4\n",
      "kashiwara \t 4\n",
      "jungla \t 4\n",
      "joven \t 4\n",
      "jima \t 4\n",
      "invasión \t 4\n",
      "highway \t 4\n",
      "helicópteros \t 4\n",
      "hartman \t 4\n",
      "hace \t 4\n",
      "habla \t 4\n",
      "gravemente \t 4\n",
      "gran \t 4\n",
      "führer \t 4\n",
      "francés \t 4\n",
      "force \t 4\n",
      "familia \t 4\n",
      "enviado \t 4\n",
      "entonces \t 4\n",
      "ello \t 4\n",
      "eldridge \t 4\n",
      "división \t 4\n",
      "dengler \t 4\n",
      "delta \t 4\n",
      "delincuentes \t 4\n",
      "cual \t 4\n",
      "considera \t 4\n",
      "compañía \t 4\n",
      "colina \t 4\n",
      "cinco \t 4\n",
      "casa \t 4\n",
      "caballo \t 4\n",
      "bufón \t 4\n",
      "años \t 4\n",
      "amigo \t 4\n",
      "alemanas \t 4\n",
      "agentes \t 4\n",
      "además \t 4\n"
     ]
    }
   ],
   "source": [
    "cuenta_palabras_desde_archivos_ordenadas(ruta_conjunto_entrenamiento, archivos_entrenamiento_bélico)"
   ]
  },
  {
   "cell_type": "markdown",
   "metadata": {},
   "source": [
    "Palabras más frecuentes en: __WESTERN__."
   ]
  },
  {
   "cell_type": "code",
   "execution_count": 1145,
   "metadata": {
    "collapsed": false
   },
   "outputs": [
    {
     "name": "stdout",
     "output_type": "stream",
     "text": [
      "pueblo \t 32\n",
      "para \t 31\n",
      "pero \t 28\n",
      "cuando \t 24\n",
      "como \t 20\n",
      "donde \t 15\n",
      "hijo \t 14\n",
      "joven \t 13\n",
      "entre \t 13\n",
      "amigo \t 13\n",
      "tras \t 12\n",
      "sheriff \t 12\n",
      "pistolero \t 11\n",
      "banda \t 11\n",
      "historia \t 10\n",
      "guerra \t 10\n",
      "thorton \t 9\n",
      "también \t 9\n",
      "stoddard \t 9\n",
      "película \t 9\n",
      "mujer \t 9\n",
      "mismo \t 9\n",
      "hombre \t 9\n",
      "familia \t 9\n",
      "está \t 9\n",
      "esposa \t 9\n",
      "diligencia \t 9\n",
      "camino \t 9\n",
      "unos \t 8\n",
      "quien \t 8\n",
      "pequeño \t 8\n",
      "parte \t 8\n",
      "mientras \t 8\n",
      "había \t 8\n",
      "grupo \t 8\n",
      "evans \t 8\n",
      "encuentran \t 8\n",
      "ante \t 8\n",
      "allí \t 8\n",
      "además \t 8\n",
      "tiempo \t 7\n",
      "rojo \t 7\n",
      "padre \t 7\n",
      "morgan \t 7\n",
      "mccabe \t 7\n",
      "llegan \t 7\n",
      "llega \t 7\n",
      "hombres \t 7\n",
      "hermano \t 7\n",
      "este \t 7\n",
      "embargo \t 7\n",
      "después \t 7\n",
      "consigue \t 7\n",
      "ciudad \t 7\n",
      "belden \t 7\n",
      "años \t 7\n",
      "antes \t 7\n",
      "vida \t 6\n",
      "venganza \t 6\n",
      "todos \t 6\n",
      "tiene \t 6\n",
      "shane \t 6\n",
      "poco \t 6\n",
      "otro \t 6\n",
      "nombre \t 6\n",
      "matt \t 6\n",
      "hasta \t 6\n",
      "hacia \t 6\n",
      "ganado \t 6\n",
      "fuerte \t 6\n",
      "encuentra \t 6\n",
      "ejército \t 6\n",
      "dunson \t 6\n",
      "decide \t 6\n",
      "aunque \t 6\n",
      "tres \t 5\n",
      "trata \t 5\n",
      "toda \t 5\n",
      "tendero \t 5\n",
      "sargento \t 5\n",
      "regresa \t 5\n",
      "recompensas \t 5\n",
      "recompensa \t 5\n",
      "recibe \t 5\n",
      "pesar \t 5\n",
      "méxico \t 5\n",
      "muerte \t 5\n",
      "manera \t 5\n",
      "hermanos \t 5\n",
      "finalmente \t 5\n",
      "final \t 5\n",
      "esta \t 5\n",
      "ellos \t 5\n",
      "earp \t 5\n",
      "duelo \t 5\n",
      "debe \t 5\n",
      "contra \t 5\n",
      "cazarrecompensas \t 5\n",
      "capitán \t 5\n",
      "bandidos \t 5\n",
      "antiguo \t 5\n",
      "éste \t 4\n",
      "wyatt \t 4\n",
      "western \t 4\n",
      "wade \t 4\n",
      "vive \t 4\n",
      "viejo \t 4\n",
      "unidos \t 4\n",
      "tanto \t 4\n",
      "starrett \t 4\n",
      "soldados \t 4\n",
      "sobre \t 4\n",
      "siete \t 4\n",
      "siente \t 4\n",
      "secesión \t 4\n",
      "ringo \t 4\n",
      "propio \t 4\n",
      "primera \t 4\n",
      "presencia \t 4\n",
      "pasado \t 4\n",
      "otros \t 4\n",
      "niño \t 4\n",
      "muestra \t 4\n",
      "mcdonald \t 4\n",
      "mayor \t 4\n",
      "lugar \t 4\n",
      "logra \t 4\n",
      "llegar \t 4\n",
      "llamado \t 4\n",
      "josey \t 4\n",
      "john \t 4\n",
      "indio \t 4\n",
      "huir \t 4\n",
      "holliday \t 4\n",
      "hijos \t 4\n",
      "granjero \t 4\n",
      "estados \t 4\n",
      "ello \t 4\n",
      "durante \t 4\n",
      "clanton \t 4\n",
      "chico \t 4\n",
      "cambio \t 4\n",
      "calvera \t 4\n",
      "cadáver \t 4\n",
      "búsqueda \t 4\n",
      "buscar \t 4\n",
      "bueno \t 4\n",
      "brittles \t 4\n",
      "ayuda \t 4\n",
      "asesino \t 4\n",
      "armas \t 4\n",
      "amigos \t 4\n",
      "ambos \t 4\n",
      "acaba \t 4\n"
     ]
    }
   ],
   "source": [
    "cuenta_palabras_desde_archivos_ordenadas(ruta_conjunto_entrenamiento, archivos_entrenamiento_western)"
   ]
  },
  {
   "cell_type": "markdown",
   "metadata": {},
   "source": [
    "Una vez realizado el estudio, inicializamos manualmente las __palabras clave__ de cada __categoría__, usaremos unas 20 palabras para cada una de ellas (podrán repetirse entre categorías)."
   ]
  },
  {
   "cell_type": "code",
   "execution_count": 1146,
   "metadata": {
    "collapsed": false
   },
   "outputs": [],
   "source": [
    "# Las inicializamos como conjuntos ya que no nos interesa el orden y, además, no se permiten duplicados.\n",
    "palabras_clave_acción = {\"policía\", \"coche\", \"agente\", \"auto\", \"escapar\", \"carrera\", \"seguridad\", \"llamada\", \"gasolina\", \"problemas\", \"operación\", \"escapa\", \"venganza\", \"prisión\", \"muerte\", \"hospital\", \"carreras\", \"ataque\", \"arma\", \"asesino\", \"asesina\", \"asesinos\", \"terrorista\", \"terroristas\", \"persecución\", \"muerto\", \"investigación\", \"destrucción\", \"bomba\"}\n",
    "palabras_clave_comedia = {\"incorrecto\", \"simpáticos\", \"alegre\", \"carcajadas\", \"cómica\", \"cómicos\", \"delirante\", \"divertidos\", \"irreverente\", \"risas\", \"sátira\", \"divertido\", \"divertida\", \"gags\", \"hilarantes\", \"humor\", \"tópicos\", \"crítica\", \"absurdo\", \"hilarante\", \"absurdas\", \"extravagante\"}\n",
    "palabras_clave_terror = {}\n",
    "palabras_clave_bélico = {\"guerra\", \"ejército\", \"sargento\", \"soldados\", \"general\", \"grupo\", \"hombres\", \"combate\", \"misión\", \"unidos\", \"matar\", \"teniente\", \"capitán\", \"alemán\", \"alemanes\", \"vietnam\", \"estadounidense\", \"estadounidenses\", \"soldado\", \"regimiento\", \"operación\", \"oficial\", \"infantería\", \"cabo\", \"enemigo\"}\n",
    "palabras_clave_western = {\"pueblo\", \"hijo\", \"joven\", \"amigo\", \"sheriff\", \"pistolero\", \"banda\", \"guerra\", \"diligencia\", \"camino\", \"duelo\", \"bandidos\", \"granjero\", \"asesino\", \"revólver\", \"arma\", \"armas\", \"desierto\", \"oeste\"}"
   ]
  },
  {
   "cell_type": "markdown",
   "metadata": {},
   "source": [
    "Y, a continuación, añadimos todas las palabras clave de cada categoría a un nuevo conjunto que contenga __todas las palabras clave__."
   ]
  },
  {
   "cell_type": "code",
   "execution_count": 1147,
   "metadata": {
    "collapsed": false
   },
   "outputs": [
    {
     "name": "stdout",
     "output_type": "stream",
     "text": [
      "Las palabras clave son: {'carreras', 'muerto', 'divertida', 'hijo', 'sargento', 'grupo', 'sheriff', 'enemigo', 'hospital', 'bandidos', 'amigo', 'capitán', 'delirante', 'bomba', 'misión', 'infantería', 'escapar', 'regimiento', 'banda', 'revólver', 'cabo', 'risas', 'estadounidenses', 'muerte', 'pueblo', 'problemas', 'gasolina', 'escapa', 'sátira', 'terroristas', 'alegre', 'investigación', 'duelo', 'seguridad', 'agente', 'prisión', 'asesinos', 'joven', 'armas', 'vietnam', 'absurdo', 'pistolero', 'auto', 'ejército', 'simpáticos', 'humor', 'arma', 'absurdas', 'soldado', 'irreverente', 'destrucción', 'cómica', 'llamada', 'coche', 'asesina', 'carcajadas', 'divertido', 'venganza', 'soldados', 'cómicos', 'incorrecto', 'hilarante', 'general', 'carrera', 'combate', 'diligencia', 'crítica', 'divertidos', 'camino', 'estadounidense', 'unidos', 'granjero', 'matar', 'oficial', 'terrorista', 'hilarantes', 'alemán', 'guerra', 'tópicos', 'extravagante', 'operación', 'ataque', 'gags', 'policía', 'persecución', 'teniente', 'desierto', 'hombres', 'asesino', 'alemanes', 'oeste'}\n"
     ]
    }
   ],
   "source": [
    "palabras_clave = set()\n",
    "# Update nos permite añadir el contenido de un set a otro set\n",
    "palabras_clave.update(palabras_clave_acción)\n",
    "palabras_clave.update(palabras_clave_comedia)\n",
    "palabras_clave.update(palabras_clave_terror)\n",
    "palabras_clave.update(palabras_clave_bélico)\n",
    "palabras_clave.update(palabras_clave_western)\n",
    "print(\"Las palabras clave son: %s\" % (palabras_clave))"
   ]
  },
  {
   "cell_type": "markdown",
   "metadata": {},
   "source": [
    "## Parte IV: Procesamiento"
   ]
  },
  {
   "cell_type": "markdown",
   "metadata": {
    "collapsed": true
   },
   "source": [
    "En esta parte se va a llevar a cabo el procesamiento de datos para posteriormente utilizarlos en los algoritmos de __Naive Bayes__ y __kNN__."
   ]
  },
  {
   "cell_type": "markdown",
   "metadata": {},
   "source": [
    "Puesto que se deben realizar cálculos distintos para cada algoritmo, dividiremos esta sección en dos subsecciones:"
   ]
  },
  {
   "cell_type": "markdown",
   "metadata": {},
   "source": [
    "### Parte IV-A: Procesamiento de Naive Bayes"
   ]
  },
  {
   "cell_type": "markdown",
   "metadata": {},
   "source": [
    "Para aplicar el algoritmo Naive Bayes primero debemos calcular todos los __P(c)__ ___(probabilidad de \"c\")___ y los __P(t|c)__ ___(probabilidad de \"t\" condicionada a \"c\")___."
   ]
  },
  {
   "cell_type": "markdown",
   "metadata": {},
   "source": [
    "En este caso __\"c\"__ sería nuestra categoría y __\"t\"__ cada palabra clave."
   ]
  },
  {
   "cell_type": "markdown",
   "metadata": {},
   "source": [
    "Primero, vamos a calcular los __P(c)__. Para ello, tenemos que contar el número de documentos de la categoría en cuestión existentes en nuestro conjunto de entrenamiento y dividirlo entre el número total de documentos de nuestro conjunto de entrenamiento. Así pues, por ejemplo, la probabilidad de acción (__P(acción)__) sería el número resultante de dividir el total de documentos catalogados como \"acción\" de nuestro conjunto de entrenamiento entre el número total de documentos del conjunto de entrenamiento."
   ]
  },
  {
   "cell_type": "markdown",
   "metadata": {},
   "source": [
    "Como tenemos un conjunto con todos los archivos de entrenamiento y un conjunto específico por cada categoría:"
   ]
  },
  {
   "cell_type": "code",
   "execution_count": 1148,
   "metadata": {
    "collapsed": false
   },
   "outputs": [
    {
     "name": "stdout",
     "output_type": "stream",
     "text": [
      "P(acción) = \t 0.233333\n"
     ]
    }
   ],
   "source": [
    "probabilidad_acción = len(archivos_entrenamiento_acción) / len(archivos_entrenamiento)\n",
    "print(\"P(acción) = \\t %f\" % (probabilidad_acción))"
   ]
  },
  {
   "cell_type": "code",
   "execution_count": 1149,
   "metadata": {
    "collapsed": false
   },
   "outputs": [
    {
     "name": "stdout",
     "output_type": "stream",
     "text": [
      "P(comedia) = \t 0.266667\n"
     ]
    }
   ],
   "source": [
    "probabilidad_comedia = len(archivos_entrenamiento_comedia) / len(archivos_entrenamiento)\n",
    "print(\"P(comedia) = \\t %f\" % (probabilidad_comedia))"
   ]
  },
  {
   "cell_type": "code",
   "execution_count": 1150,
   "metadata": {
    "collapsed": false
   },
   "outputs": [
    {
     "name": "stdout",
     "output_type": "stream",
     "text": [
      "P(terror) = \t 0.011111\n"
     ]
    }
   ],
   "source": [
    "probabilidad_terror = len(archivos_entrenamiento_terror) / len(archivos_entrenamiento)\n",
    "print(\"P(terror) = \\t %f\" % (probabilidad_terror))"
   ]
  },
  {
   "cell_type": "code",
   "execution_count": 1151,
   "metadata": {
    "collapsed": false
   },
   "outputs": [
    {
     "name": "stdout",
     "output_type": "stream",
     "text": [
      "P(bélico) = \t 0.233333\n"
     ]
    }
   ],
   "source": [
    "probabilidad_bélico = len(archivos_entrenamiento_bélico) / len(archivos_entrenamiento)\n",
    "print(\"P(bélico) = \\t %f\" % (probabilidad_bélico))"
   ]
  },
  {
   "cell_type": "code",
   "execution_count": 1152,
   "metadata": {
    "collapsed": false
   },
   "outputs": [
    {
     "name": "stdout",
     "output_type": "stream",
     "text": [
      "P(western) = \t 0.255556\n"
     ]
    }
   ],
   "source": [
    "probabilidad_western = len(archivos_entrenamiento_western) / len(archivos_entrenamiento)\n",
    "print(\"P(western) = \\t %f\" % (probabilidad_western))"
   ]
  },
  {
   "cell_type": "markdown",
   "metadata": {},
   "source": [
    "Sólo para asegurarnos, todas las probabilidades deben sumar __~1__ en este apartado:"
   ]
  },
  {
   "cell_type": "code",
   "execution_count": 1153,
   "metadata": {
    "collapsed": false
   },
   "outputs": [
    {
     "name": "stdout",
     "output_type": "stream",
     "text": [
      "Suma de probabilidades (debe ser ~1) \t 1.000000\n"
     ]
    }
   ],
   "source": [
    "print(\"Suma de probabilidades (debe ser ~1) \\t %f\" % (probabilidad_acción + probabilidad_comedia + probabilidad_terror + probabilidad_bélico + probabilidad_western))"
   ]
  },
  {
   "cell_type": "markdown",
   "metadata": {},
   "source": [
    "Ahora, para calcular los __P(t|c)__ será un poco más complejo. Para llevar a cabo esta tarea haremos uso de __un diccionario por cada categoría__ que __relacionará palabras clave con su probabilidad condicionada a la categoría del diccionario__. De nuevo, tomaremos la categoría \"acción\" como ejemplo: el diccionario \"probabilidad_palabraclave_acción\" recogerá, por cada palabra clave, su probabilidad condiccionada a la categoría acción, es decir, su __P(t|acción__), siendo \"t\" cada entrada del diccionario."
   ]
  },
  {
   "cell_type": "markdown",
   "metadata": {},
   "source": [
    "Pero antes de empezar, definiremos un método, que utilizaremos en los siguientes pasos, que genere cada diccionario deseado como salida y, además, le __aplique un suavizado de LaPlace__:"
   ]
  },
  {
   "cell_type": "code",
   "execution_count": 1154,
   "metadata": {
    "collapsed": false
   },
   "outputs": [],
   "source": [
    "def crea_diccionario_probabilidades_condicionadas(archivos_entrenamiento_categoría, palabras_clave_categoría):\n",
    "    probabilidades_condicionadas = {}\n",
    "    cuenta_palabras_categoría = cuenta_palabras_desde_archivos(ruta_conjunto_entrenamiento, archivos_entrenamiento_categoría) # Almacena las palabras clave de la categoría y el número de veces que se repiten.\n",
    "    \n",
    "    número_palabras_clave_totales = len(palabras_clave) # Número de palabras clave que poseemos en total.\n",
    "    número_palabras_clave_categoría = sum(cuenta_palabras_categoría.values())\n",
    "    \n",
    "    for palabra_clave in palabras_clave:\n",
    "        if palabra_clave in cuenta_palabras_categoría:\n",
    "            número_veces_aparece_palabra_en_categoría = cuenta_palabras_categoría[palabra_clave] # Número de veces que la palabra clave se repite en esta categoría.\n",
    "        else:\n",
    "            número_veces_aparece_palabra_en_categoría = 0\n",
    "        result = ((número_veces_aparece_palabra_en_categoría + 1) / (número_palabras_clave_categoría + número_palabras_clave_totales)) # Añadimos 1 en el numerador y el número de palabras claves totales en el denominador para aplicar el suavizado.\n",
    "        probabilidades_condicionadas[palabra_clave] = result\n",
    "    \n",
    "    return probabilidades_condicionadas"
   ]
  },
  {
   "cell_type": "markdown",
   "metadata": {},
   "source": [
    "También vamos a crear un pequeño método que nos ayude a visualizar las probabilidades condicionadas:"
   ]
  },
  {
   "cell_type": "code",
   "execution_count": 1155,
   "metadata": {
    "collapsed": false
   },
   "outputs": [],
   "source": [
    "def mostrar_diccionario_probabilidades_condicionadas(diccionario, categoría):\n",
    "    for entrada in diccionario:\n",
    "        print(\"P(%s|%s) = \\t %f\" % (entrada, categoría, diccionario[entrada]))"
   ]
  },
  {
   "cell_type": "markdown",
   "metadata": {},
   "source": [
    "Ahora, empezamos con el cálculo en sí:"
   ]
  },
  {
   "cell_type": "code",
   "execution_count": 1156,
   "metadata": {
    "collapsed": false
   },
   "outputs": [
    {
     "name": "stdout",
     "output_type": "stream",
     "text": [
      "P(carreras|acción) = \t 0.000795\n",
      "P(muerto|acción) = \t 0.000636\n",
      "P(divertida|acción) = \t 0.000159\n",
      "P(hijo|acción) = \t 0.000636\n",
      "P(sargento|acción) = \t 0.000318\n",
      "P(grupo|acción) = \t 0.001113\n",
      "P(sheriff|acción) = \t 0.000159\n",
      "P(enemigo|acción) = \t 0.000159\n",
      "P(hospital|acción) = \t 0.000795\n",
      "P(bandidos|acción) = \t 0.000159\n",
      "P(amigo|acción) = \t 0.001113\n",
      "P(capitán|acción) = \t 0.000318\n",
      "P(delirante|acción) = \t 0.000159\n",
      "P(bomba|acción) = \t 0.000636\n",
      "P(misión|acción) = \t 0.000954\n",
      "P(infantería|acción) = \t 0.000159\n",
      "P(escapar|acción) = \t 0.000954\n",
      "P(regimiento|acción) = \t 0.000159\n",
      "P(banda|acción) = \t 0.001113\n",
      "P(revólver|acción) = \t 0.000159\n",
      "P(cabo|acción) = \t 0.000159\n",
      "P(risas|acción) = \t 0.000159\n",
      "P(estadounidenses|acción) = \t 0.000318\n",
      "P(muerte|acción) = \t 0.000795\n",
      "P(pueblo|acción) = \t 0.000159\n",
      "P(problemas|acción) = \t 0.000477\n",
      "P(gasolina|acción) = \t 0.001272\n",
      "P(escapa|acción) = \t 0.000636\n",
      "P(sátira|acción) = \t 0.000159\n",
      "P(terroristas|acción) = \t 0.000318\n",
      "P(alegre|acción) = \t 0.000159\n",
      "P(investigación|acción) = \t 0.000795\n",
      "P(duelo|acción) = \t 0.000159\n",
      "P(seguridad|acción) = \t 0.000954\n",
      "P(agente|acción) = \t 0.002067\n",
      "P(prisión|acción) = \t 0.000318\n",
      "P(asesinos|acción) = \t 0.000954\n",
      "P(joven|acción) = \t 0.000318\n",
      "P(armas|acción) = \t 0.000318\n",
      "P(vietnam|acción) = \t 0.000159\n",
      "P(absurdo|acción) = \t 0.000159\n",
      "P(pistolero|acción) = \t 0.000159\n",
      "P(auto|acción) = \t 0.001431\n",
      "P(ejército|acción) = \t 0.000318\n",
      "P(simpáticos|acción) = \t 0.000159\n",
      "P(humor|acción) = \t 0.000159\n",
      "P(arma|acción) = \t 0.000954\n",
      "P(absurdas|acción) = \t 0.000159\n",
      "P(soldado|acción) = \t 0.000159\n",
      "P(irreverente|acción) = \t 0.000159\n",
      "P(destrucción|acción) = \t 0.000795\n",
      "P(cómica|acción) = \t 0.000159\n",
      "P(llamada|acción) = \t 0.000954\n",
      "P(coche|acción) = \t 0.002862\n",
      "P(asesina|acción) = \t 0.000636\n",
      "P(carcajadas|acción) = \t 0.000159\n",
      "P(divertido|acción) = \t 0.000159\n",
      "P(venganza|acción) = \t 0.000954\n",
      "P(soldados|acción) = \t 0.000159\n",
      "P(cómicos|acción) = \t 0.000159\n",
      "P(incorrecto|acción) = \t 0.000159\n",
      "P(hilarante|acción) = \t 0.000159\n",
      "P(general|acción) = \t 0.000318\n",
      "P(carrera|acción) = \t 0.001113\n",
      "P(combate|acción) = \t 0.000477\n",
      "P(diligencia|acción) = \t 0.000159\n",
      "P(crítica|acción) = \t 0.000159\n",
      "P(divertidos|acción) = \t 0.000159\n",
      "P(camino|acción) = \t 0.000159\n",
      "P(estadounidense|acción) = \t 0.000159\n",
      "P(unidos|acción) = \t 0.001113\n",
      "P(granjero|acción) = \t 0.000159\n",
      "P(matar|acción) = \t 0.000318\n",
      "P(oficial|acción) = \t 0.000636\n",
      "P(terrorista|acción) = \t 0.000795\n",
      "P(hilarantes|acción) = \t 0.000159\n",
      "P(alemán|acción) = \t 0.000318\n",
      "P(guerra|acción) = \t 0.000477\n",
      "P(tópicos|acción) = \t 0.000159\n",
      "P(extravagante|acción) = \t 0.000159\n",
      "P(operación|acción) = \t 0.000954\n",
      "P(ataque|acción) = \t 0.000795\n",
      "P(gags|acción) = \t 0.000159\n",
      "P(policía|acción) = \t 0.003339\n",
      "P(persecución|acción) = \t 0.000636\n",
      "P(teniente|acción) = \t 0.000477\n",
      "P(desierto|acción) = \t 0.000318\n",
      "P(hombres|acción) = \t 0.001908\n",
      "P(asesino|acción) = \t 0.000636\n",
      "P(alemanes|acción) = \t 0.000159\n",
      "P(oeste|acción) = \t 0.000159\n"
     ]
    }
   ],
   "source": [
    "probabilidad_palabraclave_acción = crea_diccionario_probabilidades_condicionadas(archivos_entrenamiento_acción, palabras_clave_acción)\n",
    "\n",
    "mostrar_diccionario_probabilidades_condicionadas(probabilidad_palabraclave_acción, \"acción\")"
   ]
  },
  {
   "cell_type": "code",
   "execution_count": 1157,
   "metadata": {
    "collapsed": false
   },
   "outputs": [
    {
     "name": "stdout",
     "output_type": "stream",
     "text": [
      "P(carreras|comedia) = \t 0.000179\n",
      "P(muerto|comedia) = \t 0.000179\n",
      "P(divertida|comedia) = \t 0.001612\n",
      "P(hijo|comedia) = \t 0.000537\n",
      "P(sargento|comedia) = \t 0.000179\n",
      "P(grupo|comedia) = \t 0.000896\n",
      "P(sheriff|comedia) = \t 0.000358\n",
      "P(enemigo|comedia) = \t 0.000179\n",
      "P(hospital|comedia) = \t 0.000358\n",
      "P(bandidos|comedia) = \t 0.000179\n",
      "P(amigo|comedia) = \t 0.000717\n",
      "P(capitán|comedia) = \t 0.000179\n",
      "P(delirante|comedia) = \t 0.000896\n",
      "P(bomba|comedia) = \t 0.000179\n",
      "P(misión|comedia) = \t 0.000537\n",
      "P(infantería|comedia) = \t 0.000179\n",
      "P(escapar|comedia) = \t 0.000179\n",
      "P(regimiento|comedia) = \t 0.000179\n",
      "P(banda|comedia) = \t 0.000179\n",
      "P(revólver|comedia) = \t 0.000179\n",
      "P(cabo|comedia) = \t 0.000358\n",
      "P(risas|comedia) = \t 0.001254\n",
      "P(estadounidenses|comedia) = \t 0.000179\n",
      "P(muerte|comedia) = \t 0.000358\n",
      "P(pueblo|comedia) = \t 0.000717\n",
      "P(problemas|comedia) = \t 0.001075\n",
      "P(gasolina|comedia) = \t 0.000179\n",
      "P(escapa|comedia) = \t 0.000358\n",
      "P(sátira|comedia) = \t 0.001254\n",
      "P(terroristas|comedia) = \t 0.000179\n",
      "P(alegre|comedia) = \t 0.000717\n",
      "P(investigación|comedia) = \t 0.000179\n",
      "P(duelo|comedia) = \t 0.000179\n",
      "P(seguridad|comedia) = \t 0.000537\n",
      "P(agente|comedia) = \t 0.000179\n",
      "P(prisión|comedia) = \t 0.000537\n",
      "P(asesinos|comedia) = \t 0.000179\n",
      "P(joven|comedia) = \t 0.000358\n",
      "P(armas|comedia) = \t 0.000358\n",
      "P(vietnam|comedia) = \t 0.000179\n",
      "P(absurdo|comedia) = \t 0.001254\n",
      "P(pistolero|comedia) = \t 0.000179\n",
      "P(auto|comedia) = \t 0.000179\n",
      "P(ejército|comedia) = \t 0.001075\n",
      "P(simpáticos|comedia) = \t 0.000896\n",
      "P(humor|comedia) = \t 0.002866\n",
      "P(arma|comedia) = \t 0.000179\n",
      "P(absurdas|comedia) = \t 0.000896\n",
      "P(soldado|comedia) = \t 0.000358\n",
      "P(irreverente|comedia) = \t 0.001254\n",
      "P(destrucción|comedia) = \t 0.000179\n",
      "P(cómica|comedia) = \t 0.000717\n",
      "P(llamada|comedia) = \t 0.000537\n",
      "P(coche|comedia) = \t 0.000179\n",
      "P(asesina|comedia) = \t 0.000179\n",
      "P(carcajadas|comedia) = \t 0.000717\n",
      "P(divertido|comedia) = \t 0.001254\n",
      "P(venganza|comedia) = \t 0.000179\n",
      "P(soldados|comedia) = \t 0.000537\n",
      "P(cómicos|comedia) = \t 0.000717\n",
      "P(incorrecto|comedia) = \t 0.000896\n",
      "P(hilarante|comedia) = \t 0.000896\n",
      "P(general|comedia) = \t 0.000179\n",
      "P(carrera|comedia) = \t 0.000179\n",
      "P(combate|comedia) = \t 0.000179\n",
      "P(diligencia|comedia) = \t 0.000179\n",
      "P(crítica|comedia) = \t 0.000896\n",
      "P(divertidos|comedia) = \t 0.000717\n",
      "P(camino|comedia) = \t 0.000537\n",
      "P(estadounidense|comedia) = \t 0.000179\n",
      "P(unidos|comedia) = \t 0.001075\n",
      "P(granjero|comedia) = \t 0.000179\n",
      "P(matar|comedia) = \t 0.000179\n",
      "P(oficial|comedia) = \t 0.000179\n",
      "P(terrorista|comedia) = \t 0.000179\n",
      "P(hilarantes|comedia) = \t 0.001971\n",
      "P(alemán|comedia) = \t 0.000179\n",
      "P(guerra|comedia) = \t 0.001075\n",
      "P(tópicos|comedia) = \t 0.000896\n",
      "P(extravagante|comedia) = \t 0.000717\n",
      "P(operación|comedia) = \t 0.000179\n",
      "P(ataque|comedia) = \t 0.000179\n",
      "P(gags|comedia) = \t 0.002150\n",
      "P(policía|comedia) = \t 0.000717\n",
      "P(persecución|comedia) = \t 0.000179\n",
      "P(teniente|comedia) = \t 0.000179\n",
      "P(desierto|comedia) = \t 0.000179\n",
      "P(hombres|comedia) = \t 0.000179\n",
      "P(asesino|comedia) = \t 0.000717\n",
      "P(alemanes|comedia) = \t 0.000179\n",
      "P(oeste|comedia) = \t 0.000179\n"
     ]
    }
   ],
   "source": [
    "probabilidad_palabraclave_comedia = crea_diccionario_probabilidades_condicionadas(archivos_entrenamiento_comedia, palabras_clave_comedia)\n",
    "\n",
    "mostrar_diccionario_probabilidades_condicionadas(probabilidad_palabraclave_comedia, \"comedia\")"
   ]
  },
  {
   "cell_type": "code",
   "execution_count": 1158,
   "metadata": {
    "collapsed": false
   },
   "outputs": [
    {
     "name": "stdout",
     "output_type": "stream",
     "text": [
      "P(carreras|terror) = \t 0.000501\n",
      "P(muerto|terror) = \t 0.000501\n",
      "P(divertida|terror) = \t 0.000501\n",
      "P(hijo|terror) = \t 0.002503\n",
      "P(sargento|terror) = \t 0.000501\n",
      "P(grupo|terror) = \t 0.001001\n",
      "P(sheriff|terror) = \t 0.001001\n",
      "P(enemigo|terror) = \t 0.000501\n",
      "P(hospital|terror) = \t 0.000501\n",
      "P(bandidos|terror) = \t 0.000501\n",
      "P(amigo|terror) = \t 0.000501\n",
      "P(capitán|terror) = \t 0.000501\n",
      "P(delirante|terror) = \t 0.000501\n",
      "P(bomba|terror) = \t 0.000501\n",
      "P(misión|terror) = \t 0.000501\n",
      "P(infantería|terror) = \t 0.000501\n",
      "P(escapar|terror) = \t 0.000501\n",
      "P(regimiento|terror) = \t 0.000501\n",
      "P(banda|terror) = \t 0.000501\n",
      "P(revólver|terror) = \t 0.000501\n",
      "P(cabo|terror) = \t 0.001001\n",
      "P(risas|terror) = \t 0.000501\n",
      "P(estadounidenses|terror) = \t 0.000501\n",
      "P(muerte|terror) = \t 0.000501\n",
      "P(pueblo|terror) = \t 0.001001\n",
      "P(problemas|terror) = \t 0.000501\n",
      "P(gasolina|terror) = \t 0.000501\n",
      "P(escapa|terror) = \t 0.001001\n",
      "P(sátira|terror) = \t 0.000501\n",
      "P(terroristas|terror) = \t 0.000501\n",
      "P(alegre|terror) = \t 0.000501\n",
      "P(investigación|terror) = \t 0.000501\n",
      "P(duelo|terror) = \t 0.000501\n",
      "P(seguridad|terror) = \t 0.000501\n",
      "P(agente|terror) = \t 0.000501\n",
      "P(prisión|terror) = \t 0.000501\n",
      "P(asesinos|terror) = \t 0.000501\n",
      "P(joven|terror) = \t 0.000501\n",
      "P(armas|terror) = \t 0.000501\n",
      "P(vietnam|terror) = \t 0.000501\n",
      "P(absurdo|terror) = \t 0.000501\n",
      "P(pistolero|terror) = \t 0.000501\n",
      "P(auto|terror) = \t 0.000501\n",
      "P(ejército|terror) = \t 0.000501\n",
      "P(simpáticos|terror) = \t 0.000501\n",
      "P(humor|terror) = \t 0.000501\n",
      "P(arma|terror) = \t 0.000501\n",
      "P(absurdas|terror) = \t 0.000501\n",
      "P(soldado|terror) = \t 0.000501\n",
      "P(irreverente|terror) = \t 0.000501\n",
      "P(destrucción|terror) = \t 0.000501\n",
      "P(cómica|terror) = \t 0.000501\n",
      "P(llamada|terror) = \t 0.000501\n",
      "P(coche|terror) = \t 0.002002\n",
      "P(asesina|terror) = \t 0.000501\n",
      "P(carcajadas|terror) = \t 0.000501\n",
      "P(divertido|terror) = \t 0.000501\n",
      "P(venganza|terror) = \t 0.000501\n",
      "P(soldados|terror) = \t 0.000501\n",
      "P(cómicos|terror) = \t 0.000501\n",
      "P(incorrecto|terror) = \t 0.000501\n",
      "P(hilarante|terror) = \t 0.000501\n",
      "P(general|terror) = \t 0.000501\n",
      "P(carrera|terror) = \t 0.000501\n",
      "P(combate|terror) = \t 0.000501\n",
      "P(diligencia|terror) = \t 0.000501\n",
      "P(crítica|terror) = \t 0.000501\n",
      "P(divertidos|terror) = \t 0.000501\n",
      "P(camino|terror) = \t 0.000501\n",
      "P(estadounidense|terror) = \t 0.000501\n",
      "P(unidos|terror) = \t 0.000501\n",
      "P(granjero|terror) = \t 0.000501\n",
      "P(matar|terror) = \t 0.000501\n",
      "P(oficial|terror) = \t 0.000501\n",
      "P(terrorista|terror) = \t 0.000501\n",
      "P(hilarantes|terror) = \t 0.000501\n",
      "P(alemán|terror) = \t 0.000501\n",
      "P(guerra|terror) = \t 0.000501\n",
      "P(tópicos|terror) = \t 0.000501\n",
      "P(extravagante|terror) = \t 0.000501\n",
      "P(operación|terror) = \t 0.000501\n",
      "P(ataque|terror) = \t 0.000501\n",
      "P(gags|terror) = \t 0.000501\n",
      "P(policía|terror) = \t 0.001001\n",
      "P(persecución|terror) = \t 0.000501\n",
      "P(teniente|terror) = \t 0.000501\n",
      "P(desierto|terror) = \t 0.000501\n",
      "P(hombres|terror) = \t 0.001001\n",
      "P(asesino|terror) = \t 0.000501\n",
      "P(alemanes|terror) = \t 0.000501\n",
      "P(oeste|terror) = \t 0.000501\n"
     ]
    }
   ],
   "source": [
    "probabilidad_palabraclave_terror = crea_diccionario_probabilidades_condicionadas(archivos_entrenamiento_terror, palabras_clave_terror)\n",
    "\n",
    "mostrar_diccionario_probabilidades_condicionadas(probabilidad_palabraclave_terror, \"terror\")"
   ]
  },
  {
   "cell_type": "code",
   "execution_count": 1159,
   "metadata": {
    "collapsed": false
   },
   "outputs": [
    {
     "name": "stdout",
     "output_type": "stream",
     "text": [
      "P(carreras|bélico) = \t 0.000162\n",
      "P(muerto|bélico) = \t 0.000485\n",
      "P(divertida|bélico) = \t 0.000162\n",
      "P(hijo|bélico) = \t 0.000323\n",
      "P(sargento|bélico) = \t 0.003554\n",
      "P(grupo|bélico) = \t 0.002423\n",
      "P(sheriff|bélico) = \t 0.000162\n",
      "P(enemigo|bélico) = \t 0.000969\n",
      "P(hospital|bélico) = \t 0.000162\n",
      "P(bandidos|bélico) = \t 0.000162\n",
      "P(amigo|bélico) = \t 0.000808\n",
      "P(capitán|bélico) = \t 0.001454\n",
      "P(delirante|bélico) = \t 0.000162\n",
      "P(bomba|bélico) = \t 0.000323\n",
      "P(misión|bélico) = \t 0.001777\n",
      "P(infantería|bélico) = \t 0.001131\n",
      "P(escapar|bélico) = \t 0.000646\n",
      "P(regimiento|bélico) = \t 0.001131\n",
      "P(banda|bélico) = \t 0.000162\n",
      "P(revólver|bélico) = \t 0.000323\n",
      "P(cabo|bélico) = \t 0.000969\n",
      "P(risas|bélico) = \t 0.000162\n",
      "P(estadounidenses|bélico) = \t 0.001292\n",
      "P(muerte|bélico) = \t 0.000808\n",
      "P(pueblo|bélico) = \t 0.000485\n",
      "P(problemas|bélico) = \t 0.000162\n",
      "P(gasolina|bélico) = \t 0.000162\n",
      "P(escapa|bélico) = \t 0.000162\n",
      "P(sátira|bélico) = \t 0.000162\n",
      "P(terroristas|bélico) = \t 0.000162\n",
      "P(alegre|bélico) = \t 0.000162\n",
      "P(investigación|bélico) = \t 0.000162\n",
      "P(duelo|bélico) = \t 0.000162\n",
      "P(seguridad|bélico) = \t 0.000162\n",
      "P(agente|bélico) = \t 0.000162\n",
      "P(prisión|bélico) = \t 0.000162\n",
      "P(asesinos|bélico) = \t 0.000323\n",
      "P(joven|bélico) = \t 0.000808\n",
      "P(armas|bélico) = \t 0.000485\n",
      "P(vietnam|bélico) = \t 0.001292\n",
      "P(absurdo|bélico) = \t 0.000162\n",
      "P(pistolero|bélico) = \t 0.000162\n",
      "P(auto|bélico) = \t 0.000162\n",
      "P(ejército|bélico) = \t 0.003716\n",
      "P(simpáticos|bélico) = \t 0.000162\n",
      "P(humor|bélico) = \t 0.000323\n",
      "P(arma|bélico) = \t 0.000646\n",
      "P(absurdas|bélico) = \t 0.000162\n",
      "P(soldado|bélico) = \t 0.001131\n",
      "P(irreverente|bélico) = \t 0.000162\n",
      "P(destrucción|bélico) = \t 0.000323\n",
      "P(cómica|bélico) = \t 0.000162\n",
      "P(llamada|bélico) = \t 0.000162\n",
      "P(coche|bélico) = \t 0.000162\n",
      "P(asesina|bélico) = \t 0.000162\n",
      "P(carcajadas|bélico) = \t 0.000162\n",
      "P(divertido|bélico) = \t 0.000162\n",
      "P(venganza|bélico) = \t 0.000162\n",
      "P(soldados|bélico) = \t 0.003231\n",
      "P(cómicos|bélico) = \t 0.000162\n",
      "P(incorrecto|bélico) = \t 0.000162\n",
      "P(hilarante|bélico) = \t 0.000162\n",
      "P(general|bélico) = \t 0.002746\n",
      "P(carrera|bélico) = \t 0.000162\n",
      "P(combate|bélico) = \t 0.002100\n",
      "P(diligencia|bélico) = \t 0.000162\n",
      "P(crítica|bélico) = \t 0.000162\n",
      "P(divertidos|bélico) = \t 0.000162\n",
      "P(camino|bélico) = \t 0.000323\n",
      "P(estadounidense|bélico) = \t 0.001292\n",
      "P(unidos|bélico) = \t 0.001616\n",
      "P(granjero|bélico) = \t 0.000162\n",
      "P(matar|bélico) = \t 0.001616\n",
      "P(oficial|bélico) = \t 0.001131\n",
      "P(terrorista|bélico) = \t 0.000162\n",
      "P(hilarantes|bélico) = \t 0.000162\n",
      "P(alemán|bélico) = \t 0.001454\n",
      "P(guerra|bélico) = \t 0.006462\n",
      "P(tópicos|bélico) = \t 0.000162\n",
      "P(extravagante|bélico) = \t 0.000162\n",
      "P(operación|bélico) = \t 0.001131\n",
      "P(ataque|bélico) = \t 0.000646\n",
      "P(gags|bélico) = \t 0.000162\n",
      "P(policía|bélico) = \t 0.000808\n",
      "P(persecución|bélico) = \t 0.000162\n",
      "P(teniente|bélico) = \t 0.001454\n",
      "P(desierto|bélico) = \t 0.000162\n",
      "P(hombres|bélico) = \t 0.002100\n",
      "P(asesino|bélico) = \t 0.000323\n",
      "P(alemanes|bélico) = \t 0.001454\n",
      "P(oeste|bélico) = \t 0.000162\n"
     ]
    }
   ],
   "source": [
    "probabilidad_palabraclave_bélico = crea_diccionario_probabilidades_condicionadas(archivos_entrenamiento_bélico, palabras_clave_bélico)\n",
    "\n",
    "mostrar_diccionario_probabilidades_condicionadas(probabilidad_palabraclave_bélico, \"bélico\")"
   ]
  },
  {
   "cell_type": "code",
   "execution_count": 1160,
   "metadata": {
    "collapsed": false
   },
   "outputs": [
    {
     "name": "stdout",
     "output_type": "stream",
     "text": [
      "P(carreras|western) = \t 0.000172\n",
      "P(muerto|western) = \t 0.000687\n",
      "P(divertida|western) = \t 0.000172\n",
      "P(hijo|western) = \t 0.002576\n",
      "P(sargento|western) = \t 0.001030\n",
      "P(grupo|western) = \t 0.001545\n",
      "P(sheriff|western) = \t 0.002232\n",
      "P(enemigo|western) = \t 0.000172\n",
      "P(hospital|western) = \t 0.000172\n",
      "P(bandidos|western) = \t 0.001030\n",
      "P(amigo|western) = \t 0.002404\n",
      "P(capitán|western) = \t 0.001030\n",
      "P(delirante|western) = \t 0.000343\n",
      "P(bomba|western) = \t 0.000172\n",
      "P(misión|western) = \t 0.000343\n",
      "P(infantería|western) = \t 0.000172\n",
      "P(escapar|western) = \t 0.000515\n",
      "P(regimiento|western) = \t 0.000343\n",
      "P(banda|western) = \t 0.002060\n",
      "P(revólver|western) = \t 0.000515\n",
      "P(cabo|western) = \t 0.000343\n",
      "P(risas|western) = \t 0.000172\n",
      "P(estadounidenses|western) = \t 0.000343\n",
      "P(muerte|western) = \t 0.001030\n",
      "P(pueblo|western) = \t 0.005666\n",
      "P(problemas|western) = \t 0.000687\n",
      "P(gasolina|western) = \t 0.000172\n",
      "P(escapa|western) = \t 0.000172\n",
      "P(sátira|western) = \t 0.000172\n",
      "P(terroristas|western) = \t 0.000172\n",
      "P(alegre|western) = \t 0.000172\n",
      "P(investigación|western) = \t 0.000172\n",
      "P(duelo|western) = \t 0.001030\n",
      "P(seguridad|western) = \t 0.000172\n",
      "P(agente|western) = \t 0.000172\n",
      "P(prisión|western) = \t 0.000515\n",
      "P(asesinos|western) = \t 0.000687\n",
      "P(joven|western) = \t 0.002404\n",
      "P(armas|western) = \t 0.000859\n",
      "P(vietnam|western) = \t 0.000172\n",
      "P(absurdo|western) = \t 0.000172\n",
      "P(pistolero|western) = \t 0.002060\n",
      "P(auto|western) = \t 0.000172\n",
      "P(ejército|western) = \t 0.001202\n",
      "P(simpáticos|western) = \t 0.000172\n",
      "P(humor|western) = \t 0.000172\n",
      "P(arma|western) = \t 0.000515\n",
      "P(absurdas|western) = \t 0.000172\n",
      "P(soldado|western) = \t 0.000687\n",
      "P(irreverente|western) = \t 0.000172\n",
      "P(destrucción|western) = \t 0.000172\n",
      "P(cómica|western) = \t 0.000172\n",
      "P(llamada|western) = \t 0.000343\n",
      "P(coche|western) = \t 0.000172\n",
      "P(asesina|western) = \t 0.000515\n",
      "P(carcajadas|western) = \t 0.000172\n",
      "P(divertido|western) = \t 0.000172\n",
      "P(venganza|western) = \t 0.001202\n",
      "P(soldados|western) = \t 0.000859\n",
      "P(cómicos|western) = \t 0.000172\n",
      "P(incorrecto|western) = \t 0.000172\n",
      "P(hilarante|western) = \t 0.000172\n",
      "P(general|western) = \t 0.000515\n",
      "P(carrera|western) = \t 0.000343\n",
      "P(combate|western) = \t 0.000172\n",
      "P(diligencia|western) = \t 0.001717\n",
      "P(crítica|western) = \t 0.000172\n",
      "P(divertidos|western) = \t 0.000172\n",
      "P(camino|western) = \t 0.001717\n",
      "P(estadounidense|western) = \t 0.000687\n",
      "P(unidos|western) = \t 0.000859\n",
      "P(granjero|western) = \t 0.000859\n",
      "P(matar|western) = \t 0.000515\n",
      "P(oficial|western) = \t 0.000515\n",
      "P(terrorista|western) = \t 0.000172\n",
      "P(hilarantes|western) = \t 0.000172\n",
      "P(alemán|western) = \t 0.000343\n",
      "P(guerra|western) = \t 0.001889\n",
      "P(tópicos|western) = \t 0.000172\n",
      "P(extravagante|western) = \t 0.000172\n",
      "P(operación|western) = \t 0.000172\n",
      "P(ataque|western) = \t 0.000687\n",
      "P(gags|western) = \t 0.000343\n",
      "P(policía|western) = \t 0.000172\n",
      "P(persecución|western) = \t 0.000687\n",
      "P(teniente|western) = \t 0.000515\n",
      "P(desierto|western) = \t 0.000343\n",
      "P(hombres|western) = \t 0.001374\n",
      "P(asesino|western) = \t 0.000859\n",
      "P(alemanes|western) = \t 0.000172\n",
      "P(oeste|western) = \t 0.000687\n"
     ]
    }
   ],
   "source": [
    "probabilidad_palabraclave_western = crea_diccionario_probabilidades_condicionadas(archivos_entrenamiento_western, palabras_clave_western)\n",
    "\n",
    "mostrar_diccionario_probabilidades_condicionadas(probabilidad_palabraclave_western, \"western\")"
   ]
  },
  {
   "cell_type": "markdown",
   "metadata": {},
   "source": [
    "Una vez calculadas todas las probabilidades condicionadas de todas las categorías ya hemos finalizado con este subapartado, pero antes vamos a recordar un par de cosas:"
   ]
  },
  {
   "cell_type": "markdown",
   "metadata": {},
   "source": [
    "Para acceder a una probabilidad específica símplemente ejecutamos lo siguiente (para el ejemplo obtendremos la __probabilidad de coche__ condicionada a la categoría __acción__, es decir, __P(coche|acción)__):"
   ]
  },
  {
   "cell_type": "code",
   "execution_count": 1161,
   "metadata": {
    "collapsed": false
   },
   "outputs": [
    {
     "name": "stdout",
     "output_type": "stream",
     "text": [
      "P(coche|acción) = 0.002862\n"
     ]
    }
   ],
   "source": [
    "print(\"P(coche|acción) = %f\" % (probabilidad_palabraclave_acción[\"coche\"]))"
   ]
  },
  {
   "cell_type": "markdown",
   "metadata": {},
   "source": [
    "Si hubiese una __palabra clave que no pertenece a acción, la probabilidad no sería 0__ ya que estamos usando suavizado. Por ejemplo, podemos comprobarlo con la probabilidad de soldado (que no forma parte de las palabras clave de acción) condicionada a acción (__P(soldado|acción)__):"
   ]
  },
  {
   "cell_type": "code",
   "execution_count": 1162,
   "metadata": {
    "collapsed": false
   },
   "outputs": [
    {
     "name": "stdout",
     "output_type": "stream",
     "text": [
      "P(soldado|acción) = 0.000159\n"
     ]
    }
   ],
   "source": [
    "print(\"P(soldado|acción) = %f\" % (probabilidad_palabraclave_acción[\"soldado\"]))"
   ]
  },
  {
   "cell_type": "markdown",
   "metadata": {},
   "source": [
    "### Parte IV-B: Procesamiento de kNN"
   ]
  },
  {
   "cell_type": "markdown",
   "metadata": {
    "collapsed": true
   },
   "source": []
  },
  {
   "cell_type": "code",
   "execution_count": 1163,
   "metadata": {
    "collapsed": false
   },
   "outputs": [
    {
     "name": "stdout",
     "output_type": "stream",
     "text": [
      "{'capitán': 14, 'guerra': 56, 'estadounidense': 10, 'ejército': 34, 'regimiento': 7, 'asesino': 11, 'joven': 19, 'armas': 8, 'grupo': 33, 'combate': 14, 'soldados': 25, 'general': 19, 'irreverente': 6, 'tópicos': 4, 'divertida': 8, 'unidos': 24, 'pueblo': 38, 'bandidos': 5, 'llamada': 8, 'banda': 17, 'duelo': 5, 'arma': 10, 'policía': 28, 'seguridad': 7, 'incorrecto': 4, 'gags': 12, 'absurdo': 6, 'sátira': 6, 'risas': 6, 'amigo': 26, 'extravagante': 3, 'humor': 16, 'divertido': 6, 'hilarantes': 10, 'hilarante': 4, 'cómica': 3, 'delirante': 5, 'cómicos': 3, 'escapa': 5, 'simpáticos': 4, 'alegre': 3, 'vietnam': 7, 'soldado': 10, 'sargento': 27, 'misión': 18, 'enemigo': 5, 'hijo': 24, 'infantería': 6, 'oficial': 11, 'cabo': 8, 'teniente': 12, 'hospital': 5, 'divertidos': 3, 'crítica': 4, 'estadounidenses': 9, 'hombres': 31, 'revólver': 3, 'camino': 12, 'problemas': 10, 'carcajadas': 3, 'agente': 12, 'venganza': 11, 'muerte': 14, 'escapar': 10, 'sheriff': 14, 'coche': 20, 'asesina': 5, 'persecución': 6, 'pistolero': 11, 'granjero': 4, 'muerto': 8, 'asesinos': 9, 'diligencia': 9, 'prisión': 5, 'alemán': 10, 'absurdas': 4, 'ataque': 10, 'bomba': 4, 'terrorista': 4, 'destrucción': 5, 'carreras': 4, 'operación': 11, 'matar': 12, 'auto': 8, 'carrera': 7, 'investigación': 4, 'alemanes': 8, 'oeste': 3, 'desierto': 2, 'gasolina': 7, 'terroristas': 1}\n"
     ]
    }
   ],
   "source": [
    "palabras_clave_y_repeticiones = {}\n",
    "\n",
    "cuenta_palabras = cuenta_palabras_desde_archivos(ruta_conjunto_entrenamiento, archivos_entrenamiento)\n",
    "\n",
    "for palabra in cuenta_palabras:\n",
    "    if palabra in palabras_clave:\n",
    "        palabras_clave_y_repeticiones[palabra] = cuenta_palabras[palabra]\n",
    "\n",
    "print(palabras_clave_y_repeticiones)"
   ]
  },
  {
   "cell_type": "code",
   "execution_count": 1164,
   "metadata": {
    "collapsed": true
   },
   "outputs": [],
   "source": [
    "def calculo_peso(palabra_clave, ruta, archivo):\n",
    "    frecuencia_en_documento = 0\n",
    "    frecuencia_documental = 0\n",
    "    frecuencia_documental_inversa = 0\n",
    "    peso = 0\n",
    "    \n",
    "    cuenta_palabras = cuenta_palabras_desde_archivo(ruta, archivo)\n",
    "    if palabra_clave in cuenta_palabras:\n",
    "        frecuencia_en_documento = cuenta_palabras[palabra_clave]\n",
    "    \n",
    "    frecuencia_documental = palabras_clave_y_repeticiones[palabra_clave]\n",
    "    \n",
    "    if frecuencia_documental is not 0:\n",
    "        aux = len(archivos_entrenamiento) / frecuencia_documental\n",
    "    else:\n",
    "        aux = 0\n",
    "    \n",
    "    frecuencia_documental_inversa = math.log(aux)\n",
    "    \n",
    "    peso = frecuencia_en_documento * frecuencia_documental_inversa\n",
    "    \n",
    "    return peso"
   ]
  },
  {
   "cell_type": "code",
   "execution_count": 1165,
   "metadata": {
    "collapsed": false
   },
   "outputs": [],
   "source": [
    "def calculo_pesos(ruta, archivo):\n",
    "    lista_pesos = []\n",
    "    \n",
    "    for palabra_clave in palabras_clave:\n",
    "        lista_pesos.append(calculo_peso(palabra_clave, ruta, archivo))\n",
    "    \n",
    "    return lista_pesos"
   ]
  },
  {
   "cell_type": "code",
   "execution_count": 1166,
   "metadata": {
    "collapsed": false
   },
   "outputs": [],
   "source": [
    "import math\n",
    "\n",
    "diccionario_palabraclave_pesos = {}\n",
    "\n",
    "for archivo in archivos_entrenamiento:\n",
    "    lista_pesos_archivo = calculo_pesos(ruta_conjunto_entrenamiento, archivo)\n",
    "    \n",
    "    diccionario_palabraclave_pesos[archivo] = lista_pesos_archivo\n",
    "\n",
    "# print(diccionario_palabraclave_pesos)"
   ]
  },
  {
   "cell_type": "markdown",
   "metadata": {},
   "source": [
    "## Parte V: Salvado del procesamiento en fichero"
   ]
  },
  {
   "cell_type": "markdown",
   "metadata": {},
   "source": [
    "### Parte V-A: Salvado del procesamiento de Naive Bayes"
   ]
  },
  {
   "cell_type": "markdown",
   "metadata": {},
   "source": [
    "Dado que el enunciado de la práctica requiere que guardemos el procesado que acabamos que realizar (en la parte IV) para después utilizarlo en la ejecución de los algoritmos, procedemos a ello."
   ]
  },
  {
   "cell_type": "markdown",
   "metadata": {},
   "source": [
    "Primero necesitamos crear dos grandes listas: la primera contendrá la cadena relacionada con la probabilidad de que pase algo y la segunda la probabilidad de que pase. Ambas listas deben ser iguales y debemos almacenar toda la información obtenida."
   ]
  },
  {
   "cell_type": "code",
   "execution_count": 1167,
   "metadata": {
    "collapsed": false
   },
   "outputs": [],
   "source": [
    "lista_texto = []\n",
    "lista_valor = []\n",
    "\n",
    "lista_texto.append(\"P(acción)\")\n",
    "lista_valor.append(probabilidad_acción)\n",
    "\n",
    "lista_texto.append(\"P(comedia)\")\n",
    "lista_valor.append(probabilidad_comedia)\n",
    "\n",
    "lista_texto.append(\"P(terror)\")\n",
    "lista_valor.append(probabilidad_terror)\n",
    "\n",
    "lista_texto.append(\"P(bélico)\")\n",
    "lista_valor.append(probabilidad_bélico)\n",
    "\n",
    "lista_texto.append(\"P(western)\")\n",
    "lista_valor.append(probabilidad_western)\n",
    "\n",
    "for entrada in probabilidad_palabraclave_acción:\n",
    "    lista_texto.append(\"P(\" + entrada + \"|\" + \"acción\" + \")\")\n",
    "    lista_valor.append(probabilidad_palabraclave_acción[entrada])\n",
    "\n",
    "for entrada in probabilidad_palabraclave_comedia:\n",
    "    lista_texto.append(\"P(\" + entrada + \"|\" + \"comedia\" + \")\")\n",
    "    lista_valor.append(probabilidad_palabraclave_comedia[entrada])\n",
    "\n",
    "for entrada in probabilidad_palabraclave_terror:\n",
    "    lista_texto.append(\"P(\" + entrada + \"|\" + \"terror\" + \")\")\n",
    "    lista_valor.append(probabilidad_palabraclave_terror[entrada])\n",
    "\n",
    "for entrada in probabilidad_palabraclave_bélico:\n",
    "    lista_texto.append(\"P(\" + entrada + \"|\" + \"bélico\" + \")\")\n",
    "    lista_valor.append(probabilidad_palabraclave_bélico[entrada])\n",
    "\n",
    "for entrada in probabilidad_palabraclave_western:\n",
    "    lista_texto.append(\"P(\" + entrada + \"|\" + \"western\" + \")\")\n",
    "    lista_valor.append(probabilidad_palabraclave_western[entrada])"
   ]
  },
  {
   "cell_type": "code",
   "execution_count": 1168,
   "metadata": {
    "collapsed": false
   },
   "outputs": [],
   "source": [
    "import csv # Librería que necesitaremos para guardar en formato \".csv\".\n",
    "\n",
    "csvfile = \"csv/naive-bayes.csv\"\n",
    "datos_a_guardar = zip(lista_texto, lista_valor)\n",
    "\n",
    "with open(csvfile, \"w\") as output:\n",
    "    writer = csv.writer(output, lineterminator='\\n')\n",
    "    for dato in datos_a_guardar:\n",
    "        writer.writerow([dato[0]] + [dato[1]])"
   ]
  },
  {
   "cell_type": "markdown",
   "metadata": {},
   "source": [
    "### Parte V-B: Salvado del procesamiento de kNN"
   ]
  },
  {
   "cell_type": "code",
   "execution_count": 1169,
   "metadata": {
    "collapsed": false
   },
   "outputs": [],
   "source": [
    "csvfile = \"csv/knn.csv\"\n",
    "datos_a_guardar = diccionario_palabraclave_pesos\n",
    "\n",
    "with open(csvfile, \"w\") as output:\n",
    "    writer = csv.writer(output, lineterminator='\\n')\n",
    "    for dato in datos_a_guardar:\n",
    "        writer.writerow([dato] + [datos_a_guardar[dato]])"
   ]
  },
  {
   "cell_type": "markdown",
   "metadata": {},
   "source": [
    "## Parte VI: Ejecución de los algoritmos"
   ]
  },
  {
   "cell_type": "markdown",
   "metadata": {},
   "source": [
    "En la parte II ya encontramos los ficheros del conjunto de test, que están en su respectiva carpeta, ahora tenemos que procesaros igual que hicimos en la parte III con los ficheros del conjunto de pruebas."
   ]
  },
  {
   "cell_type": "markdown",
   "metadata": {},
   "source": [
    "Vamos a definir un método que nos será de utilidad: a partir de un __csv__ dado y de una __cadena a buscar__, devolverá el valor relacionado con dicha celda del csv. Esto nos será útil para, a partir de la cadena de una probabilidad (por ejemplo, _P(bala|acción)_), nos devuelva su probabilidad."
   ]
  },
  {
   "cell_type": "code",
   "execution_count": 1170,
   "metadata": {
    "collapsed": false
   },
   "outputs": [],
   "source": [
    "def lee_fichero(nombre_csv):\n",
    "    with open(nombre_csv, 'rt', encoding=\"latin-1\") as fichero:\n",
    "        lector = csv.reader(fichero)\n",
    "        diccionario = dict(lector)\n",
    "    \n",
    "    return diccionario"
   ]
  },
  {
   "cell_type": "markdown",
   "metadata": {},
   "source": [
    "### Parte VI-A: Ejecución de Naive Bayes"
   ]
  },
  {
   "cell_type": "markdown",
   "metadata": {},
   "source": [
    "El método naive_bayes recibe un archivo y los datos procesados (probabilidades) como parámetros y determina la categoría del archivo pasado como parámetro."
   ]
  },
  {
   "cell_type": "code",
   "execution_count": 1171,
   "metadata": {
    "collapsed": false
   },
   "outputs": [],
   "source": [
    "def naive_bayes(archivo, csv):\n",
    "    cuenta_palabras = cuenta_palabras_desde_archivo(ruta_conjunto_prueba, archivo)\n",
    "    \n",
    "    palabras_coincidentes_con_palabras_clave = cuenta_palabras.copy()\n",
    "    \n",
    "    # De las palabras que contiene el fichero, desechamos todas las que no coinciden con las palabras clave.\n",
    "    for palabra in cuenta_palabras:\n",
    "        if palabra not in palabras_clave:\n",
    "            del palabras_coincidentes_con_palabras_clave[palabra]\n",
    "    \n",
    "    # Abrimos el fichero \".csv\" generado para consultar datos en el siguiente paso.\n",
    "    datos = lee_fichero(csv)\n",
    "    \n",
    "    # Ejecutamos el algoritmo en sí.\n",
    "    resultados = {} # Resultados será un diccionario que contendrá la categoría y la \"puntuación\" otorgada por el algoritmo a esa categoría (para posteriormente elegir la categoría con el máximo valor).\n",
    "    \n",
    "    for categoría in categorías:\n",
    "        probabilidades_condicionadas_a_multiplicar = []\n",
    "        for palabra_clave in palabras_coincidentes_con_palabras_clave:\n",
    "            cadena_a_buscar = \"P(\" + palabra_clave + \"|\" + categoría + \")\" # Define la cadena que se debe buscar en el archivo. En este caso la probabilidad condicionada a la categoría.\n",
    "            probabilidades_condicionadas_a_multiplicar.append(float(datos[cadena_a_buscar]) ** palabras_coincidentes_con_palabras_clave[palabra_clave]) # Busca el valor de la probabilidad condicionada requerida (lo transforma en float), lo eleva al número de veces que se repite y añade el valor de la probabilidad condicionada hallada a una lista que se pasará a multiplicar después.\n",
    "        \n",
    "        cadena_a_buscar = \"P(\" + categoría + \")\" # Define la cadena que se debe buscar en el archivo. En este caso la probabilidad de la categoría.\n",
    "        probabilidad_categoría = float(datos[cadena_a_buscar])\n",
    "        \n",
    "        # Multiplicamos los elementos de la lista de probabilidades condicionadas\n",
    "        probabilidades_condicionadas_multiplicadas = 1.0\n",
    "        for elemento in probabilidades_condicionadas_a_multiplicar:\n",
    "            probabilidades_condicionadas_multiplicadas = probabilidades_condicionadas_multiplicadas * elemento\n",
    "        \n",
    "        resultados[categoría] = probabilidades_condicionadas_multiplicadas * probabilidad_categoría # Calcula el coeficiente\n",
    "    \n",
    "    result = max(resultados, key=resultados.get) # Devuleve el resultado del algoritmo. En este caso el elemento del diccionario con mayor coeficiente.\n",
    "    \n",
    "    return result"
   ]
  },
  {
   "cell_type": "markdown",
   "metadata": {},
   "source": [
    "__Ejecutamos el algoritmo__ e __imprimimos__ los __resultados__ obtenidos:"
   ]
  },
  {
   "cell_type": "code",
   "execution_count": 1172,
   "metadata": {
    "collapsed": false
   },
   "outputs": [],
   "source": [
    "def aplicar_naive_bayes_archivos_prueba():\n",
    "    print(\"El resultado de aplicar el algoritmo [Naive-Bayes] al conjunto de pruebas es...\")\n",
    "    for archivo in archivos_prueba:\n",
    "        algoritmo = naive_bayes(archivo, \"csv/naive-bayes.csv\")\n",
    "        print(\"[%s] \\t [%s]\" % (archivo.replace(\".txt\", \"\"), algoritmo))"
   ]
  },
  {
   "cell_type": "code",
   "execution_count": 1173,
   "metadata": {
    "collapsed": false
   },
   "outputs": [
    {
     "name": "stdout",
     "output_type": "stream",
     "text": [
      "El resultado de aplicar el algoritmo [Naive-Bayes] al conjunto de pruebas es...\n",
      "[Le llamaban Trinidad] \t [western]\n",
      "[Misión imposible - Protocolo fantasma] \t [acción]\n",
      "[Shrek 3] \t [comedia]\n",
      "[Teléfono rojo - Volamos hacia Moscú] \t [bélico]\n",
      "[Sin perdón] \t [western]\n",
      "[El padrino] \t [western]\n",
      "[El jinete pálido] \t [western]\n",
      "[El tirador] \t [acción]\n",
      "[Jungla de cristal] \t [acción]\n",
      "[A todo gas - Tokyo race] \t [acción]\n",
      "[La caza del Octubre Rojo] \t [bélico]\n",
      "[Django desencadenado] \t [western]\n",
      "[El ultimátum de Bourne] \t [acción]\n",
      "[Solo ante el peligro] \t [western]\n",
      "[Fast and Furious 5] \t [acción]\n"
     ]
    }
   ],
   "source": [
    "aplicar_naive_bayes_archivos_prueba()"
   ]
  },
  {
   "cell_type": "markdown",
   "metadata": {},
   "source": [
    "### Parte VI-B: Ejecución de kNN"
   ]
  },
  {
   "cell_type": "markdown",
   "metadata": {},
   "source": []
  },
  {
   "cell_type": "code",
   "execution_count": 1174,
   "metadata": {
    "collapsed": false
   },
   "outputs": [],
   "source": [
    "def calcula_distancia(v, w):\n",
    "    # Comprueba que las listas son del mismo tamaño.\n",
    "    if(len(v) == len(w)):\n",
    "        numerador = sum([elemento_v * elemento_w for elemento_v, elemento_w in zip(v,w)])\n",
    "        \n",
    "        denominador_parte_v = math.sqrt(sum([elemento_v ** 2 for elemento_v in v]))\n",
    "        denominador_parte_w = math.sqrt(sum([elemento_w ** 2 for elemento_w in w]))\n",
    "        \n",
    "        denominador = denominador_parte_v * denominador_parte_w\n",
    "        \n",
    "        return numerador / denominador"
   ]
  },
  {
   "cell_type": "code",
   "execution_count": 1175,
   "metadata": {
    "collapsed": false
   },
   "outputs": [],
   "source": [
    "def knn(archivo, csv):\n",
    "    v = calculo_pesos(ruta_conjunto_prueba, archivo)\n",
    "    \n",
    "    # Abrimos el fichero \".csv\" generado para consultar datos en el siguiente paso.\n",
    "    datos = lee_fichero(csv)\n",
    "    \n",
    "    # Ejecutamos el algoritmo en sí.\n",
    "    resultados = {} # Resultados será un diccionario que contendrá el archivo y la \"puntuación\" (similitud) otorgada por el algoritmo a esa categoría (para posteriormente elegir la categoría del archivo con la similitud más cercana a uno, que será el mayor valor).\n",
    "    \n",
    "    # Ahora que tenemos el peso del archivo a clasificar mediante el algoritmo y los pesos de los archivos del conjunto de entrenamiento (extraídos del \".csv\" y guardados en forma de diccionario) tenemos que calcular, una por una, la distancia a cada elemento del conjunto de entrenamiento y quedarnos con la menor.\n",
    "    for dato in datos:\n",
    "        # Como lo que guardamos es una cadena, es necesario un pequeño procesamiento para transformarlo de nuevo en una lista.\n",
    "        w = datos[dato].replace('[', '') # Primero eliminamos \"[\".\n",
    "        w = w.replace(']', '') # Hacemos lo mismo con \"]\".\n",
    "        w = w.split(\",\") # Aplicamos \".split()\" para volver a \"trocear\" la cadena y convertirla de nuevo en una lista.\n",
    "        w = [float(elemento) for elemento in w]\n",
    "        resultados[dato] = calcula_distancia(v, w) # \"v\" son los pesos del archivo a clasificar y \"w\" los del archivo del conjunto de entrenamiento que está siendo procesado.\n",
    "    \n",
    "    # Para una mayor exactitud, saber en qué categoría se enmarcará la muestra y a qué película se debe, usaremos una lista para devolver dicha información (el elemento 0 contendrá la categoría y el 1 la película de dónde procede).\n",
    "    result = max(resultados, key=resultados.get)\n",
    "    result = result.split(\"/\")\n",
    "    \n",
    "    return result[0], result[1]"
   ]
  },
  {
   "cell_type": "code",
   "execution_count": 1176,
   "metadata": {
    "collapsed": false
   },
   "outputs": [],
   "source": [
    "def aplicar_knn_archivos_prueba():\n",
    "    print(\"El resultado de aplicar el algoritmo [kNN] al conjunto de pruebas es...\")\n",
    "    for archivo in archivos_prueba:\n",
    "        algoritmo = knn(archivo, \"csv/knn.csv\")\n",
    "        print(\"[%s] \\t [%s] (por similitud con [%s])\" % (archivo.replace(\".txt\", \"\"), algoritmo[0], algoritmo[1].replace(\".txt\", \"\")))"
   ]
  },
  {
   "cell_type": "code",
   "execution_count": 1177,
   "metadata": {
    "collapsed": false
   },
   "outputs": [
    {
     "name": "stdout",
     "output_type": "stream",
     "text": [
      "El resultado de aplicar el algoritmo [kNN] al conjunto de pruebas es...\n",
      "[Le llamaban Trinidad] \t [western] (por similitud con [El dorado])\n",
      "[Misión imposible - Protocolo fantasma] \t [acción] (por similitud con [Misión imposible - Nación secreta])\n",
      "[Shrek 3] \t [comedia] (por similitud con [Swiss Army Man])\n",
      "[Teléfono rojo - Volamos hacia Moscú] \t [bélico] (por similitud con [Senderos de gloria])\n",
      "[Sin perdón] \t [western] (por similitud con [Duelo de titanes])\n",
      "[El padrino] \t [acción] (por similitud con [La jungla 4 punto 0])\n",
      "[El jinete pálido] \t [acción] (por similitud con [Kill Bill - Volumen 1])\n",
      "[El tirador] \t [acción] (por similitud con [Venganza])\n",
      "[Jungla de cristal] \t [acción] (por similitud con [Misión imposible - Nación secreta])\n",
      "[A todo gas - Tokyo race] \t [acción] (por similitud con [Turbo-Charged Prelude])\n",
      "[La caza del Octubre Rojo] \t [bélico] (por similitud con [Banderas de nuestros padres])\n",
      "[Django desencadenado] \t [western] (por similitud con [Incidente en Ox-Bow])\n",
      "[El ultimátum de Bourne] \t [acción] (por similitud con [Misión imposible III])\n",
      "[Solo ante el peligro] \t [western] (por similitud con [Por un puñado de dólares])\n",
      "[Fast and Furious 5] \t [acción] (por similitud con [Fast and Furious 6])\n"
     ]
    }
   ],
   "source": [
    "aplicar_knn_archivos_prueba()"
   ]
  },
  {
   "cell_type": "markdown",
   "metadata": {},
   "source": [
    "## Parte VII: Análisis de los resultados"
   ]
  },
  {
   "cell_type": "code",
   "execution_count": null,
   "metadata": {
    "collapsed": false
   },
   "outputs": [],
   "source": []
  },
  {
   "cell_type": "markdown",
   "metadata": {},
   "source": [
    "## Parte VIII: Conclusiones"
   ]
  },
  {
   "cell_type": "code",
   "execution_count": null,
   "metadata": {
    "collapsed": true
   },
   "outputs": [],
   "source": []
  },
  {
   "cell_type": "code",
   "execution_count": null,
   "metadata": {
    "collapsed": true
   },
   "outputs": [],
   "source": []
  }
 ],
 "metadata": {
  "kernelspec": {
   "display_name": "Python 3",
   "language": "python",
   "name": "python3"
  },
  "language_info": {
   "codemirror_mode": {
    "name": "ipython",
    "version": 3
   },
   "file_extension": ".py",
   "mimetype": "text/x-python",
   "name": "python",
   "nbconvert_exporter": "python",
   "pygments_lexer": "ipython3",
   "version": "3.6.0"
  }
 },
 "nbformat": 4,
 "nbformat_minor": 2
}
