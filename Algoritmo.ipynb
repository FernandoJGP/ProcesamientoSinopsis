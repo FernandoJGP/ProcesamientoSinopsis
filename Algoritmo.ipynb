{
 "cells": [
  {
   "cell_type": "markdown",
   "metadata": {},
   "source": [
    "## Clasificación de documentos:"
   ]
  },
  {
   "cell_type": "markdown",
   "metadata": {},
   "source": [
    "# Calculo del género de una película a raíz de su sinopsis"
   ]
  },
  {
   "cell_type": "markdown",
   "metadata": {},
   "source": [
    "## Parte I: Introducción"
   ]
  },
  {
   "cell_type": "markdown",
   "metadata": {},
   "source": [
    "Se requiere la implementación de un algoritmo que, previamente entrenado, calcule el __género principal__ de una película en base al conocimiento adquirido."
   ]
  },
  {
   "cell_type": "markdown",
   "metadata": {},
   "source": [
    "Los géneros que tendrá en cuenta el algoritmo son: ___acción___, ___comedia___, ___terror___, ___bélico___."
   ]
  },
  {
   "cell_type": "markdown",
   "metadata": {},
   "source": [
    "Los __archivos que contienen la sinopsis__ (o equivalente, pudiendo ser también un breve resumen de la primera parte de la película) de las películas estarán distribuídos de la siguiente forma: 1) Si forman parte del conjunto de pruebas estarán dentro de la carpeta del conjunto de prueba sin más, que será la carpeta en la que el algoritmo, una vez entrenado, buscará sinopsis para categorizarlas 2) Si forman parte del conjunto de entrenamiento estarán dentro de la carpeta del conjunto de entrenamiento y __a su vez__ dentro de una carpeta que indique su género."
   ]
  },
  {
   "cell_type": "markdown",
   "metadata": {},
   "source": [
    "El __formato__ de los archivos será _.txt_, por lo tanto estamos hablando de texto plano."
   ]
  },
  {
   "cell_type": "markdown",
   "metadata": {},
   "source": [
    "__Los conocimientos requeridos por parte del usuario__ que ejecutará el algoritmo __son mínimos__: tan sólo necesita __colocar__ los textos, en el formato adecuado, en la carpeta indicada y __ejecutar__ el algoritmo en sí. Únicamente se requiere mayor interacción por parte del usuario si desea cambiar el funcionamiento del algorimo en sí, o ajustar el mismo, como por ejemplo si desea cambiar las palabras clave para cada una de las categorías."
   ]
  },
  {
   "cell_type": "markdown",
   "metadata": {},
   "source": [
    "## Parte II: Escaneo de archivos"
   ]
  },
  {
   "cell_type": "markdown",
   "metadata": {},
   "source": [
    "Empezamos símplemente indicando qué __carpeta__ contiene el __conjunto de entrenamiento__ y el de __prueba__, además de las __categorías__, que no serán útiles más adelante."
   ]
  },
  {
   "cell_type": "code",
   "execution_count": 252,
   "metadata": {
    "collapsed": false
   },
   "outputs": [],
   "source": [
    "ruta_conjunto_entrenamiento = \"conjunto_entrenamiento\"\n",
    "ruta_conjunto_prueba = \"conjunto_prueba\"\n",
    "\n",
    "categorías = {\"acción\", \"comedia\", \"terror\", \"bélico\"}"
   ]
  },
  {
   "cell_type": "markdown",
   "metadata": {},
   "source": [
    "A continuación, vamos a recorrer nuestra estructura de carpetas para detectar cada uno de los textos a analizar."
   ]
  },
  {
   "cell_type": "markdown",
   "metadata": {},
   "source": [
    "Primero __empezamos encontrando__ todos los __archivos ya clasificados__ (conjunto de entrenamiento), según su __categoría__."
   ]
  },
  {
   "cell_type": "code",
   "execution_count": 253,
   "metadata": {
    "collapsed": false
   },
   "outputs": [],
   "source": [
    "import os # Nos ayudaremos de la librería \"os\" para leer ficheros y carpetas.\n",
    "\n",
    "# NOTA: Vamos a almacenarlos en conjunto (set) ya que no nos interesa el orden y, además, no permite duplicados (no puede haber dos archivos con el mismo nombre).\n",
    "\n",
    "total_documentos_entrenamiento = 0 # Util en la parte 4 (\"Procesamiento\")\n",
    "\n",
    "archivos_entrenamiento_acción = set()\n",
    "total_documentos_acción_entrenamiento = 0 # Util en la parte 4 (\"Procesamiento\")\n",
    "for file in os.listdir(ruta_conjunto_entrenamiento + \"/\" + \"acción\"):\n",
    "    if file.endswith(\".txt\"):\n",
    "        aux = \"acción\" + \"/\" + file\n",
    "        archivos_entrenamiento_acción.add(aux)\n",
    "        total_documentos_entrenamiento +=1 # Util en la parte 4 (\"Procesamiento\")\n",
    "        total_documentos_acción_entrenamiento += 1 # Util en la parte 4 (\"Procesamiento\")\n",
    "\n",
    "archivos_entrenamiento_comedia = set()\n",
    "total_documentos_comedia_entrenamiento = 0 # Util en la parte 4 (\"Procesamiento\")\n",
    "for file in os.listdir(ruta_conjunto_entrenamiento + \"/\" + \"comedia\"):\n",
    "    if file.endswith(\".txt\"):\n",
    "        aux = \"comedia\" + \"/\" + file\n",
    "        archivos_entrenamiento_comedia.add(aux)\n",
    "        total_documentos_entrenamiento +=1 # Util en la parte 4 (\"Procesamiento\")\n",
    "        total_documentos_comedia_entrenamiento += 1 # Util en la parte 4 (\"Procesamiento\")\n",
    "\n",
    "archivos_entrenamiento_terror = set()\n",
    "total_documentos_terror_entrenamiento = 0 # Util en la parte 4 (\"Procesamiento\")\n",
    "for file in os.listdir(ruta_conjunto_entrenamiento + \"/\" + \"terror\"):\n",
    "    if file.endswith(\".txt\"):\n",
    "        aux = \"terror\" + \"/\" + file\n",
    "        archivos_entrenamiento_terror.add(aux)\n",
    "        total_documentos_entrenamiento +=1 # Util en la parte 4 (\"Procesamiento\")\n",
    "        total_documentos_terror_entrenamiento += 1 # Util en la parte 4 (\"Procesamiento\")\n",
    "\n",
    "archivos_entrenamiento_bélico = set()\n",
    "total_documentos_bélico_entrenamiento = 0 # Util en la parte 4 (\"Procesamiento\")\n",
    "for file in os.listdir(ruta_conjunto_entrenamiento + \"/\" + \"bélico\"):\n",
    "    if file.endswith(\".txt\"):\n",
    "        aux = \"bélico\" + \"/\" + file\n",
    "        archivos_entrenamiento_bélico.add(aux)\n",
    "        total_documentos_entrenamiento +=1 # Util en la parte 4 (\"Procesamiento\")\n",
    "        total_documentos_bélico_entrenamiento += 1 # Util en la parte 4 (\"Procesamiento\")"
   ]
  },
  {
   "cell_type": "markdown",
   "metadata": {},
   "source": [
    "Y, a continuación, procedemos a __encontrar__ los __archivos que querríamos clasificar__ (conjunto de prueba):"
   ]
  },
  {
   "cell_type": "code",
   "execution_count": 254,
   "metadata": {
    "collapsed": false
   },
   "outputs": [
    {
     "name": "stdout",
     "output_type": "stream",
     "text": [
      "{'Teléfono rojo - Volamos hacia Moscú.txt', 'El padrino.txt', 'La caza del Octubre Rojo.txt', 'El tirador.txt'}\n"
     ]
    }
   ],
   "source": [
    "# Usamos conjunto por la misma razón de arriba.\n",
    "\n",
    "archivos_prueba = set()\n",
    "for file in os.listdir(ruta_conjunto_prueba):\n",
    "    if file.endswith(\".txt\"):\n",
    "        archivos_prueba.add(file)\n",
    "\n",
    "print(archivos_prueba)"
   ]
  },
  {
   "cell_type": "markdown",
   "metadata": {},
   "source": [
    "## Parte III: Elección del conjunto de palabras clave"
   ]
  },
  {
   "cell_type": "markdown",
   "metadata": {
    "collapsed": false
   },
   "source": [
    "Para ayudarnos en el estudio de las __palabras clave__ que debemos escoger para cada categoría vamos a realizar un pequeño estudio para determinar las palabras más frecuentes de cada categoría. La elección en sí debemos realizarla a mano puesto que no podemos escoger directamente las más frecuentes puesto que con total seguridad entre las más frecuentes se encontrarán verbos, conectores, preposiciones, pronombres, artículos, nombres propios, etc. que no nos serán de utilidad a la hora de determinar la categoría de una película."
   ]
  },
  {
   "cell_type": "markdown",
   "metadata": {},
   "source": [
    "Debemos definir __método que recibirá__ tanto __un conjunto de archivos__ como una __ruta__ donde se encuentran y __contará las palabras__ que aparecen en él __y el número de veces que dichas palabras aparecen__."
   ]
  },
  {
   "cell_type": "markdown",
   "metadata": {},
   "source": [
    "Pero antes, definimos un método que reciba un solo archivo y cuente sus palabras. Este metodo será usado por el método que estamos buscando y los dividimos de esta forma porque debemos buscar en un solo archivo cuando apliquemos los algoritmos de Naive Bayes y kNN."
   ]
  },
  {
   "cell_type": "code",
   "execution_count": 255,
   "metadata": {
    "collapsed": false
   },
   "outputs": [],
   "source": [
    "def cuenta_palabras_desde_archivo(ruta, archivo):\n",
    "    cuenta_palabras = {}\n",
    "    \n",
    "    file = open(ruta + \"/\" + archivo, \"r\", encoding=\"latin-1\") # Elegimos latin-1 en vez de utf-8 por problemas con las tildes.\n",
    "\n",
    "    for palabra in file.read().split(): # Recorremos el fichero, palabra a palabra.\n",
    "        palabra = palabra.lower() # Pasamos la palabra a minúscula.\n",
    "        # Para perder la menor información posible, reemplazamos ':', ',', ':' y ';', que son los carácteres más típicos que nos podemos encontrar adyacentes a una palabra y que la invalidarían en el siguiente if del algoritmo.\n",
    "        palabra = palabra.replace('.', '')\n",
    "        palabra = palabra.replace(',', '')\n",
    "        palabra = palabra.replace(':', '')\n",
    "        palabra = palabra.replace(';', '')\n",
    "        if palabra.isalpha() is True: # Será true cuando todos los caracteres son alfabéticos y hay al menos uno.\n",
    "            if palabra in cuenta_palabras:\n",
    "                cuenta_palabras[palabra] += 1 # Si la palabra ya existe, entonces incrementa en 1 el número de veces que hace aparición.\n",
    "            else:\n",
    "                cuenta_palabras[palabra] = 1 # Si la palabra no existe, la añade (con valor 1 al número de veces que aparece).\n",
    "\n",
    "    cuenta_palabras\n",
    "    return cuenta_palabras"
   ]
  },
  {
   "cell_type": "markdown",
   "metadata": {},
   "source": [
    "Ahora sí, definimos el método que estamos buscando y que se anunciaba antes:"
   ]
  },
  {
   "cell_type": "code",
   "execution_count": 256,
   "metadata": {
    "collapsed": false
   },
   "outputs": [],
   "source": [
    "from collections import Counter # Lo usaremos para añadir un diccionario a otro.\n",
    "\n",
    "def cuenta_palabras_desde_archivos(ruta, archivos):\n",
    "    cuenta_palabras = {}\n",
    "    \n",
    "    for archivo in archivos:\n",
    "        new = cuenta_palabras_desde_archivo(ruta, archivo)\n",
    "        cuenta_palabras = dict(Counter(cuenta_palabras)+Counter(new))\n",
    "    \n",
    "    return cuenta_palabras"
   ]
  },
  {
   "cell_type": "markdown",
   "metadata": {},
   "source": [
    "Además, con propósito de limpiar el output que obtendremos vamos a establecer un __umbral__ para desechar todas las palabras que se repitan por debajo del mismo:"
   ]
  },
  {
   "cell_type": "code",
   "execution_count": 257,
   "metadata": {
    "collapsed": true
   },
   "outputs": [],
   "source": [
    "umbral_repetición = 4"
   ]
  },
  {
   "cell_type": "markdown",
   "metadata": {
    "collapsed": false
   },
   "source": [
    "Y, con el mismo propósito, otro __umbral__ para desechar todas las palabras con una longitud menor a él:"
   ]
  },
  {
   "cell_type": "code",
   "execution_count": 258,
   "metadata": {
    "collapsed": true
   },
   "outputs": [],
   "source": [
    "umbral_longitud = 4"
   ]
  },
  {
   "cell_type": "markdown",
   "metadata": {},
   "source": [
    "Y, por último, un método que use al anterior que, además, nos __ordene las palabras__ (de mayor a menor uso) __y las muestre__:"
   ]
  },
  {
   "cell_type": "code",
   "execution_count": 259,
   "metadata": {
    "collapsed": false
   },
   "outputs": [],
   "source": [
    "def cuenta_palabras_desde_archivos_ordenadas(ruta, archivos):\n",
    "    cuenta_palabras = cuenta_palabras_desde_archivos(ruta, archivos)\n",
    "    \n",
    "    lista = [] # Usamos una lista para poder ordenar las palabras (map).\n",
    "    for palabra, contador in cuenta_palabras.items():\n",
    "        lista.append((contador, palabra))\n",
    "\n",
    "    lista = sorted(lista, reverse = True) # Lo ordenamos y lo invertimos para que las palabras más frecuentes estén arriba.\n",
    "\n",
    "    for aux in lista:\n",
    "        if(aux[0] >= umbral_repetición and len(aux[1]) >= umbral_longitud): # Si la palabra supera los umbrales indicados, se muestra.\n",
    "            print(\"%s \\t %d\" % (aux[1], aux[0]))"
   ]
  },
  {
   "cell_type": "markdown",
   "metadata": {
    "collapsed": true
   },
   "source": [
    "Palabras más frecuentes en: __ACCIÓN__."
   ]
  },
  {
   "cell_type": "code",
   "execution_count": 260,
   "metadata": {
    "collapsed": false
   },
   "outputs": [
    {
     "name": "stdout",
     "output_type": "stream",
     "text": [
      "para \t 75\n",
      "brian \t 35\n",
      "pero \t 30\n",
      "después \t 30\n",
      "mientras \t 28\n",
      "policía \t 25\n",
      "ethan \t 24\n",
      "bryan \t 24\n",
      "está \t 23\n",
      "mcclane \t 21\n",
      "donde \t 21\n",
      "quien \t 19\n",
      "como \t 19\n",
      "tiene \t 18\n",
      "equipo \t 17\n",
      "coche \t 17\n",
      "agente \t 17\n",
      "letty \t 16\n",
      "hunt \t 15\n",
      "dice \t 15\n",
      "auto \t 15\n",
      "ellos \t 14\n",
      "ella \t 14\n",
      "cuando \t 14\n",
      "entonces \t 13\n",
      "encuentra \t 13\n",
      "embargo \t 13\n",
      "novia \t 12\n",
      "martin \t 12\n",
      "dominic \t 12\n",
      "cual \t 12\n",
      "toretto \t 11\n",
      "sobre \t 11\n",
      "luego \t 11\n",
      "john \t 11\n",
      "hombres \t 11\n",
      "también \t 10\n",
      "llega \t 10\n",
      "hombre \t 10\n",
      "escapar \t 10\n",
      "carrera \t 10\n",
      "bourne \t 10\n",
      "ahora \t 10\n",
      "tras \t 9\n",
      "sean \t 9\n",
      "nueva \t 9\n",
      "logra \t 9\n",
      "lleva \t 9\n",
      "grupo \t 9\n",
      "contra \t 9\n",
      "antes \t 9\n",
      "aeropuerto \t 9\n",
      "vida \t 8\n",
      "unos \t 8\n",
      "todo \t 8\n",
      "película \t 8\n",
      "owen \t 8\n",
      "momento \t 8\n",
      "lugar \t 8\n",
      "hija \t 8\n",
      "hasta \t 8\n",
      "había \t 8\n",
      "están \t 8\n",
      "descubre \t 8\n",
      "virus \t 7\n",
      "unidos \t 7\n",
      "todos \t 7\n",
      "tego \t 7\n",
      "tarde \t 7\n",
      "tanto \t 7\n",
      "sigue \t 7\n",
      "shaw \t 7\n",
      "seguridad \t 7\n",
      "reúne \t 7\n",
      "plan \t 7\n",
      "mills \t 7\n",
      "llegan \t 7\n",
      "llamada \t 7\n",
      "lenore \t 7\n",
      "información \t 7\n",
      "informa \t 7\n",
      "gasolina \t 7\n",
      "gana \t 7\n",
      "estados \t 7\n",
      "esposa \t 7\n",
      "durante \t 7\n",
      "desde \t 7\n",
      "comienza \t 7\n",
      "clay \t 7\n",
      "ciudad \t 7\n",
      "casa \t 7\n",
      "ayuda \t 7\n",
      "amigo \t 7\n",
      "ambrosio \t 7\n",
      "ángeles \t 6\n",
      "vive \t 6\n",
      "tiempo \t 6\n",
      "sindicato \t 6\n",
      "rico \t 6\n",
      "puede \t 6\n",
      "problemas \t 6\n",
      "parte \t 6\n",
      "operación \t 6\n",
      "nyah \t 6\n",
      "nakatomi \t 6\n",
      "misión \t 6\n",
      "llamado \t 6\n",
      "leonore \t 6\n",
      "hans \t 6\n",
      "fuera \t 6\n",
      "este \t 6\n",
      "escapa \t 6\n",
      "entrega \t 6\n",
      "director \t 6\n",
      "dentro \t 6\n",
      "cuerpo \t 6\n",
      "cuenta \t 6\n",
      "biocyte \t 6\n",
      "bill \t 6\n",
      "banda \t 6\n",
      "años \t 6\n",
      "york \t 5\n",
      "visita \t 5\n",
      "venganza \t 5\n",
      "varios \t 5\n",
      "tres \t 5\n",
      "treadstone \t 5\n",
      "takagi \t 5\n",
      "stuart \t 5\n",
      "siguiente \t 5\n",
      "sale \t 5\n",
      "ruso \t 5\n",
      "ross \t 5\n",
      "robo \t 5\n",
      "queda \t 5\n",
      "prisión \t 5\n",
      "primera \t 5\n",
      "posee \t 5\n",
      "pesar \t 5\n",
      "pasar \t 5\n",
      "parís \t 5\n",
      "nekhorvich \t 5\n",
      "mujer \t 5\n",
      "muestra \t 5\n",
      "muerte \t 5\n",
      "mccloy \t 5\n",
      "matt \t 5\n",
      "líder \t 5\n",
      "junto \t 5\n",
      "hospital \t 5\n",
      "hermano \t 5\n",
      "hace \t 5\n",
      "forma \t 5\n",
      "fiesta \t 5\n",
      "evitar \t 5\n",
      "dólares \t 5\n",
      "dinero \t 5\n",
      "decide \t 5\n",
      "debido \t 5\n",
      "carreras \t 5\n",
      "cara \t 5\n",
      "brandt \t 5\n",
      "belerofonte \t 5\n",
      "autobús \t 5\n",
      "ataque \t 5\n",
      "asesinos \t 5\n",
      "asesinato \t 5\n",
      "asesina \t 5\n",
      "arma \t 5\n",
      "allí \t 5\n",
      "agentes \t 5\n",
      "advierte \t 5\n",
      "wistrom \t 4\n",
      "washington \t 4\n",
      "trato \t 4\n",
      "trabajo \t 4\n",
      "terroristas \t 4\n",
      "terrorista \t 4\n",
      "termina \t 4\n",
      "tanque \t 4\n",
      "solo \t 4\n",
      "simon \t 4\n",
      "sido \t 4\n",
      "santos \t 4\n",
      "retirado \t 4\n",
      "regresar \t 4\n",
      "quimera \t 4\n",
      "punto \t 4\n",
      "programas \t 4\n",
      "porque \t 4\n",
      "poco \t 4\n",
      "plaza \t 4\n",
      "pista \t 4\n",
      "piso \t 4\n",
      "pierde \t 4\n",
      "persecución \t 4\n",
      "pasado \t 4\n",
      "padre \t 4\n",
      "otra \t 4\n",
      "observa \t 4\n",
      "número \t 4\n",
      "novio \t 4\n",
      "nombre \t 4\n",
      "nacional \t 4\n",
      "muerto \t 4\n",
      "moreau \t 4\n",
      "mismo \t 4\n",
      "maletas \t 4\n",
      "londres \t 4\n",
      "local \t 4\n",
      "llegar \t 4\n",
      "llegada \t 4\n",
      "jefe \t 4\n",
      "jason \t 4\n",
      "japón \t 4\n",
      "jack \t 4\n",
      "investigación \t 4\n",
      "iniciar \t 4\n",
      "hobbs \t 4\n",
      "hijo \t 4\n",
      "hendricks \t 4\n",
      "haciendo \t 4\n",
      "hacia \t 4\n",
      "haber \t 4\n",
      "guerra \t 4\n",
      "gobierno \t 4\n",
      "fuerzas \t 4\n",
      "fuerza \t 4\n",
      "frank \t 4\n",
      "familia \t 4\n",
      "esta \t 4\n",
      "entre \t 4\n",
      "dispone \t 4\n",
      "dirigen \t 4\n",
      "destrucción \t 4\n",
      "departamento \t 4\n",
      "dejar \t 4\n",
      "cámara \t 4\n",
      "control \t 4\n",
      "carretera \t 4\n",
      "capturado \t 4\n",
      "camión \t 4\n",
      "cambio \t 4\n",
      "cabeza \t 4\n",
      "bomba \t 4\n",
      "bajo \t 4\n",
      "aunque \t 4\n",
      "asesinado \t 4\n",
      "amanda \t 4\n",
      "alguien \t 4\n"
     ]
    }
   ],
   "source": [
    "cuenta_palabras_desde_archivos_ordenadas(ruta_conjunto_entrenamiento, archivos_entrenamiento_acción)"
   ]
  },
  {
   "cell_type": "markdown",
   "metadata": {},
   "source": [
    "Palabras más frecuentes en: __COMEDIA__."
   ]
  },
  {
   "cell_type": "code",
   "execution_count": 261,
   "metadata": {
    "collapsed": false
   },
   "outputs": [
    {
     "name": "stdout",
     "output_type": "stream",
     "text": [
      "tras \t 8\n",
      "museo \t 8\n",
      "para \t 6\n",
      "kahmunrah \t 6\n",
      "tabla \t 4\n",
      "siendo \t 4\n",
      "larry \t 4\n",
      "jedediah \t 4\n",
      "figuras \t 4\n",
      "ellos \t 4\n",
      "ello \t 4\n",
      "como \t 4\n",
      "ayuda \t 4\n"
     ]
    }
   ],
   "source": [
    "cuenta_palabras_desde_archivos_ordenadas(ruta_conjunto_entrenamiento, archivos_entrenamiento_comedia)"
   ]
  },
  {
   "cell_type": "markdown",
   "metadata": {
    "collapsed": false
   },
   "source": [
    "Palabras más frecuentes en: __TERROR__."
   ]
  },
  {
   "cell_type": "code",
   "execution_count": 262,
   "metadata": {
    "collapsed": false
   },
   "outputs": [
    {
     "name": "stdout",
     "output_type": "stream",
     "text": [
      "lorraine \t 17\n",
      "casa \t 17\n",
      "carolyn \t 17\n",
      "aunque \t 15\n",
      "cuando \t 12\n",
      "april \t 11\n",
      "tras \t 10\n",
      "ella \t 10\n",
      "alguien \t 10\n",
      "todo \t 8\n",
      "mujer \t 8\n",
      "donde \t 8\n",
      "sobre \t 7\n",
      "siendo \t 7\n",
      "para \t 7\n",
      "habitación \t 7\n",
      "exorcismo \t 7\n",
      "espíritu \t 7\n",
      "warren \t 6\n",
      "roger \t 6\n",
      "muñeca \t 6\n",
      "cómo \t 6\n",
      "armario \t 6\n",
      "viendo \t 5\n",
      "ruidos \t 5\n",
      "observando \t 5\n",
      "noche \t 5\n",
      "mientras \t 5\n",
      "judy \t 5\n",
      "hija \t 5\n",
      "hacia \t 5\n",
      "está \t 5\n",
      "como \t 5\n",
      "allí \t 5\n",
      "todos \t 4\n",
      "tiene \t 4\n",
      "sótano \t 4\n",
      "suelo \t 4\n",
      "siguiente \t 4\n",
      "rory \t 4\n",
      "puerta \t 4\n",
      "padre \t 4\n",
      "lugar \t 4\n",
      "hijo \t 4\n",
      "hijas \t 4\n",
      "familia \t 4\n",
      "escucha \t 4\n",
      "entretanto \t 4\n",
      "encontrando \t 4\n",
      "dice \t 4\n",
      "descubre \t 4\n",
      "debe \t 4\n",
      "cual \t 4\n",
      "contra \t 4\n",
      "consigue \t 4\n",
      "christine \t 4\n",
      "annabelle \t 4\n"
     ]
    }
   ],
   "source": [
    "cuenta_palabras_desde_archivos_ordenadas(ruta_conjunto_entrenamiento, archivos_entrenamiento_terror)"
   ]
  },
  {
   "cell_type": "markdown",
   "metadata": {
    "collapsed": true
   },
   "source": [
    "Palabras más frecuentes en: __BÉLICO__."
   ]
  },
  {
   "cell_type": "code",
   "execution_count": 263,
   "metadata": {
    "collapsed": false
   },
   "outputs": [
    {
     "name": "stdout",
     "output_type": "stream",
     "text": [
      "para \t 44\n",
      "guerra \t 39\n",
      "como \t 24\n",
      "ejército \t 22\n",
      "sargento \t 21\n",
      "soldados \t 19\n",
      "está \t 18\n",
      "durante \t 18\n",
      "general \t 16\n",
      "cuando \t 16\n",
      "grupo \t 14\n",
      "sobre \t 12\n",
      "hombres \t 12\n",
      "hitler \t 12\n",
      "combate \t 12\n",
      "este \t 11\n",
      "tres \t 10\n",
      "tras \t 10\n",
      "todo \t 10\n",
      "patoso \t 10\n",
      "misión \t 10\n",
      "mientras \t 10\n",
      "después \t 10\n",
      "ante \t 10\n",
      "unidos \t 9\n",
      "quien \t 9\n",
      "pero \t 9\n",
      "matar \t 9\n",
      "estados \t 9\n",
      "contra \t 9\n",
      "teniente \t 8\n",
      "stauffenberg \t 8\n",
      "pelotón \t 8\n",
      "james \t 8\n",
      "ellos \t 8\n",
      "capitán \t 8\n",
      "alemán \t 8\n",
      "alemanes \t 8\n",
      "vietnam \t 7\n",
      "tiene \t 7\n",
      "tiempo \t 7\n",
      "solo \t 7\n",
      "recibe \t 7\n",
      "raine \t 7\n",
      "policías \t 7\n",
      "parte \t 7\n",
      "japonés \t 7\n",
      "isla \t 7\n",
      "historia \t 7\n",
      "estadounidenses \t 7\n",
      "estadounidense \t 7\n",
      "entre \t 7\n",
      "edificio \t 7\n",
      "donde \t 7\n",
      "coronel \t 7\n",
      "compañeros \t 7\n",
      "comienza \t 7\n",
      "batalla \t 7\n",
      "albert \t 7\n",
      "vietnamita \t 6\n",
      "todos \t 6\n",
      "también \t 6\n",
      "soldado \t 6\n",
      "sido \t 6\n",
      "regimiento \t 6\n",
      "primera \t 6\n",
      "pesar \t 6\n",
      "otros \t 6\n",
      "ordena \t 6\n",
      "operación \t 6\n",
      "oficial \t 6\n",
      "nuevo \t 6\n",
      "norman \t 6\n",
      "marina \t 6\n",
      "mando \t 6\n",
      "kuribayashi \t 6\n",
      "infantería \t 6\n",
      "hombre \t 6\n",
      "están \t 6\n",
      "equipo \t 6\n",
      "desde \t 6\n",
      "bajo \t 6\n",
      "algren \t 6\n",
      "zaitsev \t 5\n",
      "vida \t 5\n",
      "tropas \t 5\n",
      "tomar \t 5\n",
      "segunda \t 5\n",
      "ryan \t 5\n",
      "riyadi \t 5\n",
      "recluta \t 5\n",
      "película \t 5\n",
      "país \t 5\n",
      "orden \t 5\n",
      "mundial \t 5\n",
      "mismo \t 5\n",
      "marines \t 5\n",
      "lugar \t 5\n",
      "llega \t 5\n",
      "llamado \t 5\n",
      "imperial \t 5\n",
      "fuego \t 5\n",
      "estado \t 5\n",
      "enemigo \t 5\n",
      "encuentran \t 5\n",
      "dice \t 5\n",
      "descubre \t 5\n",
      "danilov \t 5\n",
      "ciudad \t 5\n",
      "cabo \t 5\n",
      "antes \t 5\n",
      "willard \t 4\n",
      "vuelve \t 4\n",
      "unidad \t 4\n",
      "tripulación \t 4\n",
      "tarde \t 4\n",
      "tanto \t 4\n",
      "tanque \t 4\n",
      "superiores \t 4\n",
      "sanborn \t 4\n",
      "saigo \t 4\n",
      "resto \t 4\n",
      "reclutas \t 4\n",
      "rama \t 4\n",
      "provoca \t 4\n",
      "propios \t 4\n",
      "prisioneros \t 4\n",
      "potro \t 4\n",
      "policía \t 4\n",
      "padre \t 4\n",
      "muerte \t 4\n",
      "militares \t 4\n",
      "militar \t 4\n",
      "mayor \t 4\n",
      "mata \t 4\n",
      "llegar \t 4\n",
      "kashiwara \t 4\n",
      "jungla \t 4\n",
      "joven \t 4\n",
      "jima \t 4\n",
      "invasión \t 4\n",
      "highway \t 4\n",
      "helicópteros \t 4\n",
      "hartman \t 4\n",
      "hace \t 4\n",
      "habla \t 4\n",
      "gravemente \t 4\n",
      "gran \t 4\n",
      "führer \t 4\n",
      "francés \t 4\n",
      "force \t 4\n",
      "familia \t 4\n",
      "enviado \t 4\n",
      "entonces \t 4\n",
      "ello \t 4\n",
      "eldridge \t 4\n",
      "división \t 4\n",
      "dengler \t 4\n",
      "delta \t 4\n",
      "delincuentes \t 4\n",
      "cual \t 4\n",
      "considera \t 4\n",
      "compañía \t 4\n",
      "colina \t 4\n",
      "cinco \t 4\n",
      "casa \t 4\n",
      "caballo \t 4\n",
      "bufón \t 4\n",
      "años \t 4\n",
      "amigo \t 4\n",
      "alemanas \t 4\n",
      "agentes \t 4\n",
      "además \t 4\n"
     ]
    }
   ],
   "source": [
    "cuenta_palabras_desde_archivos_ordenadas(ruta_conjunto_entrenamiento, archivos_entrenamiento_bélico)"
   ]
  },
  {
   "cell_type": "markdown",
   "metadata": {},
   "source": [
    "Una vez realizado el estudio, inicializamos manualmente las __palabras clave__ de cada __categoría__, usaremos unas 20 palabras para cada una de ellas (podrán repetirse entre categorías)."
   ]
  },
  {
   "cell_type": "code",
   "execution_count": 264,
   "metadata": {
    "collapsed": false
   },
   "outputs": [],
   "source": [
    "# Las inicializamos como conjuntos ya que no nos interesa el orden y, además, no se permiten duplicados.\n",
    "palabras_clave_acción = {\"policía\", \"coche\", \"agente\", \"auto\", \"escapar\", \"carrera\", \"seguridad\", \"llamada\", \"gasolina\", \"problemas\", \"operación\", \"escapa\", \"venganza\", \"prisión\", \"muerte\", \"hospital\", \"carreras\", \"ataque\", \"arma\", \"asesino\", \"asesina\", \"asesinos\", \"terrorista\", \"terroristas\", \"persecución\", \"muerto\", \"investigación\", \"destrucción\", \"bomba\"}\n",
    "palabras_clave_comedia = {}\n",
    "palabras_clave_terror = {}\n",
    "palabras_clave_bélico = {\"guerra\", \"ejército\", \"sargento\", \"soldados\", \"general\", \"grupo\", \"hombres\", \"combate\", \"misión\", \"unidos\", \"matar\", \"teniente\", \"capitán\", \"alemán\", \"alemanes\", \"vietnam\", \"estadounidense\", \"estadounidenses\", \"soldado\", \"regimiento\", \"operación\", \"oficial\", \"infantería\", \"cabo\", \"enemigo\"}"
   ]
  },
  {
   "cell_type": "markdown",
   "metadata": {},
   "source": [
    "Y, a continuación, añadimos todas las palabras clave de cada categoría a un nuevo conjunto que contenga __todas las palabras clave__."
   ]
  },
  {
   "cell_type": "code",
   "execution_count": 265,
   "metadata": {
    "collapsed": false
   },
   "outputs": [
    {
     "name": "stdout",
     "output_type": "stream",
     "text": [
      "Las palabras clave son: {'alemán', 'escapa', 'bomba', 'venganza', 'problemas', 'sargento', 'operación', 'oficial', 'enemigo', 'policía', 'cabo', 'carrera', 'asesino', 'estadounidenses', 'misión', 'investigación', 'vietnam', 'teniente', 'asesinos', 'combate', 'ejército', 'auto', 'guerra', 'escapar', 'seguridad', 'terrorista', 'carreras', 'soldado', 'grupo', 'persecución', 'hospital', 'muerto', 'soldados', 'alemanes', 'general', 'hombres', 'infantería', 'regimiento', 'unidos', 'asesina', 'destrucción', 'ataque', 'estadounidense', 'llamada', 'terroristas', 'prisión', 'agente', 'arma', 'coche', 'muerte', 'gasolina', 'capitán', 'matar'}\n"
     ]
    }
   ],
   "source": [
    "palabras_clave = set()\n",
    "# Update nos permite añadir el contenido de un set a otro set\n",
    "palabras_clave.update(palabras_clave_acción)\n",
    "palabras_clave.update(palabras_clave_comedia)\n",
    "palabras_clave.update(palabras_clave_terror)\n",
    "palabras_clave.update(palabras_clave_bélico)\n",
    "print(\"Las palabras clave son: %s\" % (palabras_clave))"
   ]
  },
  {
   "cell_type": "markdown",
   "metadata": {},
   "source": [
    "## Parte IV: Procesamiento"
   ]
  },
  {
   "cell_type": "markdown",
   "metadata": {
    "collapsed": true
   },
   "source": [
    "En esta parte se va a llevar a cabo el procesamiento de datos para posteriormente utilizarlos en los algoritmos de __Naive Bayes__ y __kNN__."
   ]
  },
  {
   "cell_type": "markdown",
   "metadata": {},
   "source": [
    "Puesto que se deben realizar cálculos distintos para cada algoritmo, dividiremos esta sección en dos subsecciones:"
   ]
  },
  {
   "cell_type": "markdown",
   "metadata": {},
   "source": [
    "### Parte IV-A: Procesamiento de Naive Bayes"
   ]
  },
  {
   "cell_type": "markdown",
   "metadata": {},
   "source": [
    "Para aplicar el algoritmo Naive Bayes primero debemos calcular todos los __P(c)__ ___(probabilidad de \"c\")___ y los __P(t|c)__ ___(probabilidad de \"t\" condicionada a \"c\")___."
   ]
  },
  {
   "cell_type": "markdown",
   "metadata": {},
   "source": [
    "En este caso __\"c\"__ sería nuestra categoría y __\"t\"__ cada palabra clave."
   ]
  },
  {
   "cell_type": "markdown",
   "metadata": {},
   "source": [
    "Primero, vamos a calcular los __P(c)__. Para ello, tenemos que contar el número de documentos de la categoría en cuestión existentes en nuestro conjunto de entrenamiento y dividirlo entre el número total de documentos de nuestro conjunto de entrenamiento. Así pues, por ejemplo, la probabilidad de acción (__P(acción)__) sería el número resultante de dividir el total de documentos catalogados como \"acción\" de nuestro conjunto de entrenamiento entre el número total de documentos del conjunto de entrenamiento."
   ]
  },
  {
   "cell_type": "markdown",
   "metadata": {},
   "source": [
    "Para ahorrarnos repetir los mismos bucles, los cálculos necesarios para elaborar ahora los __P(c)__ ya se han realizado en la parte I del documento, como se indicaba en el código de dicha parte: Allí se calculaban el total de documentos y el total de documentos de cada categoría."
   ]
  },
  {
   "cell_type": "code",
   "execution_count": 266,
   "metadata": {
    "collapsed": false
   },
   "outputs": [
    {
     "name": "stdout",
     "output_type": "stream",
     "text": [
      "P(acción) = \t 0.530612\n"
     ]
    }
   ],
   "source": [
    "probabilidad_acción = total_documentos_acción_entrenamiento / total_documentos_entrenamiento\n",
    "print(\"P(acción) = \\t %f\" % (probabilidad_acción))"
   ]
  },
  {
   "cell_type": "code",
   "execution_count": 267,
   "metadata": {
    "collapsed": false
   },
   "outputs": [
    {
     "name": "stdout",
     "output_type": "stream",
     "text": [
      "P(comedia) = \t 0.020408\n"
     ]
    }
   ],
   "source": [
    "probabilidad_comedia = total_documentos_comedia_entrenamiento / total_documentos_entrenamiento\n",
    "print(\"P(comedia) = \\t %f\" % (probabilidad_comedia))"
   ]
  },
  {
   "cell_type": "code",
   "execution_count": 268,
   "metadata": {
    "collapsed": false
   },
   "outputs": [
    {
     "name": "stdout",
     "output_type": "stream",
     "text": [
      "P(terror) = \t 0.020408\n"
     ]
    }
   ],
   "source": [
    "probabilidad_terror = total_documentos_terror_entrenamiento / total_documentos_entrenamiento\n",
    "print(\"P(terror) = \\t %f\" % (probabilidad_terror))"
   ]
  },
  {
   "cell_type": "code",
   "execution_count": 269,
   "metadata": {
    "collapsed": false
   },
   "outputs": [
    {
     "name": "stdout",
     "output_type": "stream",
     "text": [
      "P(bélico) = \t 0.428571\n"
     ]
    }
   ],
   "source": [
    "probabilidad_bélico = total_documentos_bélico_entrenamiento / total_documentos_entrenamiento\n",
    "print(\"P(bélico) = \\t %f\" % (probabilidad_bélico))"
   ]
  },
  {
   "cell_type": "markdown",
   "metadata": {},
   "source": [
    "Sólo para asegurarnos, todas las probabilidades deben sumar __~1__ en este apartado:"
   ]
  },
  {
   "cell_type": "code",
   "execution_count": 270,
   "metadata": {
    "collapsed": false
   },
   "outputs": [
    {
     "name": "stdout",
     "output_type": "stream",
     "text": [
      "Suma de probabilidades (debe ser ~1) \t 1.000000\n"
     ]
    }
   ],
   "source": [
    "print(\"Suma de probabilidades (debe ser ~1) \\t %f\" % (probabilidad_acción + probabilidad_comedia + probabilidad_terror + probabilidad_bélico))"
   ]
  },
  {
   "cell_type": "markdown",
   "metadata": {},
   "source": [
    "Ahora, para calcular los __P(t|c)__ será un poco más complejo. Para llevar a cabo esta tarea haremos uso de __un diccionario por cada categoría__ que __relacionará palabras clave con su probabilidad condicionada a la categoría del diccionario__. De nuevo, tomaremos la categoría \"acción\" como ejemplo: el diccionario \"probabilidad_palabraclave_acción\" recogerá, por cada palabra clave, su probabilidad condiccionada a la categoría acción, es decir, su __P(t|acción__), siendo \"t\" cada entrada del diccionario."
   ]
  },
  {
   "cell_type": "markdown",
   "metadata": {},
   "source": [
    "Pero antes de empezar, definiremos un método, que utilizaremos en los siguientes pasos, que genere cada diccionario deseado como salida y, además, le __aplique un suavizado de LaPlace__:"
   ]
  },
  {
   "cell_type": "code",
   "execution_count": 271,
   "metadata": {
    "collapsed": false
   },
   "outputs": [],
   "source": [
    "def crea_diccionario_probabilidades_condicionadas(archivo_entrenamiento_categoría, palabras_clave_categoría):\n",
    "    probabilidades_condicionadas = {}\n",
    "    cuenta_palabras_categoría = cuenta_palabras_desde_archivos(ruta_conjunto_entrenamiento, archivo_entrenamiento_categoría) # Almacena las palabras clave de la categoría y el número de veces que se repiten.\n",
    "    \n",
    "    número_palabras_clave_totales = len(palabras_clave) # Número de palabras clave que poseemos en total.\n",
    "    número_palabras_clave_categoría = sum(cuenta_palabras_categoría.values())\n",
    "    \n",
    "    for palabra_clave in palabras_clave:\n",
    "        if palabra_clave in palabras_clave_categoría:\n",
    "            número_veces_aparece_palabra_en_categoría = cuenta_palabras_categoría[palabra_clave] # Número de veces que la palabra clave se repite en esta categoría.\n",
    "        else:\n",
    "            número_veces_aparece_palabra_en_categoría = 0\n",
    "        result = ((número_veces_aparece_palabra_en_categoría + 1) / (número_palabras_clave_categoría + número_palabras_clave_totales)) # Añadimos 1 en el numerador y el número de palabras claves totales en el denominador para aplicar el suavizado.\n",
    "        probabilidades_condicionadas[palabra_clave] = result\n",
    "    \n",
    "    return probabilidades_condicionadas"
   ]
  },
  {
   "cell_type": "markdown",
   "metadata": {},
   "source": [
    "También vamos a crear un pequeño método que nos ayude a visualizar las probabilidades condicionadas:"
   ]
  },
  {
   "cell_type": "code",
   "execution_count": 272,
   "metadata": {
    "collapsed": false
   },
   "outputs": [],
   "source": [
    "def mostrar_diccionario_probabilidades_condicionadas(diccionario, categoría):\n",
    "    for entrada in diccionario:\n",
    "        print(\"P(%s|%s) = \\t %f\" % (entrada, categoría, diccionario[entrada]))"
   ]
  },
  {
   "cell_type": "markdown",
   "metadata": {},
   "source": [
    "Ahora, empezamos con el cálculo en sí:"
   ]
  },
  {
   "cell_type": "code",
   "execution_count": 273,
   "metadata": {
    "collapsed": false
   },
   "outputs": [
    {
     "name": "stdout",
     "output_type": "stream",
     "text": [
      "P(alemán|acción) = \t 0.000129\n",
      "P(escapa|acción) = \t 0.000900\n",
      "P(bomba|acción) = \t 0.000643\n",
      "P(venganza|acción) = \t 0.000772\n",
      "P(problemas|acción) = \t 0.000900\n",
      "P(sargento|acción) = \t 0.000129\n",
      "P(operación|acción) = \t 0.000900\n",
      "P(oficial|acción) = \t 0.000129\n",
      "P(enemigo|acción) = \t 0.000129\n",
      "P(policía|acción) = \t 0.003344\n",
      "P(cabo|acción) = \t 0.000129\n",
      "P(carrera|acción) = \t 0.001415\n",
      "P(asesino|acción) = \t 0.000514\n",
      "P(estadounidenses|acción) = \t 0.000129\n",
      "P(misión|acción) = \t 0.000129\n",
      "P(investigación|acción) = \t 0.000643\n",
      "P(vietnam|acción) = \t 0.000129\n",
      "P(teniente|acción) = \t 0.000129\n",
      "P(asesinos|acción) = \t 0.000772\n",
      "P(combate|acción) = \t 0.000129\n",
      "P(ejército|acción) = \t 0.000129\n",
      "P(auto|acción) = \t 0.002058\n",
      "P(guerra|acción) = \t 0.000129\n",
      "P(escapar|acción) = \t 0.001415\n",
      "P(seguridad|acción) = \t 0.001029\n",
      "P(terrorista|acción) = \t 0.000643\n",
      "P(carreras|acción) = \t 0.000772\n",
      "P(soldado|acción) = \t 0.000129\n",
      "P(grupo|acción) = \t 0.000129\n",
      "P(persecución|acción) = \t 0.000643\n",
      "P(hospital|acción) = \t 0.000772\n",
      "P(muerto|acción) = \t 0.000643\n",
      "P(soldados|acción) = \t 0.000129\n",
      "P(alemanes|acción) = \t 0.000129\n",
      "P(general|acción) = \t 0.000129\n",
      "P(hombres|acción) = \t 0.000129\n",
      "P(infantería|acción) = \t 0.000129\n",
      "P(regimiento|acción) = \t 0.000129\n",
      "P(unidos|acción) = \t 0.000129\n",
      "P(asesina|acción) = \t 0.000772\n",
      "P(destrucción|acción) = \t 0.000643\n",
      "P(ataque|acción) = \t 0.000772\n",
      "P(estadounidense|acción) = \t 0.000129\n",
      "P(llamada|acción) = \t 0.001029\n",
      "P(terroristas|acción) = \t 0.000643\n",
      "P(prisión|acción) = \t 0.000772\n",
      "P(agente|acción) = \t 0.002315\n",
      "P(arma|acción) = \t 0.000772\n",
      "P(coche|acción) = \t 0.002315\n",
      "P(muerte|acción) = \t 0.000772\n",
      "P(gasolina|acción) = \t 0.001029\n",
      "P(capitán|acción) = \t 0.000129\n",
      "P(matar|acción) = \t 0.000129\n"
     ]
    }
   ],
   "source": [
    "probabilidad_palabraclave_acción = crea_diccionario_probabilidades_condicionadas(archivos_entrenamiento_acción, palabras_clave_acción)\n",
    "\n",
    "mostrar_diccionario_probabilidades_condicionadas(probabilidad_palabraclave_acción, \"acción\")"
   ]
  },
  {
   "cell_type": "code",
   "execution_count": 274,
   "metadata": {
    "collapsed": false
   },
   "outputs": [
    {
     "name": "stdout",
     "output_type": "stream",
     "text": [
      "P(alemán|comedia) = \t 0.001709\n",
      "P(escapa|comedia) = \t 0.001709\n",
      "P(bomba|comedia) = \t 0.001709\n",
      "P(venganza|comedia) = \t 0.001709\n",
      "P(problemas|comedia) = \t 0.001709\n",
      "P(sargento|comedia) = \t 0.001709\n",
      "P(operación|comedia) = \t 0.001709\n",
      "P(oficial|comedia) = \t 0.001709\n",
      "P(enemigo|comedia) = \t 0.001709\n",
      "P(policía|comedia) = \t 0.001709\n",
      "P(cabo|comedia) = \t 0.001709\n",
      "P(carrera|comedia) = \t 0.001709\n",
      "P(asesino|comedia) = \t 0.001709\n",
      "P(estadounidenses|comedia) = \t 0.001709\n",
      "P(misión|comedia) = \t 0.001709\n",
      "P(investigación|comedia) = \t 0.001709\n",
      "P(vietnam|comedia) = \t 0.001709\n",
      "P(teniente|comedia) = \t 0.001709\n",
      "P(asesinos|comedia) = \t 0.001709\n",
      "P(combate|comedia) = \t 0.001709\n",
      "P(ejército|comedia) = \t 0.001709\n",
      "P(auto|comedia) = \t 0.001709\n",
      "P(guerra|comedia) = \t 0.001709\n",
      "P(escapar|comedia) = \t 0.001709\n",
      "P(seguridad|comedia) = \t 0.001709\n",
      "P(terrorista|comedia) = \t 0.001709\n",
      "P(carreras|comedia) = \t 0.001709\n",
      "P(soldado|comedia) = \t 0.001709\n",
      "P(grupo|comedia) = \t 0.001709\n",
      "P(persecución|comedia) = \t 0.001709\n",
      "P(hospital|comedia) = \t 0.001709\n",
      "P(muerto|comedia) = \t 0.001709\n",
      "P(soldados|comedia) = \t 0.001709\n",
      "P(alemanes|comedia) = \t 0.001709\n",
      "P(general|comedia) = \t 0.001709\n",
      "P(hombres|comedia) = \t 0.001709\n",
      "P(infantería|comedia) = \t 0.001709\n",
      "P(regimiento|comedia) = \t 0.001709\n",
      "P(unidos|comedia) = \t 0.001709\n",
      "P(asesina|comedia) = \t 0.001709\n",
      "P(destrucción|comedia) = \t 0.001709\n",
      "P(ataque|comedia) = \t 0.001709\n",
      "P(estadounidense|comedia) = \t 0.001709\n",
      "P(llamada|comedia) = \t 0.001709\n",
      "P(terroristas|comedia) = \t 0.001709\n",
      "P(prisión|comedia) = \t 0.001709\n",
      "P(agente|comedia) = \t 0.001709\n",
      "P(arma|comedia) = \t 0.001709\n",
      "P(coche|comedia) = \t 0.001709\n",
      "P(muerte|comedia) = \t 0.001709\n",
      "P(gasolina|comedia) = \t 0.001709\n",
      "P(capitán|comedia) = \t 0.001709\n",
      "P(matar|comedia) = \t 0.001709\n"
     ]
    }
   ],
   "source": [
    "probabilidad_palabraclave_comedia = crea_diccionario_probabilidades_condicionadas(archivos_entrenamiento_comedia, palabras_clave_comedia)\n",
    "\n",
    "mostrar_diccionario_probabilidades_condicionadas(probabilidad_palabraclave_comedia, \"comedia\")"
   ]
  },
  {
   "cell_type": "code",
   "execution_count": 275,
   "metadata": {
    "collapsed": false
   },
   "outputs": [
    {
     "name": "stdout",
     "output_type": "stream",
     "text": [
      "P(alemán|terror) = \t 0.000510\n",
      "P(escapa|terror) = \t 0.000510\n",
      "P(bomba|terror) = \t 0.000510\n",
      "P(venganza|terror) = \t 0.000510\n",
      "P(problemas|terror) = \t 0.000510\n",
      "P(sargento|terror) = \t 0.000510\n",
      "P(operación|terror) = \t 0.000510\n",
      "P(oficial|terror) = \t 0.000510\n",
      "P(enemigo|terror) = \t 0.000510\n",
      "P(policía|terror) = \t 0.000510\n",
      "P(cabo|terror) = \t 0.000510\n",
      "P(carrera|terror) = \t 0.000510\n",
      "P(asesino|terror) = \t 0.000510\n",
      "P(estadounidenses|terror) = \t 0.000510\n",
      "P(misión|terror) = \t 0.000510\n",
      "P(investigación|terror) = \t 0.000510\n",
      "P(vietnam|terror) = \t 0.000510\n",
      "P(teniente|terror) = \t 0.000510\n",
      "P(asesinos|terror) = \t 0.000510\n",
      "P(combate|terror) = \t 0.000510\n",
      "P(ejército|terror) = \t 0.000510\n",
      "P(auto|terror) = \t 0.000510\n",
      "P(guerra|terror) = \t 0.000510\n",
      "P(escapar|terror) = \t 0.000510\n",
      "P(seguridad|terror) = \t 0.000510\n",
      "P(terrorista|terror) = \t 0.000510\n",
      "P(carreras|terror) = \t 0.000510\n",
      "P(soldado|terror) = \t 0.000510\n",
      "P(grupo|terror) = \t 0.000510\n",
      "P(persecución|terror) = \t 0.000510\n",
      "P(hospital|terror) = \t 0.000510\n",
      "P(muerto|terror) = \t 0.000510\n",
      "P(soldados|terror) = \t 0.000510\n",
      "P(alemanes|terror) = \t 0.000510\n",
      "P(general|terror) = \t 0.000510\n",
      "P(hombres|terror) = \t 0.000510\n",
      "P(infantería|terror) = \t 0.000510\n",
      "P(regimiento|terror) = \t 0.000510\n",
      "P(unidos|terror) = \t 0.000510\n",
      "P(asesina|terror) = \t 0.000510\n",
      "P(destrucción|terror) = \t 0.000510\n",
      "P(ataque|terror) = \t 0.000510\n",
      "P(estadounidense|terror) = \t 0.000510\n",
      "P(llamada|terror) = \t 0.000510\n",
      "P(terroristas|terror) = \t 0.000510\n",
      "P(prisión|terror) = \t 0.000510\n",
      "P(agente|terror) = \t 0.000510\n",
      "P(arma|terror) = \t 0.000510\n",
      "P(coche|terror) = \t 0.000510\n",
      "P(muerte|terror) = \t 0.000510\n",
      "P(gasolina|terror) = \t 0.000510\n",
      "P(capitán|terror) = \t 0.000510\n",
      "P(matar|terror) = \t 0.000510\n"
     ]
    }
   ],
   "source": [
    "probabilidad_palabraclave_terror = crea_diccionario_probabilidades_condicionadas(archivos_entrenamiento_terror, palabras_clave_terror)\n",
    "\n",
    "mostrar_diccionario_probabilidades_condicionadas(probabilidad_palabraclave_terror, \"terror\")"
   ]
  },
  {
   "cell_type": "code",
   "execution_count": 276,
   "metadata": {
    "collapsed": false
   },
   "outputs": [
    {
     "name": "stdout",
     "output_type": "stream",
     "text": [
      "P(alemán|bélico) = \t 0.001463\n",
      "P(escapa|bélico) = \t 0.000163\n",
      "P(bomba|bélico) = \t 0.000163\n",
      "P(venganza|bélico) = \t 0.000163\n",
      "P(problemas|bélico) = \t 0.000163\n",
      "P(sargento|bélico) = \t 0.003576\n",
      "P(operación|bélico) = \t 0.001138\n",
      "P(oficial|bélico) = \t 0.001138\n",
      "P(enemigo|bélico) = \t 0.000975\n",
      "P(policía|bélico) = \t 0.000163\n",
      "P(cabo|bélico) = \t 0.000975\n",
      "P(carrera|bélico) = \t 0.000163\n",
      "P(asesino|bélico) = \t 0.000163\n",
      "P(estadounidenses|bélico) = \t 0.001300\n",
      "P(misión|bélico) = \t 0.001788\n",
      "P(investigación|bélico) = \t 0.000163\n",
      "P(vietnam|bélico) = \t 0.001300\n",
      "P(teniente|bélico) = \t 0.001463\n",
      "P(asesinos|bélico) = \t 0.000163\n",
      "P(combate|bélico) = \t 0.002113\n",
      "P(ejército|bélico) = \t 0.003739\n",
      "P(auto|bélico) = \t 0.000163\n",
      "P(guerra|bélico) = \t 0.006502\n",
      "P(escapar|bélico) = \t 0.000163\n",
      "P(seguridad|bélico) = \t 0.000163\n",
      "P(terrorista|bélico) = \t 0.000163\n",
      "P(carreras|bélico) = \t 0.000163\n",
      "P(soldado|bélico) = \t 0.001138\n",
      "P(grupo|bélico) = \t 0.002438\n",
      "P(persecución|bélico) = \t 0.000163\n",
      "P(hospital|bélico) = \t 0.000163\n",
      "P(muerto|bélico) = \t 0.000163\n",
      "P(soldados|bélico) = \t 0.003251\n",
      "P(alemanes|bélico) = \t 0.001463\n",
      "P(general|bélico) = \t 0.002763\n",
      "P(hombres|bélico) = \t 0.002113\n",
      "P(infantería|bélico) = \t 0.001138\n",
      "P(regimiento|bélico) = \t 0.001138\n",
      "P(unidos|bélico) = \t 0.001625\n",
      "P(asesina|bélico) = \t 0.000163\n",
      "P(destrucción|bélico) = \t 0.000163\n",
      "P(ataque|bélico) = \t 0.000163\n",
      "P(estadounidense|bélico) = \t 0.001300\n",
      "P(llamada|bélico) = \t 0.000163\n",
      "P(terroristas|bélico) = \t 0.000163\n",
      "P(prisión|bélico) = \t 0.000163\n",
      "P(agente|bélico) = \t 0.000163\n",
      "P(arma|bélico) = \t 0.000163\n",
      "P(coche|bélico) = \t 0.000163\n",
      "P(muerte|bélico) = \t 0.000163\n",
      "P(gasolina|bélico) = \t 0.000163\n",
      "P(capitán|bélico) = \t 0.001463\n",
      "P(matar|bélico) = \t 0.001625\n"
     ]
    }
   ],
   "source": [
    "probabilidad_palabraclave_bélico = crea_diccionario_probabilidades_condicionadas(archivos_entrenamiento_bélico, palabras_clave_bélico)\n",
    "\n",
    "mostrar_diccionario_probabilidades_condicionadas(probabilidad_palabraclave_bélico, \"bélico\")"
   ]
  },
  {
   "cell_type": "markdown",
   "metadata": {},
   "source": [
    "Una vez calculadas todas las probabilidades condicionadas de todas las categorías ya hemos finalizado con este subapartado, pero antes vamos a recordar un par de cosas:"
   ]
  },
  {
   "cell_type": "markdown",
   "metadata": {},
   "source": [
    "Para acceder a una probabilidad específica símplemente ejecutamos lo siguiente (para el ejemplo obtendremos la __probabilidad de coche__ condicionada a la categoría __acción__, es decir, __P(coche|acción)__):"
   ]
  },
  {
   "cell_type": "code",
   "execution_count": 277,
   "metadata": {
    "collapsed": false
   },
   "outputs": [
    {
     "name": "stdout",
     "output_type": "stream",
     "text": [
      "P(coche|acción) = 0.002315\n"
     ]
    }
   ],
   "source": [
    "print(\"P(coche|acción) = %f\" % (probabilidad_palabraclave_acción[\"coche\"]))"
   ]
  },
  {
   "cell_type": "markdown",
   "metadata": {},
   "source": [
    "Si hubiese una __palabra clave que no pertenece a acción, la probabilidad no sería 0__ ya que estamos usando suavizado. Por ejemplo, podemos comprobarlo con la probabilidad de soldado (que no forma parte de las palabras clave de acción) condicionada a acción (__P(soldado|acción)__):"
   ]
  },
  {
   "cell_type": "code",
   "execution_count": 278,
   "metadata": {
    "collapsed": false
   },
   "outputs": [
    {
     "name": "stdout",
     "output_type": "stream",
     "text": [
      "P(soldado|acción) = 0.000129\n"
     ]
    }
   ],
   "source": [
    "print(\"P(soldado|acción) = %f\" % (probabilidad_palabraclave_acción[\"soldado\"]))"
   ]
  },
  {
   "cell_type": "markdown",
   "metadata": {},
   "source": [
    "### Parte IV-B: Procesamiento de kNN"
   ]
  },
  {
   "cell_type": "code",
   "execution_count": null,
   "metadata": {
    "collapsed": true
   },
   "outputs": [],
   "source": []
  },
  {
   "cell_type": "markdown",
   "metadata": {},
   "source": [
    "## Parte V: Salvado del procesamiento en fichero"
   ]
  },
  {
   "cell_type": "markdown",
   "metadata": {},
   "source": [
    "### Parte V-A: Salvado del procesamiento de Naive Bayes"
   ]
  },
  {
   "cell_type": "markdown",
   "metadata": {},
   "source": [
    "Dado que el enunciado de la práctica requiere que guardemos el procesado que acabamos que realizar (en la parte IV) para después utilizarlo en la ejecución de los algoritmos, procedemos a ello."
   ]
  },
  {
   "cell_type": "markdown",
   "metadata": {},
   "source": [
    "Primero necesitamos crear dos grandes listas: la primera contendrá la cadena relacionada con la probabilidad de que pase algo y la segunda la probabilidad de que pase. Ambas listas deben ser iguales y debemos almacenar toda la información obtenida."
   ]
  },
  {
   "cell_type": "code",
   "execution_count": 279,
   "metadata": {
    "collapsed": false
   },
   "outputs": [],
   "source": [
    "lista_texto = []\n",
    "lista_valor = []\n",
    "\n",
    "lista_texto.append(\"P(acción)\")\n",
    "lista_valor.append(probabilidad_acción)\n",
    "\n",
    "lista_texto.append(\"P(comedia)\")\n",
    "lista_valor.append(probabilidad_comedia)\n",
    "\n",
    "lista_texto.append(\"P(terror)\")\n",
    "lista_valor.append(probabilidad_terror)\n",
    "\n",
    "lista_texto.append(\"P(bélico)\")\n",
    "lista_valor.append(probabilidad_bélico)\n",
    "\n",
    "for entrada in probabilidad_palabraclave_acción:\n",
    "    lista_texto.append(\"P(\" + entrada + \"|\" + \"acción\" + \")\")\n",
    "    lista_valor.append(probabilidad_palabraclave_acción[entrada])\n",
    "\n",
    "for entrada in probabilidad_palabraclave_comedia:\n",
    "    lista_texto.append(\"P(\" + entrada + \"|\" + \"comedia\" + \")\")\n",
    "    lista_valor.append(probabilidad_palabraclave_comedia[entrada])\n",
    "\n",
    "for entrada in probabilidad_palabraclave_terror:\n",
    "    lista_texto.append(\"P(\" + entrada + \"|\" + \"terror\" + \")\")\n",
    "    lista_valor.append(probabilidad_palabraclave_terror[entrada])\n",
    "\n",
    "for entrada in probabilidad_palabraclave_bélico:\n",
    "    lista_texto.append(\"P(\" + entrada + \"|\" + \"bélico\" + \")\")\n",
    "    lista_valor.append(probabilidad_palabraclave_bélico[entrada])"
   ]
  },
  {
   "cell_type": "code",
   "execution_count": 280,
   "metadata": {
    "collapsed": false
   },
   "outputs": [],
   "source": [
    "import csv # Librería que necesitaremos para guardar en formato \".csv\".\n",
    "\n",
    "csvfile = \"csv/naive-bayes.csv\"\n",
    "datos_a_guardar = zip(lista_texto, lista_valor)\n",
    "\n",
    "with open(csvfile, \"w\") as output:\n",
    "    writer = csv.writer(output, lineterminator='\\n')\n",
    "    for dato in datos_a_guardar:\n",
    "        writer.writerow([dato[0]] + [dato[1]])"
   ]
  },
  {
   "cell_type": "markdown",
   "metadata": {},
   "source": [
    "### Parte V-B: Salvado del procesamiento de kNN"
   ]
  },
  {
   "cell_type": "markdown",
   "metadata": {},
   "source": [
    "## Parte VI: Ejecución de los algoritmos"
   ]
  },
  {
   "cell_type": "markdown",
   "metadata": {},
   "source": [
    "En la parte II ya encontramos los ficheros del conjunto de test, que están en su respectiva carpeta, ahora tenemos que procesaros igual que hicimos en la parte III con los ficheros del conjunto de pruebas."
   ]
  },
  {
   "cell_type": "markdown",
   "metadata": {},
   "source": [
    "Vamos a definir un método que nos será de utilidad: a partir de un __csv__ dado y de una __cadena a buscar__, devolverá el valor relacionado con dicha celda del csv. Esto nos será útil para, a partir de la cadena de una probabilidad (por ejemplo, _P(bala|acción)_), nos devuelva su probabilidad."
   ]
  },
  {
   "cell_type": "code",
   "execution_count": 281,
   "metadata": {
    "collapsed": false
   },
   "outputs": [],
   "source": [
    "def lee_fichero(nombre_csv):\n",
    "    with open(nombre_csv, 'rt', encoding=\"latin-1\") as fichero:\n",
    "        lector = csv.reader(fichero)\n",
    "        diccionario = dict(lector)\n",
    "    \n",
    "    return diccionario"
   ]
  },
  {
   "cell_type": "markdown",
   "metadata": {},
   "source": [
    "### Parte VI-A: Ejecución de Naive Bayes"
   ]
  },
  {
   "cell_type": "markdown",
   "metadata": {},
   "source": [
    "El método naive_bayes recibe un archivo y los datos procesados (probabilidades) como parámetros y determina la categoría del archivo pasado como parámetro."
   ]
  },
  {
   "cell_type": "code",
   "execution_count": 282,
   "metadata": {
    "collapsed": false
   },
   "outputs": [],
   "source": [
    "def naive_bayes(archivo, csv):\n",
    "    cuenta_palabras = cuenta_palabras_desde_archivo(ruta_conjunto_prueba, archivo)\n",
    "    \n",
    "    palabras_coincidentes_con_palabras_clave = cuenta_palabras.copy()\n",
    "    \n",
    "    # De las palabras que contiene el fichero, desechamos todas las que no coinciden con las palabras clave.\n",
    "    for palabra in cuenta_palabras:\n",
    "        if palabra not in palabras_clave:\n",
    "            del palabras_coincidentes_con_palabras_clave[palabra]\n",
    "    \n",
    "    # Abrimos el fichero \".csv\" generado para consultar datos en el siguiente paso.\n",
    "    datos = lee_fichero(csv)\n",
    "    \n",
    "    # Ejecutamos el algoritmo en sí.\n",
    "    resultados = {} # Resultados será un diccionario que contendrá la categoría y la \"puntuación\" otorgada por el algoritmo a esa categoría (para posteriormente elegir la categoría con el máximo valor).\n",
    "    \n",
    "    for categoría in categorías:\n",
    "        probabilidades_condicionadas_a_multiplicar = []\n",
    "        for palabra_clave in palabras_coincidentes_con_palabras_clave:\n",
    "            cadena_a_buscar = \"P(\" + palabra_clave + \"|\" + categoría + \")\" # Define la cadena que se debe buscar en el archivo. En este caso la probabilidad condicionada a la categoría.\n",
    "            probabilidades_condicionadas_a_multiplicar.append(float(datos[cadena_a_buscar])) # Añade el valor de la probabilidad condicionada hallada.\n",
    "        \n",
    "        cadena_a_buscar = \"P(\" + categoría + \")\" # Define la cadena que se debe buscar en el archivo. En este caso la probabilidad de la categoría.\n",
    "        probabilidad_categoría = float(datos[cadena_a_buscar])\n",
    "        \n",
    "        # Multiplicamos los elementos de la lista de probabilidades condicionadas\n",
    "        probabilidades_condicionadas_multiplicadas = 1.0\n",
    "        for elemento in probabilidades_condicionadas_a_multiplicar:\n",
    "            probabilidades_condicionadas_multiplicadas = probabilidades_condicionadas_multiplicadas * elemento\n",
    "        \n",
    "        resultados[categoría] = probabilidades_condicionadas_multiplicadas * probabilidad_categoría # Calcula el coeficiente\n",
    "    \n",
    "    result = max(resultados, key=resultados.get) # Devuleve el resultado del algoritmo. En este caso el elemento del diccionario con mayor coeficiente.\n",
    "    \n",
    "    return result"
   ]
  },
  {
   "cell_type": "markdown",
   "metadata": {},
   "source": [
    "__Ejecutamos el algoritmo__ e __imprimimos__ los __resultados__ obtenidos:"
   ]
  },
  {
   "cell_type": "code",
   "execution_count": 283,
   "metadata": {
    "collapsed": false
   },
   "outputs": [
    {
     "name": "stdout",
     "output_type": "stream",
     "text": [
      "Tras aplicar el algoritmo Naive-Bayes a [[[Teléfono rojo - Volamos hacia Moscú]]] el resultado es... \t [[[bélico]]]\n",
      "Tras aplicar el algoritmo Naive-Bayes a [[[El padrino]]] el resultado es... \t [[[acción]]]\n",
      "Tras aplicar el algoritmo Naive-Bayes a [[[La caza del Octubre Rojo]]] el resultado es... \t [[[comedia]]]\n",
      "Tras aplicar el algoritmo Naive-Bayes a [[[El tirador]]] el resultado es... \t [[[comedia]]]\n"
     ]
    }
   ],
   "source": [
    "for archivo in archivos_prueba:\n",
    "    print(\"Tras aplicar el algoritmo Naive-Bayes a [[[%s]]] el resultado es... \\t [[[%s]]]\" % (archivo.replace(\".txt\", \"\"), naive_bayes(archivo, \"csv/naive-bayes.csv\")))"
   ]
  },
  {
   "cell_type": "markdown",
   "metadata": {},
   "source": [
    "### Parte VI-B: Ejecución de kNN"
   ]
  },
  {
   "cell_type": "code",
   "execution_count": null,
   "metadata": {
    "collapsed": true
   },
   "outputs": [],
   "source": []
  },
  {
   "cell_type": "markdown",
   "metadata": {},
   "source": [
    "## Parte VII: Análisis de los resultados"
   ]
  },
  {
   "cell_type": "code",
   "execution_count": null,
   "metadata": {
    "collapsed": false
   },
   "outputs": [],
   "source": []
  },
  {
   "cell_type": "markdown",
   "metadata": {},
   "source": [
    "## Parte VIII: Conclusiones"
   ]
  },
  {
   "cell_type": "code",
   "execution_count": null,
   "metadata": {
    "collapsed": true
   },
   "outputs": [],
   "source": []
  },
  {
   "cell_type": "code",
   "execution_count": null,
   "metadata": {
    "collapsed": true
   },
   "outputs": [],
   "source": []
  }
 ],
 "metadata": {
  "kernelspec": {
   "display_name": "Python 3",
   "language": "python",
   "name": "python3"
  },
  "language_info": {
   "codemirror_mode": {
    "name": "ipython",
    "version": 3
   },
   "file_extension": ".py",
   "mimetype": "text/x-python",
   "name": "python",
   "nbconvert_exporter": "python",
   "pygments_lexer": "ipython3",
   "version": "3.6.0"
  }
 },
 "nbformat": 4,
 "nbformat_minor": 2
}
