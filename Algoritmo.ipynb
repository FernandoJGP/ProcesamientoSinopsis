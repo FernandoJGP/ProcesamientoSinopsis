{
 "cells": [
  {
   "cell_type": "markdown",
   "metadata": {},
   "source": [
    "## Clasificación de documentos:"
   ]
  },
  {
   "cell_type": "markdown",
   "metadata": {},
   "source": [
    "# Calculo del género de una película a raíz de su sinopsis"
   ]
  },
  {
   "cell_type": "markdown",
   "metadata": {},
   "source": [
    "## Parte I: Introducción"
   ]
  },
  {
   "cell_type": "markdown",
   "metadata": {},
   "source": [
    "Se requiere la implementación de un algoritmo que, previamente entrenado, calcule el __género principal__ de una película en base al conocimiento adquirido."
   ]
  },
  {
   "cell_type": "markdown",
   "metadata": {},
   "source": [
    "Los géneros que tendrá en cuenta el algoritmo son: ___acción___, ___comedia___, ___terror___, ___bélico___ y __western__."
   ]
  },
  {
   "cell_type": "markdown",
   "metadata": {},
   "source": [
    "Los __archivos que contienen la sinopsis__ de las películas (o equivalente, pudiendo ser también un breve resumen de la primera parte de la película) estarán distribuídos de la siguiente forma: __1)__ Si forman parte del conjunto de pruebas estarán dentro de la carpeta del conjunto de prueba sin más, que será la carpeta en la que el algoritmo, una vez entrenado, buscará las sinopsis allí presentes para categorizarlas __2)__ Si forman parte del conjunto de entrenamiento estarán dentro de la carpeta del conjunto de entrenamiento y __a su vez__ dentro de una carpeta que indique su género."
   ]
  },
  {
   "cell_type": "markdown",
   "metadata": {},
   "source": [
    "Inicialmente se planteó utilizar _html_ como __formato__ para almacenar los archivos con los que vamos a trabajar pero, dado que no ha sido posible encontrar una fuente común para extraer todas las sinopsis, finalmente se almacenarán como __texto plano__, trabajando de esta manera con archivos _.txt_."
   ]
  },
  {
   "cell_type": "markdown",
   "metadata": {},
   "source": [
    "__Los conocimientos requeridos por parte del usuario__ que ejecutará el algoritmo __son mínimos__: tan sólo necesita __colocar__ los textos, en el formato adecuado, en la carpeta indicada y __ejecutar__ el algoritmo en sí. Únicamente se requiere mayor interacción por parte del usuario si desea cambiar si desea cambiar las palabras clave, puesto que entonces deberá modificar el fichero \"_.csv_\" indicado."
   ]
  },
  {
   "cell_type": "markdown",
   "metadata": {},
   "source": [
    "---"
   ]
  },
  {
   "cell_type": "markdown",
   "metadata": {},
   "source": [
    "## Parte II: Puesta a punto y escaneo"
   ]
  },
  {
   "cell_type": "markdown",
   "metadata": {},
   "source": [
    "### Parte II-A: Puesta a punto"
   ]
  },
  {
   "cell_type": "markdown",
   "metadata": {},
   "source": [
    "Empezamos símplemente indicando qué __carpeta__ contiene el __conjunto de entrenamiento__ y el de __prueba__, que por defecto se guardan en las carpetas \"*conjunto_entrenamiento*\" y \"*conjunto_prueba*\" respectivamente."
   ]
  },
  {
   "cell_type": "code",
   "execution_count": 1,
   "metadata": {
    "collapsed": false
   },
   "outputs": [],
   "source": [
    "ruta_conjunto_entrenamiento = \"conjunto_entrenamiento\"\n",
    "ruta_conjunto_prueba = \"conjunto_prueba\""
   ]
  },
  {
   "cell_type": "markdown",
   "metadata": {},
   "source": [
    "Además inicializaremos la ruta en la que se encuentra el __fichero con las palabras clave personalizadas__."
   ]
  },
  {
   "cell_type": "code",
   "execution_count": 2,
   "metadata": {
    "collapsed": true
   },
   "outputs": [],
   "source": [
    "localización_palabras_clave = \"csv/palabras_clave.csv\""
   ]
  },
  {
   "cell_type": "markdown",
   "metadata": {},
   "source": [
    "E indicaremos __si queremos usar el auto-generado de palabras clave__ (para las categorías sin palabras clave) y los __umbrales a usar en dicho caso__ (se explican más adelante):"
   ]
  },
  {
   "cell_type": "code",
   "execution_count": 3,
   "metadata": {
    "collapsed": true
   },
   "outputs": [],
   "source": [
    "usar_autogenerado_si_procede = True\n",
    "umbral_repetición_autogenerado = 6\n",
    "umbral_longitud_autogenerado = 5"
   ]
  },
  {
   "cell_type": "markdown",
   "metadata": {},
   "source": [
    "### Parte II-B: Escaneo de las categorías"
   ]
  },
  {
   "cell_type": "markdown",
   "metadata": {},
   "source": [
    "A continuación, escaneamos la carpeta del conjunto de entrenamiento, que contendrá las __categorías__ en las que se podrán clasificar los nuevos documentos:"
   ]
  },
  {
   "cell_type": "code",
   "execution_count": 4,
   "metadata": {
    "collapsed": false
   },
   "outputs": [
    {
     "name": "stdout",
     "output_type": "stream",
     "text": [
      "Categorías: {'terror', 'acción', 'western', 'comedia', 'bélico'}\n"
     ]
    }
   ],
   "source": [
    "import os # Nos ayudaremos de la librería \"os\" para leer ficheros y carpetas.\n",
    "\n",
    "categorías = {elemento for elemento in os.listdir(ruta_conjunto_entrenamiento) if os.path.isdir(ruta_conjunto_entrenamiento + \"/\" + elemento)} # \"os.listdir\" devuelve las el contenido de un directorio dado, pero además queremos filtrar que sea un directorio, por eso lo procesamos y le aplicamos el filtro de que sea un directorio.\n",
    "\n",
    "print(\"Categorías: %s\" % (categorías))"
   ]
  },
  {
   "cell_type": "markdown",
   "metadata": {},
   "source": [
    "En la siguiente sección, vamos a recorrer nuestra estructura de carpetas para detectar cada uno de los textos a analizar."
   ]
  },
  {
   "cell_type": "markdown",
   "metadata": {},
   "source": [
    "### Parte II-C: Escaneo del conjunto de entrenamiento"
   ]
  },
  {
   "cell_type": "markdown",
   "metadata": {},
   "source": [
    "Procedemos a __encontrar__ todos los __archivos ya clasificados__ (conjunto de entrenamiento), según su __categoría__."
   ]
  },
  {
   "cell_type": "markdown",
   "metadata": {},
   "source": [
    "Vamos a almacenar todos los archivos según su categoría en un __diccionario__ (llamado *archivos\\_entrenamiento\\_categoría*), que contrendrá como __clave la categoría y como valor el conjunto de archivos de la categoría__."
   ]
  },
  {
   "cell_type": "markdown",
   "metadata": {},
   "source": [
    "Los valores del diccionario (es decir, en este caso los archivos que pertenecen a esa categoría) estarán contenidos en conjuntos (sets) ya que no nos interesa el orden y, además, no permite duplicados (no puede haber dos archivos con el mismo nombre)."
   ]
  },
  {
   "cell_type": "markdown",
   "metadata": {
    "collapsed": false
   },
   "source": [
    "Además, aprovechamos y almacenamos en el set \"*archivos_entrenamiento*\" todos los archivos de entrenamiento independientemente de la categoría, para ahorrarnos procesar el diccionario cada vez que queramos acceder a todos los archivos de entrenamiento."
   ]
  },
  {
   "cell_type": "code",
   "execution_count": 5,
   "metadata": {
    "collapsed": false
   },
   "outputs": [],
   "source": [
    "archivos_entrenamiento = set()\n",
    "archivos_entrenamiento_categoría = {}\n",
    "\n",
    "for categoría in categorías:\n",
    "    conjunto_auxiliar = set()\n",
    "    \n",
    "    for fichero in os.listdir(ruta_conjunto_entrenamiento + \"/\" + categoría):\n",
    "        if fichero.endswith(\".txt\"):\n",
    "            nombre_y_ruta_fichero = categoría + \"/\" + fichero\n",
    "            conjunto_auxiliar.add(nombre_y_ruta_fichero)\n",
    "    \n",
    "    archivos_entrenamiento.update(conjunto_auxiliar)\n",
    "    archivos_entrenamiento_categoría[categoría] = conjunto_auxiliar"
   ]
  },
  {
   "cell_type": "markdown",
   "metadata": {
    "collapsed": false
   },
   "source": [
    "Por tanto, para __acceder a todos los archivos__:"
   ]
  },
  {
   "cell_type": "code",
   "execution_count": 6,
   "metadata": {
    "collapsed": false,
    "scrolled": true
   },
   "outputs": [
    {
     "name": "stdout",
     "output_type": "stream",
     "text": [
      "{'terror/The Omen.txt', 'western/El último tren de Gun Hill.txt', 'terror/Nosferatu.txt', 'western/El fuera de la ley.txt', 'comedia/El Dictador.txt', 'bélico/Rescate al amanecer.txt', 'terror/Babadook.txt', 'comedia/Scary Movie.txt', 'acción/Kill Bill - Volumen 2.txt', 'comedia/El gran dictador.txt', 'comedia/Monsters University.txt', 'acción/The transporter.txt', 'acción/Venganza - Conexión Estambul.txt', 'bélico/Corazones de acero.txt', 'terror/Dracula.txt', 'western/Centauros del desierto.txt', 'acción/El caso Bourne.txt', 'comedia/La máscara.txt', 'western/Los 7 magníficos.txt', 'bélico/El hundimiento.txt', 'terror/Annabelle.txt', 'western/El sargento negro.txt', 'western/La diligencia.txt', 'acción/A todo gas.txt', 'acción/Fast and Furious 7.txt', 'western/Dos cabalgan juntos.txt', 'western/Hasta que llegó su hora.txt', 'comedia/Los caballeros de la mesa cuadrada .txt', 'terror/The eyes of my mother.txt', 'comedia/Shrek 2.txt', 'acción/Kill Bill - Volumen 1.txt', 'comedia/2 rubias de pelo en pecho.txt', 'western/Incidente en Ox-Bow.txt', 'comedia/Sopa de ganso.txt', 'acción/A todo gas 4.txt', 'acción/Misión imposible III.txt', 'terror/El exorcista.txt', 'terror/Sé lo que hicisteis el ultimo verano.txt', 'terror/La autopsia de Jane Doe.txt', 'bélico/Malditos bastardos.txt', 'acción/El legado de Bourne.txt', 'comedia/Despicable Me.txt', 'western/La legión invencible.txt', 'western/Los odiosos ocho.txt', 'terror/La semilla del diablo.txt', 'comedia/Tiempos Modernos.txt', 'western/El tesoro de Sierra Madre.txt', 'bélico/Enemigo a las puertas.txt', 'bélico/La delgada línea roja.txt', 'bélico/Cartas desde Iwo Jima.txt', 'terror/Ju On.txt', 'western/Río rojo.txt', 'comedia/Resacón en Las Vegas.txt', 'bélico/Black Hawk derribado.txt', 'comedia/Brüno.txt', 'terror/Los pájaros.txt', 'acción/La jungla 2 - Alerta roja.txt', 'western/El bueno el feo y el malo.txt', 'comedia/Monstruos SA.txt', 'acción/Misión imposible II.txt', 'terror/It follows.txt', 'western/El hombre que mató a Liberty Valance.txt', 'bélico/La chaqueta metálica.txt', 'bélico/El sargento de hierro.txt', 'comedia/Borat.txt', 'terror/El resplandor.txt', 'acción/La jungla 4 punto 0.txt', 'acción/Venganza.txt', 'bélico/El último samurái.txt', 'comedia/Swiss Army Man.txt', 'terror/Dejame entrar.txt', 'acción/La jungla de cristal 3 - La venganza.txt', 'bélico/En tierra hostil.txt', 'bélico/Valkiria.txt', 'western/Duelo de titanes.txt', 'comedia/Minions.txt', 'comedia/8 apellidos vascos.txt', 'western/El tren de las 3 y 10.txt', 'acción/Turbo-Charged Prelude.txt', 'western/Por un puñado de dólares.txt', 'bélico/Nacido el 4 de Julio.txt', 'terror/Expediente Warren.txt', 'comedia/Idiocracia.txt', 'terror/The Ring.txt', 'terror/Psicosis.txt', 'bélico/La redada.txt', 'bélico/Corazones de hierro.txt', 'bélico/Senderos de gloria.txt', 'terror/Pesadilla en Elm Street.txt', 'acción/A todo gas 3 punto 5 - Los bandoleros.txt', 'acción/2 Fast 2 Furious - A todo gas 2.txt', 'acción/Misión imposible - Nación secreta.txt', 'western/La muerte tenía un precio.txt', 'comedia/Madagascar.txt', 'bélico/Caballo de batalla.txt', 'western/Raíces profundas.txt', 'western/Le seguían llamando Trinidad.txt', 'bélico/Apocalipsis now.txt', 'western/Grupo salvaje.txt', 'comedia/La vida de Brian.txt', 'comedia/Shrek.txt', 'acción/Fast and Furious 6.txt', 'acción/Venganza 3.txt', 'bélico/Banderas de nuestros padres.txt', 'comedia/Solo en casa.txt', 'bélico/Salvar al soldado Ryan.txt', 'western/El dorado.txt', 'terror/REC.txt', 'comedia/Resacón 2.txt'}\n"
     ]
    }
   ],
   "source": [
    "print(archivos_entrenamiento)"
   ]
  },
  {
   "cell_type": "markdown",
   "metadata": {},
   "source": [
    "Y para obtener el __número total de archivos__ dentro __del conjunto de entrenamiento__ simplemente ejecutamos la siguiente instrucción:"
   ]
  },
  {
   "cell_type": "code",
   "execution_count": 7,
   "metadata": {
    "collapsed": false
   },
   "outputs": [
    {
     "name": "stdout",
     "output_type": "stream",
     "text": [
      "109\n"
     ]
    }
   ],
   "source": [
    "print(len(archivos_entrenamiento))"
   ]
  },
  {
   "cell_type": "markdown",
   "metadata": {},
   "source": [
    "Para __acceder a los archivos de una categoría__, por ejemplo acción, ejecutamos la siguiente orden:"
   ]
  },
  {
   "cell_type": "code",
   "execution_count": 8,
   "metadata": {
    "collapsed": false,
    "scrolled": false
   },
   "outputs": [],
   "source": [
    "# Descomentar para comprobar. Por defecto estará comentado para que el algoritmo funcione sin la categoría usada en el ejemplo.\n",
    "#archivos_entrenamiento_categoría[\"acción\"]"
   ]
  },
  {
   "cell_type": "markdown",
   "metadata": {},
   "source": [
    "Para obtener el __número de archivos dentro de una categoría__, ejecutamos:"
   ]
  },
  {
   "cell_type": "code",
   "execution_count": 9,
   "metadata": {
    "collapsed": false
   },
   "outputs": [],
   "source": [
    "# Descomentar para comprobar. Por defecto estará comentado para que el algoritmo funcione sin la categoría usada en el ejemplo.\n",
    "#len(archivos_entrenamiento_categoría[\"acción\"])"
   ]
  },
  {
   "cell_type": "markdown",
   "metadata": {},
   "source": [
    "### Parte II-D: Escaneo del conjunto de prueba"
   ]
  },
  {
   "cell_type": "markdown",
   "metadata": {},
   "source": [
    "Y, por último, procedemos a __encontrar__ los __archivos que querríamos clasificar__ (conjunto de prueba)."
   ]
  },
  {
   "cell_type": "markdown",
   "metadata": {},
   "source": [
    "Esta vez no es necesario usar diccionario (no necesitamos separarlos por categorías porque precisamente es lo que queremos hallar), así que usaremos un set por la misma razón por la que lo usamos como valor en el diccionario de los archivos del conjunto de entrenamiento (no queremos repeticiones ni nos interesa el orden)."
   ]
  },
  {
   "cell_type": "code",
   "execution_count": 10,
   "metadata": {
    "collapsed": false
   },
   "outputs": [],
   "source": [
    "archivos_prueba = set()\n",
    "for file in os.listdir(ruta_conjunto_prueba):\n",
    "    if file.endswith(\".txt\"):\n",
    "        archivos_prueba.add(file)"
   ]
  },
  {
   "cell_type": "markdown",
   "metadata": {
    "collapsed": false
   },
   "source": [
    "Por tanto, la variable \"*archivos_prueba*\" contendrá el conjunto con los archivos de prueba."
   ]
  },
  {
   "cell_type": "code",
   "execution_count": 11,
   "metadata": {
    "collapsed": false
   },
   "outputs": [
    {
     "name": "stdout",
     "output_type": "stream",
     "text": [
      "{'Le llamaban Trinidad.txt', 'Insidious.txt', 'El tirador.txt', 'La caza del Octubre Rojo.txt', 'It.txt', 'El padrino.txt', 'El ultimátum de Bourne.txt', 'A todo gas - Tokyo race.txt', 'Misión imposible - Protocolo fantasma.txt', 'Shrek 3.txt', 'Sin perdón.txt', 'La noche de los muertos vivientes.txt', 'Los otros.txt', 'La matanza de Texas.txt', 'Jungla de cristal.txt', 'Fast and Furious 5.txt', 'Django desencadenado.txt', 'Teléfono rojo - Volamos hacia Moscú.txt', 'El jinete pálido.txt', 'Solo ante el peligro.txt'}\n"
     ]
    }
   ],
   "source": [
    "print(archivos_prueba)"
   ]
  },
  {
   "cell_type": "markdown",
   "metadata": {
    "collapsed": true
   },
   "source": [
    "El número de archivos que tendremos para prueba es de:"
   ]
  },
  {
   "cell_type": "code",
   "execution_count": 12,
   "metadata": {
    "collapsed": false,
    "scrolled": true
   },
   "outputs": [
    {
     "name": "stdout",
     "output_type": "stream",
     "text": [
      "20\n"
     ]
    }
   ],
   "source": [
    "print(len(archivos_prueba))"
   ]
  },
  {
   "cell_type": "markdown",
   "metadata": {},
   "source": [
    "---"
   ]
  },
  {
   "cell_type": "markdown",
   "metadata": {},
   "source": [
    "## Parte III: Elección del conjunto de palabras clave"
   ]
  },
  {
   "cell_type": "markdown",
   "metadata": {
    "collapsed": false
   },
   "source": [
    "Para ayudarnos en el estudio de las __palabras clave__ que debemos escoger para cada categoría vamos a realizar un pequeño estudio para determinar las palabras más frecuentes de cada categoría. La elección en sí, al menos en este caso concreto, vamos a realizarla a mano puesto que no podemos escoger directamente las más frecuentes puesto que con toda probabilidad (y a pesar de las barreras que pondremos, como se verá más adelante) entre las más frecuentes se nos colarán verbos, conectores, preposiciones, pronombres, artículos, nombres propios, etc. que en muchos casos no nos serán de utilidad a la hora de determinar la categoría de una película."
   ]
  },
  {
   "cell_type": "markdown",
   "metadata": {},
   "source": [
    "Debemos definir __método que recibirá__ tanto __un conjunto de archivos__ como una __ruta__ donde se encuentran y __contará las palabras__ que aparecen en él __y el número de veces que dichas palabras aparecen__."
   ]
  },
  {
   "cell_type": "markdown",
   "metadata": {},
   "source": [
    "Pero antes, definiremos un par de métodos que nos será útiles."
   ]
  },
  {
   "cell_type": "markdown",
   "metadata": {},
   "source": [
    "El primero, convertido en método para aportar claridad al código, recibe una palabra y la procesa levemente (la convierte en minúsculas y elimina los carácteres no alfabéticos más típicos) para perder la menor cantidad de información posible (ya que más adelante el algoritmo descartará cualquier palabra que contenga carácteres que no sean alfabéticos)."
   ]
  },
  {
   "cell_type": "code",
   "execution_count": 13,
   "metadata": {
    "collapsed": true
   },
   "outputs": [],
   "source": [
    "def procesa_palabra(palabra):\n",
    "    palabra = palabra.lower() # Pasamos la palabra a minúscula.\n",
    "    # Para perder la menor información posible, reemplazamos ':', ',', ':' y ';', que son los carácteres más típicos que nos podemos encontrar adyacentes a una palabra y que la invalidarían en el siguiente if del algoritmo.\n",
    "    palabra = palabra.replace('.', '')\n",
    "    palabra = palabra.replace(',', '')\n",
    "    palabra = palabra.replace(':', '')\n",
    "    palabra = palabra.replace(';', '')\n",
    "    \n",
    "    return palabra"
   ]
  },
  {
   "cell_type": "markdown",
   "metadata": {},
   "source": [
    "También definimos un método que reciba un solo archivo y cuente sus palabras. Este metodo será usado por el método que estamos buscando y los dividimos de esta forma porque debemos buscar en un solo archivo cuando apliquemos los algoritmos de Naive Bayes y kNN."
   ]
  },
  {
   "cell_type": "code",
   "execution_count": 14,
   "metadata": {
    "collapsed": false
   },
   "outputs": [],
   "source": [
    "def cuenta_palabras_desde_archivo(ruta, archivo):\n",
    "    cuenta_palabras = {}\n",
    "    \n",
    "    fichero = open(ruta + \"/\" + archivo, \"r\", encoding=\"latin-1\") # Elegimos latin-1 en vez de utf-8 por problemas con las tildes.\n",
    "\n",
    "    for palabra in fichero.read().split(): # Recorremos el fichero, palabra a palabra.\n",
    "        palabra = procesa_palabra(palabra)\n",
    "        if palabra.isalpha() is True: # Será true cuando todos los caracteres son alfabéticos y hay al menos uno.\n",
    "            if palabra in cuenta_palabras:\n",
    "                cuenta_palabras[palabra] += 1 # Si la palabra ya existe, entonces incrementa en 1 el número de veces que hace aparición.\n",
    "            else:\n",
    "                cuenta_palabras[palabra] = 1 # Si la palabra no existe, la añade (con valor 1 al número de veces que aparece).\n",
    "\n",
    "    cuenta_palabras\n",
    "    return cuenta_palabras"
   ]
  },
  {
   "cell_type": "markdown",
   "metadata": {},
   "source": [
    "Ahora sí, definimos el método que estamos buscando en este momento y que se anunciaba antes:"
   ]
  },
  {
   "cell_type": "code",
   "execution_count": 15,
   "metadata": {
    "collapsed": false
   },
   "outputs": [],
   "source": [
    "from collections import Counter # Lo usaremos para añadir un diccionario a otro.\n",
    "\n",
    "def cuenta_palabras_desde_archivos(ruta, archivos):\n",
    "    cuenta_palabras = {}\n",
    "    \n",
    "    for archivo in archivos:\n",
    "        new = cuenta_palabras_desde_archivo(ruta, archivo)\n",
    "        cuenta_palabras = dict(Counter(cuenta_palabras)+Counter(new))\n",
    "    \n",
    "    return cuenta_palabras"
   ]
  },
  {
   "cell_type": "markdown",
   "metadata": {},
   "source": [
    "Además, con propósito de limpiar la salida que obtendremos vamos a establecer un __umbral__ para desechar todas las palabras que se repitan por debajo del mismo:"
   ]
  },
  {
   "cell_type": "code",
   "execution_count": 16,
   "metadata": {
    "collapsed": true
   },
   "outputs": [],
   "source": [
    "umbral_repetición = 4"
   ]
  },
  {
   "cell_type": "markdown",
   "metadata": {
    "collapsed": false
   },
   "source": [
    "Y, con el mismo propósito, otro __umbral__ para desechar todas las palabras con una longitud menor a él:"
   ]
  },
  {
   "cell_type": "code",
   "execution_count": 17,
   "metadata": {
    "collapsed": true
   },
   "outputs": [],
   "source": [
    "umbral_longitud = 4"
   ]
  },
  {
   "cell_type": "markdown",
   "metadata": {},
   "source": [
    "Y, por último, un método que use al anterior que, además, nos __ordene las palabras__ (de mayor a menor uso)."
   ]
  },
  {
   "cell_type": "markdown",
   "metadata": {
    "collapsed": false
   },
   "source": [
    "Recordemos que almacenábamos las palabras en __sets__. Esto es un problema a la hora de ordenar, por tanto el método trabajará con una lista (y, a su vez, devolverá una lista)."
   ]
  },
  {
   "cell_type": "code",
   "execution_count": 18,
   "metadata": {
    "collapsed": false
   },
   "outputs": [],
   "source": [
    "def cuenta_palabras_desde_archivos_ordenadas(ruta, archivos):\n",
    "    cuenta_palabras = cuenta_palabras_desde_archivos(ruta, archivos)\n",
    "    \n",
    "    lista_ordenada = [] # Usamos una lista para poder ordenar las palabras.\n",
    "    for palabra, contador in cuenta_palabras.items():\n",
    "        lista_ordenada.append((contador, palabra)) # La lista ordenada almacenará una tupla.\n",
    "    \n",
    "    lista_ordenada = sorted(lista_ordenada, reverse = True) # Lo ordenamos y lo invertimos para que las palabras más frecuentes estén arriba.\n",
    "    resultado = lista_ordenada.copy()\n",
    "    \n",
    "    for elemento in lista_ordenada:\n",
    "        if (elemento[0] < umbral_repetición) or (len(elemento[1]) < umbral_longitud): # Si la palabra supera los umbrales indicados, se muestra.\n",
    "            resultado.remove(elemento)\n",
    "    \n",
    "    return resultado"
   ]
  },
  {
   "cell_type": "markdown",
   "metadata": {
    "collapsed": false
   },
   "source": [
    "### Parte III-A: Elección específica de palabras clave"
   ]
  },
  {
   "cell_type": "markdown",
   "metadata": {
    "collapsed": true
   },
   "source": [
    "Palabras más frecuentes por categoría:"
   ]
  },
  {
   "cell_type": "code",
   "execution_count": 19,
   "metadata": {
    "collapsed": false,
    "scrolled": true
   },
   "outputs": [
    {
     "name": "stdout",
     "output_type": "stream",
     "text": [
      "----- Categoría [terror] -----\n",
      "[(22, 'para'), (19, 'casa'), (17, 'pero'), (17, 'como'), (14, 'película'), (13, 'mujer'), (13, 'historia'), (13, 'está'), (13, 'cuando'), (12, 'terror'), (12, 'donde'), (11, 'hijo'), (10, 'joven'), (10, 'encuentra'), (9, 'vida'), (9, 'noche'), (9, 'hombre'), (9, 'cuerpo'), (8, 'poco'), (8, 'lugar'), (8, 'esta'), (8, 'durante'), (8, 'cuenta'), (8, 'cinta'), (8, 'años'), (7, 'tras'), (7, 'thorn'), (7, 'sobre'), (7, 'pájaros'), (7, 'padre'), (7, 'mientras'), (7, 'llamada'), (7, 'hugh'), (7, 'hacia'), (7, 'este'), (7, 'entre'), (7, 'edificio'), (7, 'días'), (7, 'detective'), (7, 'amigos'), (6, 'tarde'), (6, 'quien'), (6, 'muerte'), (6, 'melanie'), (6, 'madre'), (6, 'hutter'), (6, 'hospital'), (6, 'habitación'), (6, 'familia'), (6, 'están'), (6, 'después'), (6, 'descubre'), (6, 'decide'), (6, 'cual'), (6, 'conde'), (6, 'cada'), (6, 'brenner'), (5, 'unos'), (5, 'trabajo'), (5, 'todo'), (5, 'tiene'), (5, 'también'), (5, 'suspense'), (5, 'rika'), (5, 'regan'), (5, 'puede'), (5, 'pronto'), (5, 'poder'), (5, 'pesadilla'), (5, 'pasado'), (5, 'parece'), (5, 'owen'), (5, 'oscuro'), (5, 'niño'), (5, 'mundo'), (5, 'mitch'), (5, 'mejor'), (5, 'hermana'), (5, 'film'), (5, 'ella'), (5, 'dice'), (5, 'damien'), (5, 'cine'), (5, 'anciana'), (5, 'algo'), (4, 'ésta'), (4, 'serie'), (4, 'rosemary'), (4, 'puerta'), (4, 'primera'), (4, 'presencia'), (4, 'policía'), (4, 'persona'), (4, 'pequeño'), (4, 'pareja'), (4, 'mucho'), (4, 'misteriosa'), (4, 'miedo'), (4, 'maldición'), (4, 'jóvenes'), (4, 'huye'), (4, 'hotel'), (4, 'haber'), (4, 'extraño'), (4, 'extraña'), (4, 'encuentran'), (4, 'embargo'), (4, 'director'), (4, 'deciden'), (4, 'cámara'), (4, 'chris'), (4, 'bomberos'), (4, 'autopsia'), (4, 'antes'), (4, 'además')]\n",
      "----- Categoría [acción] -----\n",
      "[(54, 'para'), (29, 'brian'), (24, 'después'), (24, 'bryan'), (22, 'pero'), (20, 'policía'), (20, 'está'), (19, 'mientras'), (19, 'ethan'), (17, 'coche'), (16, 'quien'), (16, 'mcclane'), (16, 'letty'), (16, 'donde'), (15, 'dice'), (14, 'tiene'), (14, 'ella'), (13, 'equipo'), (13, 'como'), (12, 'martin'), (12, 'cuando'), (12, 'agente'), (11, 'novia'), (11, 'hombres'), (11, 'entonces'), (11, 'encuentra'), (11, 'ellos'), (11, 'cual'), (10, 'hombre'), (10, 'dominic'), (9, 'tras'), (9, 'llega'), (9, 'hunt'), (9, 'aeropuerto'), (8, 'toretto'), (8, 'sobre'), (8, 'owen'), (8, 'luego'), (8, 'hija'), (8, 'había'), (8, 'auto'), (8, 'ahora'), (7, 'virus'), (7, 'todo'), (7, 'tanto'), (7, 'también'), (7, 'shaw'), (7, 'plan'), (7, 'nueva'), (7, 'mills'), (7, 'lenore'), (7, 'gasolina'), (7, 'están'), (7, 'durante'), (7, 'desde'), (7, 'comienza'), (7, 'antes'), (7, 'ambrosio'), (6, 'vive'), (6, 'unidos'), (6, 'todos'), (6, 'tego'), (6, 'sindicato'), (6, 'reúne'), (6, 'puede'), (6, 'película'), (6, 'parte'), (6, 'nyah'), (6, 'lugar'), (6, 'lleva'), (6, 'leonore'), (6, 'john'), (6, 'informa'), (6, 'hasta'), (6, 'grupo'), (6, 'fuera'), (6, 'estados'), (6, 'entrega'), (6, 'embargo'), (6, 'director'), (6, 'descubre'), (6, 'cuerpo'), (6, 'ciudad'), (6, 'casa'), (6, 'carrera'), (6, 'biocyte'), (6, 'bill'), (6, 'banda'), (6, 'ayuda'), (6, 'amigo'), (5, 'ángeles'), (5, 'vida'), (5, 'venganza'), (5, 'varios'), (5, 'unos'), (5, 'tres'), (5, 'tarde'), (5, 'stuart'), (5, 'sigue'), (5, 'seguridad'), (5, 'robo'), (5, 'rico'), (5, 'primera'), (5, 'operación'), (5, 'nekhorvich'), (5, 'mujer'), (5, 'muestra'), (5, 'momento'), (5, 'misión'), (5, 'mccloy'), (5, 'matt'), (5, 'llegan'), (5, 'llamado'), (5, 'llamada'), (5, 'hace'), (5, 'gana'), (5, 'escapar'), (5, 'dinero'), (5, 'dentro'), (5, 'decide'), (5, 'debido'), (5, 'cuenta'), (5, 'contra'), (5, 'cara'), (5, 'belerofonte'), (5, 'años'), (5, 'asesinos'), (5, 'asesinato'), (5, 'arma'), (5, 'advierte'), (4, 'washington'), (4, 'visita'), (4, 'trato'), (4, 'trabajo'), (4, 'tiempo'), (4, 'terrorista'), (4, 'tanque'), (4, 'solo'), (4, 'siguiente'), (4, 'sido'), (4, 'retirado'), (4, 'quimera'), (4, 'queda'), (4, 'programas'), (4, 'posee'), (4, 'poco'), (4, 'pista'), (4, 'pesar'), (4, 'pasar'), (4, 'pasado'), (4, 'parís'), (4, 'otra'), (4, 'número'), (4, 'nombre'), (4, 'nacional'), (4, 'muerte'), (4, 'maletas'), (4, 'líder'), (4, 'logra'), (4, 'local'), (4, 'llegada'), (4, 'jason'), (4, 'jack'), (4, 'investigación'), (4, 'información'), (4, 'hospital'), (4, 'hobbs'), (4, 'fuerza'), (4, 'frank'), (4, 'este'), (4, 'esposa'), (4, 'dólares'), (4, 'dispone'), (4, 'destrucción'), (4, 'departamento'), (4, 'dejar'), (4, 'cámara'), (4, 'carreras'), (4, 'camión'), (4, 'cabeza'), (4, 'bourne'), (4, 'aunque'), (4, 'ataque'), (4, 'amanda')]\n",
      "----- Categoría [western] -----\n",
      "[(32, 'pueblo'), (31, 'para'), (28, 'pero'), (24, 'cuando'), (20, 'como'), (15, 'donde'), (14, 'hijo'), (13, 'joven'), (13, 'entre'), (13, 'amigo'), (12, 'tras'), (12, 'sheriff'), (11, 'pistolero'), (11, 'banda'), (10, 'historia'), (10, 'guerra'), (9, 'thorton'), (9, 'también'), (9, 'stoddard'), (9, 'película'), (9, 'mujer'), (9, 'mismo'), (9, 'hombre'), (9, 'familia'), (9, 'está'), (9, 'esposa'), (9, 'diligencia'), (9, 'camino'), (8, 'unos'), (8, 'quien'), (8, 'pequeño'), (8, 'parte'), (8, 'mientras'), (8, 'había'), (8, 'grupo'), (8, 'evans'), (8, 'encuentran'), (8, 'ante'), (8, 'allí'), (8, 'además'), (7, 'tiempo'), (7, 'rojo'), (7, 'padre'), (7, 'morgan'), (7, 'mccabe'), (7, 'llegan'), (7, 'llega'), (7, 'hombres'), (7, 'hermano'), (7, 'este'), (7, 'embargo'), (7, 'después'), (7, 'consigue'), (7, 'ciudad'), (7, 'belden'), (7, 'años'), (7, 'antes'), (6, 'vida'), (6, 'venganza'), (6, 'todos'), (6, 'tiene'), (6, 'shane'), (6, 'poco'), (6, 'otro'), (6, 'nombre'), (6, 'matt'), (6, 'hasta'), (6, 'hacia'), (6, 'ganado'), (6, 'fuerte'), (6, 'encuentra'), (6, 'ejército'), (6, 'dunson'), (6, 'decide'), (6, 'aunque'), (5, 'tres'), (5, 'trata'), (5, 'toda'), (5, 'tendero'), (5, 'sargento'), (5, 'regresa'), (5, 'recompensas'), (5, 'recompensa'), (5, 'recibe'), (5, 'pesar'), (5, 'méxico'), (5, 'muerte'), (5, 'manera'), (5, 'hermanos'), (5, 'finalmente'), (5, 'final'), (5, 'esta'), (5, 'ellos'), (5, 'earp'), (5, 'duelo'), (5, 'debe'), (5, 'contra'), (5, 'cazarrecompensas'), (5, 'capitán'), (5, 'bandidos'), (5, 'antiguo'), (4, 'éste'), (4, 'wyatt'), (4, 'western'), (4, 'wade'), (4, 'vive'), (4, 'viejo'), (4, 'unidos'), (4, 'tanto'), (4, 'starrett'), (4, 'soldados'), (4, 'sobre'), (4, 'siete'), (4, 'siente'), (4, 'secesión'), (4, 'ringo'), (4, 'propio'), (4, 'primera'), (4, 'presencia'), (4, 'pasado'), (4, 'otros'), (4, 'niño'), (4, 'muestra'), (4, 'mcdonald'), (4, 'mayor'), (4, 'lugar'), (4, 'logra'), (4, 'llegar'), (4, 'llamado'), (4, 'josey'), (4, 'john'), (4, 'indio'), (4, 'huir'), (4, 'holliday'), (4, 'hijos'), (4, 'granjero'), (4, 'estados'), (4, 'ello'), (4, 'durante'), (4, 'clanton'), (4, 'chico'), (4, 'cambio'), (4, 'calvera'), (4, 'cadáver'), (4, 'búsqueda'), (4, 'buscar'), (4, 'bueno'), (4, 'brittles'), (4, 'ayuda'), (4, 'asesino'), (4, 'armas'), (4, 'amigos'), (4, 'ambos'), (4, 'acaba')]\n",
      "----- Categoría [comedia] -----\n",
      "[(47, 'para'), (25, 'como'), (17, 'esta'), (16, 'cuando'), (15, 'vida'), (15, 'humor'), (14, 'comedia'), (13, 'película'), (12, 'tiene'), (12, 'también'), (11, 'todo'), (11, 'sobre'), (11, 'pero'), (11, 'gags'), (11, 'está'), (10, 'mundo'), (10, 'hilarantes'), (10, 'entre'), (10, 'después'), (9, 'situaciones'), (9, 'país'), (9, 'hasta'), (9, 'años'), (8, 'todos'), (8, 'tiempo'), (8, 'serie'), (8, 'nueva'), (8, 'noche'), (8, 'mike'), (8, 'ellos'), (8, 'divertida'), (8, 'amigos'), (7, 'personajes'), (7, 'personaje'), (7, 'historia'), (7, 'donde'), (7, 'casa'), (7, 'borat'), (7, 'aunque'), (6, 'york'), (6, 'trabajo'), (6, 'sátira'), (6, 'risas'), (6, 'momentos'), (6, 'irreverente'), (6, 'hacen'), (6, 'fiona'), (6, 'embargo'), (6, 'divertido'), (6, 'dictador'), (6, 'desde'), (6, 'absurdo'), (5, 'unos'), (5, 'unidos'), (5, 'tras'), (5, 'toda'), (5, 'tienen'), (5, 'tener'), (5, 'shrek'), (5, 'quien'), (5, 'problemas'), (5, 'poco'), (5, 'pasar'), (5, 'otros'), (5, 'muchos'), (5, 'mucho'), (5, 'monstruos'), (5, 'mientras'), (5, 'kevin'), (5, 'incluso'), (5, 'hacer'), (5, 'guerra'), (5, 'gran'), (5, 'gloria'), (5, 'fuerte'), (5, 'este'), (5, 'ejército'), (5, 'durante'), (5, 'decide'), (5, 'caballeros'), (5, 'bien'), (5, 'baron'), (5, 'algunos'), (4, 'tópicos'), (4, 'sulley'), (4, 'suerte'), (4, 'solo'), (4, 'simpáticos'), (4, 'siempre'), (4, 'sido'), (4, 'será'), (4, 'secreto'), (4, 'salir'), (4, 'reino'), (4, 'propia'), (4, 'pesar'), (4, 'novio'), (4, 'nada'), (4, 'mismo'), (4, 'minions'), (4, 'menos'), (4, 'melman'), (4, 'mejores'), (4, 'mejor'), (4, 'mayor'), (4, 'marty'), (4, 'llegar'), (4, 'llega'), (4, 'llamado'), (4, 'isla'), (4, 'incorrecto'), (4, 'hynkel'), (4, 'hilarante'), (4, 'hermanas'), (4, 'grupo'), (4, 'geniales'), (4, 'familia'), (4, 'están'), (4, 'estos'), (4, 'estados'), (4, 'doug'), (4, 'dentro'), (4, 'delirante'), (4, 'daniel'), (4, 'cuenta'), (4, 'crítica'), (4, 'cohen'), (4, 'boda'), (4, 'barbero'), (4, 'arturo'), (4, 'alex'), (4, 'alan'), (4, 'ahora'), (4, 'además'), (4, 'absurdas')]\n",
      "----- Categoría [bélico] -----\n",
      "[(44, 'para'), (39, 'guerra'), (24, 'como'), (22, 'ejército'), (21, 'sargento'), (19, 'soldados'), (18, 'está'), (18, 'durante'), (16, 'general'), (16, 'cuando'), (14, 'grupo'), (12, 'sobre'), (12, 'hombres'), (12, 'hitler'), (12, 'combate'), (11, 'este'), (10, 'tres'), (10, 'tras'), (10, 'todo'), (10, 'patoso'), (10, 'misión'), (10, 'mientras'), (10, 'después'), (10, 'ante'), (9, 'unidos'), (9, 'quien'), (9, 'pero'), (9, 'matar'), (9, 'estados'), (9, 'contra'), (8, 'teniente'), (8, 'stauffenberg'), (8, 'pelotón'), (8, 'james'), (8, 'ellos'), (8, 'capitán'), (8, 'alemán'), (8, 'alemanes'), (7, 'vietnam'), (7, 'tiene'), (7, 'tiempo'), (7, 'solo'), (7, 'recibe'), (7, 'raine'), (7, 'policías'), (7, 'parte'), (7, 'japonés'), (7, 'isla'), (7, 'historia'), (7, 'estadounidenses'), (7, 'estadounidense'), (7, 'entre'), (7, 'edificio'), (7, 'donde'), (7, 'coronel'), (7, 'compañeros'), (7, 'comienza'), (7, 'batalla'), (7, 'albert'), (6, 'vietnamita'), (6, 'todos'), (6, 'también'), (6, 'soldado'), (6, 'sido'), (6, 'regimiento'), (6, 'primera'), (6, 'pesar'), (6, 'otros'), (6, 'ordena'), (6, 'operación'), (6, 'oficial'), (6, 'nuevo'), (6, 'norman'), (6, 'marina'), (6, 'mando'), (6, 'kuribayashi'), (6, 'infantería'), (6, 'hombre'), (6, 'están'), (6, 'equipo'), (6, 'desde'), (6, 'bajo'), (6, 'algren'), (5, 'zaitsev'), (5, 'vida'), (5, 'tropas'), (5, 'tomar'), (5, 'segunda'), (5, 'ryan'), (5, 'riyadi'), (5, 'recluta'), (5, 'película'), (5, 'país'), (5, 'orden'), (5, 'mundial'), (5, 'mismo'), (5, 'marines'), (5, 'lugar'), (5, 'llega'), (5, 'llamado'), (5, 'imperial'), (5, 'fuego'), (5, 'estado'), (5, 'enemigo'), (5, 'encuentran'), (5, 'dice'), (5, 'descubre'), (5, 'danilov'), (5, 'ciudad'), (5, 'cabo'), (5, 'antes'), (4, 'willard'), (4, 'vuelve'), (4, 'unidad'), (4, 'tripulación'), (4, 'tarde'), (4, 'tanto'), (4, 'tanque'), (4, 'superiores'), (4, 'sanborn'), (4, 'saigo'), (4, 'resto'), (4, 'reclutas'), (4, 'rama'), (4, 'provoca'), (4, 'propios'), (4, 'prisioneros'), (4, 'potro'), (4, 'policía'), (4, 'padre'), (4, 'muerte'), (4, 'militares'), (4, 'militar'), (4, 'mayor'), (4, 'mata'), (4, 'llegar'), (4, 'kashiwara'), (4, 'jungla'), (4, 'joven'), (4, 'jima'), (4, 'invasión'), (4, 'highway'), (4, 'helicópteros'), (4, 'hartman'), (4, 'hace'), (4, 'habla'), (4, 'gravemente'), (4, 'gran'), (4, 'führer'), (4, 'francés'), (4, 'force'), (4, 'familia'), (4, 'enviado'), (4, 'entonces'), (4, 'ello'), (4, 'eldridge'), (4, 'división'), (4, 'dengler'), (4, 'delta'), (4, 'delincuentes'), (4, 'cual'), (4, 'considera'), (4, 'compañía'), (4, 'colina'), (4, 'cinco'), (4, 'casa'), (4, 'caballo'), (4, 'bufón'), (4, 'años'), (4, 'amigo'), (4, 'alemanas'), (4, 'agentes'), (4, 'además')]\n"
     ]
    }
   ],
   "source": [
    "for categoría in categorías:\n",
    "    print(\"----- Categoría [%s] -----\" % (categoría))\n",
    "    print(cuenta_palabras_desde_archivos_ordenadas(ruta_conjunto_entrenamiento, archivos_entrenamiento_categoría[categoría]))"
   ]
  },
  {
   "cell_type": "markdown",
   "metadata": {},
   "source": [
    "Una vez realizado el estudio, inicializamos manualmente las __palabras clave__ de cada __categoría__, usaremos unas 20 palabras para cada una de ellas (podrán repetirse entre categorías)."
   ]
  },
  {
   "cell_type": "markdown",
   "metadata": {
    "collapsed": false
   },
   "source": [
    "Con __el objetivo__ de que __el usuario necesite entrar en el código lo menos posible__ (a ser posible, que no necesite entrar en el código) vamos a hacer que si quiere elegir sus palabras clave lo haga desde un archivo \"_.csv_\"."
   ]
  },
  {
   "cell_type": "markdown",
   "metadata": {},
   "source": [
    "El siguiente método, que además será utilizado más adelante, leerá un archivo _.csv_ y creará un diccionario a partir de él: la primera \"columna\" serán las claves y la segunda los valores de dichas claves."
   ]
  },
  {
   "cell_type": "code",
   "execution_count": 20,
   "metadata": {
    "collapsed": false
   },
   "outputs": [],
   "source": [
    "import csv # Librería que necesitaremos para leer y guardar en formato \".csv\".\n",
    "\n",
    "def lee_fichero(nombre_csv):\n",
    "    with open(nombre_csv, 'rt', encoding=\"latin-1\") as fichero:\n",
    "        lector = csv.reader(fichero)\n",
    "        diccionario = dict(lector)\n",
    "    \n",
    "    return diccionario"
   ]
  },
  {
   "cell_type": "markdown",
   "metadata": {},
   "source": [
    "El método que se muestra a continuación, se encargará de inicializar las palabras clave de cada categoría a partir de los datos subministrados por el archivo _\".csv\"_:"
   ]
  },
  {
   "cell_type": "code",
   "execution_count": 21,
   "metadata": {
    "collapsed": false
   },
   "outputs": [],
   "source": [
    "def inicializa_palabras_clave_personalizadas_categoría():\n",
    "    palabras_clave_categoría = {}\n",
    "    \n",
    "    fichero_leído = lee_fichero(localización_palabras_clave)\n",
    "    \n",
    "    for categoría in categorías:\n",
    "        conjunto = set()\n",
    "        \n",
    "        cadena_palabras_clave = fichero_leído[categoría].replace(' ', '') # Si el usuario ha insertado espacios entre las comas, los eliminamos.\n",
    "        conjunto = cadena_palabras_clave.split(\",\") # Creamos un conjunto separando por coma.\n",
    "        \n",
    "        palabras_clave_categoría[categoría] = conjunto\n",
    "    \n",
    "    return palabras_clave_categoría"
   ]
  },
  {
   "cell_type": "markdown",
   "metadata": {},
   "source": [
    "A continuación, leemos del archivo y extraemos todas las palabras claves de las categorías que tengamos:"
   ]
  },
  {
   "cell_type": "code",
   "execution_count": 22,
   "metadata": {
    "collapsed": false
   },
   "outputs": [],
   "source": [
    "palabras_clave_categoría = inicializa_palabras_clave_personalizadas_categoría()"
   ]
  },
  {
   "cell_type": "markdown",
   "metadata": {},
   "source": [
    "Para acceder a las palabras claves de una categoría en concreto, ejecutamos:"
   ]
  },
  {
   "cell_type": "code",
   "execution_count": 23,
   "metadata": {
    "collapsed": false
   },
   "outputs": [],
   "source": [
    "# Descomentar para comprobar. Por defecto estará comentado para que el algoritmo funcione sin la categoría usada en el ejemplo.\n",
    "#palabras_clave_categoría[\"acción\"]"
   ]
  },
  {
   "cell_type": "markdown",
   "metadata": {
    "collapsed": false
   },
   "source": [
    "### Parte III-B: Elección automática de palabras clave en base a su frecuencia"
   ]
  },
  {
   "cell_type": "markdown",
   "metadata": {},
   "source": [
    "Si para una categoría __no se han añadido palabras clave__, vamos a generarlas automáticamente en base a su frecuencia. Para ello, necesitamos el siguiente método. __NOTA:__ Esto es una medida \"de emergencia\" ya que está lejos de ser lo más recomendable."
   ]
  },
  {
   "cell_type": "code",
   "execution_count": 24,
   "metadata": {
    "collapsed": true
   },
   "outputs": [],
   "source": [
    "def genera_palabras_clave(categoría):\n",
    "    lista_ordenada = cuenta_palabras_desde_archivos_ordenadas(ruta_conjunto_entrenamiento, archivos_entrenamiento_categoría[categoría])\n",
    "    \n",
    "    candidatos = lista_ordenada[:20] # Elegimos los 20 primeros elementos de la lista (no olvidemos que obtenemos una tupla).\n",
    "    \n",
    "    resultado = [elemento[1] for elemento in candidatos] # De la tupla, nos quedamos con el elemento \"1\", que contiene la cadena de texto que repesenta la palabra.\n",
    "    \n",
    "    return resultado"
   ]
  },
  {
   "cell_type": "markdown",
   "metadata": {},
   "source": [
    "Antes de ejecutar el algoritmo para auto-generar las palabras claves, puesto que el resultado carecerá de revisión, vamos a __endurecer los umbrales__ para así asegurarnos, en la medida de lo posible, que las palabras resultantes serán de mayor calidad:"
   ]
  },
  {
   "cell_type": "code",
   "execution_count": 25,
   "metadata": {
    "collapsed": false
   },
   "outputs": [],
   "source": [
    "umbral_repetición = umbral_repetición_autogenerado\n",
    "umbral_longitud = umbral_longitud_autogenerado"
   ]
  },
  {
   "cell_type": "markdown",
   "metadata": {
    "collapsed": true
   },
   "source": [
    "Ahora es el momento de ejecutar el pequeño algoritmo para auto-generar las palabras clave __si faltan__, para cada categoría:"
   ]
  },
  {
   "cell_type": "code",
   "execution_count": 26,
   "metadata": {
    "collapsed": false
   },
   "outputs": [
    {
     "name": "stdout",
     "output_type": "stream",
     "text": [
      "Se han generado palabras clave de 0 categorías automáticamente.\n"
     ]
    }
   ],
   "source": [
    "contador_categorías_generadas = 0\n",
    "\n",
    "if usar_autogenerado_si_procede:\n",
    "    for categoría in categorías:\n",
    "        if (categoría not in palabras_clave_categoría) or (len(palabras_clave_categoría[categoría]) == 0):\n",
    "            palabras_clave_categoría[categoría] = genera_palabras_clave(categoría)\n",
    "            contador_categorías_generadas += 1\n",
    "\n",
    "print(\"Se han generado palabras clave de %d categorías automáticamente.\" % (contador_categorías_generadas))"
   ]
  },
  {
   "cell_type": "markdown",
   "metadata": {
    "collapsed": true
   },
   "source": [
    "### Parte III-C: Resumen, procesado y estudio de las palabras clave"
   ]
  },
  {
   "cell_type": "markdown",
   "metadata": {},
   "source": [
    "Comprobamos las palabras clave de cada categoría:"
   ]
  },
  {
   "cell_type": "code",
   "execution_count": 27,
   "metadata": {
    "collapsed": false
   },
   "outputs": [
    {
     "name": "stdout",
     "output_type": "stream",
     "text": [
      "Palabras clave por categoría:\n",
      "----- Palabras clave de [terror] -----\n",
      "['asesino', 'escalofriante', 'fenómenos', 'horror', 'inquietante', 'perturbadora', 'psicópata', 'sobrenatural', 'terrorífico', 'terrorífica', 'vampiros', 'anticristo', 'demonio', 'terrible', 'maldición', 'miedo', 'oscuro', 'pesadilla', 'detective', 'suspense', 'monstruo', 'misteriosa', 'extraño', 'misterio']\n",
      "----- Palabras clave de [acción] -----\n",
      "['policía', 'coche', 'agente', 'auto', 'escapar', 'carrera', 'seguridad', 'llamada', 'gasolina', 'problemas', 'operación', 'escapa', 'venganza', 'prisión', 'muerte', 'hospital', 'carreras', 'ataque', 'arma', 'asesino', 'asesina', 'asesinos', 'terrorista', 'terroristas', 'persecución', 'muerto', 'investigación', 'destrucción', 'bomba', 'ruso']\n",
      "----- Palabras clave de [western] -----\n",
      "['pueblo', 'hijo', 'joven', 'amigo', 'sheriff', 'pistolero', 'banda', 'guerra', 'diligencia', 'camino', 'duelo', 'bandidos', 'granjero', 'asesino', 'revólver', 'arma', 'armas', 'desierto', 'oeste']\n",
      "----- Palabras clave de [comedia] -----\n",
      "['incorrecto', 'simpáticos', 'alegre', 'carcajadas', 'cómica', 'cómicos', 'delirante', 'divertidos', 'irreverente', 'risas', 'sátira', 'divertido', 'divertida', 'gags', 'hilarantes', 'humor', 'tópicos', 'crítica', 'absurdo', 'hilarante', 'absurdas', 'extravagante']\n",
      "----- Palabras clave de [bélico] -----\n",
      "['guerra', 'ejército', 'sargento', 'soldados', 'general', 'grupo', 'hombres', 'combate', 'misión', 'unidos', 'matar', 'teniente', 'capitán', 'alemán', 'alemanes', 'vietnam', 'estadounidense', 'estadounidenses', 'soldado', 'regimiento', 'operación', 'oficial', 'infantería', 'cabo', 'enemigo']\n"
     ]
    }
   ],
   "source": [
    "print(\"Palabras clave por categoría:\")\n",
    "\n",
    "for categoría in categorías:\n",
    "    print(\"----- Palabras clave de [%s] -----\" % (categoría))\n",
    "    print(palabras_clave_categoría[categoría])"
   ]
  },
  {
   "cell_type": "markdown",
   "metadata": {},
   "source": [
    "Y, a continuación, añadimos todas las palabras clave de cada categoría a un nuevo conjunto que contenga __todas las palabras clave__."
   ]
  },
  {
   "cell_type": "code",
   "execution_count": 28,
   "metadata": {
    "collapsed": false,
    "scrolled": false
   },
   "outputs": [
    {
     "name": "stdout",
     "output_type": "stream",
     "text": [
      "Las palabras clave son:\n",
      "{'hombres', 'pesadilla', 'ataque', 'carreras', 'unidos', 'duelo', 'divertidos', 'prisión', 'cómica', 'gags', 'muerte', 'problemas', 'enemigo', 'estadounidense', 'tópicos', 'oeste', 'guerra', 'fenómenos', 'asesina', 'soldado', 'agente', 'persecución', 'hilarantes', 'absurdas', 'terrible', 'grupo', 'asesinos', 'banda', 'irreverente', 'miedo', 'hijo', 'misteriosa', 'pistolero', 'bandidos', 'oficial', 'teniente', 'delirante', 'monstruo', 'coche', 'escalofriante', 'oscuro', 'destrucción', 'investigación', 'policía', 'vampiros', 'llamada', 'misterio', 'general', 'diligencia', 'sargento', 'infantería', 'psicópata', 'alegre', 'terroristas', 'alemanes', 'divertida', 'vietnam', 'alemán', 'sobrenatural', 'granjero', 'muerto', 'cabo', 'estadounidenses', 'horror', 'terrorífica', 'capitán', 'cómicos', 'auto', 'absurdo', 'demonio', 'carcajadas', 'escapar', 'humor', 'extraño', 'pueblo', 'incorrecto', 'ruso', 'divertido', 'inquietante', 'sheriff', 'joven', 'sátira', 'escapa', 'amigo', 'seguridad', 'revólver', 'camino', 'extravagante', 'matar', 'hilarante', 'gasolina', 'misión', 'crítica', 'perturbadora', 'ejército', 'anticristo', 'risas', 'armas', 'asesino', 'maldición', 'regimiento', 'hospital', 'combate', 'suspense', 'operación', 'desierto', 'carrera', 'simpáticos', 'bomba', 'terrorista', 'terrorífico', 'detective', 'soldados', 'arma', 'venganza'}\n"
     ]
    }
   ],
   "source": [
    "palabras_clave = set()\n",
    "\n",
    "# Update nos permite añadir el contenido de un set a otro set\n",
    "for categoría in categorías:\n",
    "    palabras_clave.update(palabras_clave_categoría[categoría])\n",
    "\n",
    "print(\"Las palabras clave son:\\n%s\" % (palabras_clave))"
   ]
  },
  {
   "cell_type": "markdown",
   "metadata": {},
   "source": [
    "Y, antes de acabar, realizaremos un pequeño estudio relacionado con las palabras clave seleccionadas:"
   ]
  },
  {
   "cell_type": "code",
   "execution_count": 29,
   "metadata": {
    "collapsed": false
   },
   "outputs": [
    {
     "name": "stdout",
     "output_type": "stream",
     "text": [
      "Número total de palabras clave: \t 115\n",
      "Media de palabras clave por categoría (5 categorías): \t 23.0\n"
     ]
    }
   ],
   "source": [
    "print(\"Número total de palabras clave: \\t %s\" % (len(palabras_clave)))\n",
    "print(\"Media de palabras clave por categoría (%d categorías): \\t %s\" % (len(categorías), len(palabras_clave)/len(categorías)))"
   ]
  },
  {
   "cell_type": "markdown",
   "metadata": {
    "collapsed": false
   },
   "source": [
    "---"
   ]
  },
  {
   "cell_type": "markdown",
   "metadata": {},
   "source": [
    "## Parte IV: Procesamiento"
   ]
  },
  {
   "cell_type": "markdown",
   "metadata": {
    "collapsed": true
   },
   "source": [
    "En esta parte se va a llevar a cabo la generación de los datos pertinentes para posteriormente utilizarlos en los algoritmos de __Naive Bayes__ y __kNN__."
   ]
  },
  {
   "cell_type": "markdown",
   "metadata": {},
   "source": [
    "Puesto que se deben realizar cálculos distintos para cada algoritmo, dividiremos esta sección en dos subsecciones: __Procesamiento de Naive Bayes__ y __Procesamiento de kNN__."
   ]
  },
  {
   "cell_type": "markdown",
   "metadata": {},
   "source": [
    "### Parte IV-A: Procesamiento de Naive Bayes"
   ]
  },
  {
   "cell_type": "markdown",
   "metadata": {},
   "source": [
    "Para aplicar el algoritmo Naive Bayes primero debemos calcular todos los __P(c)__ ___(probabilidad de \"c\")___ y los __P(t|c)__ ___(probabilidad de \"t\" condicionada a \"c\")___."
   ]
  },
  {
   "cell_type": "markdown",
   "metadata": {},
   "source": [
    "En este caso __\"c\"__ sería nuestra categoría y __\"t\"__ cada palabra clave."
   ]
  },
  {
   "cell_type": "markdown",
   "metadata": {},
   "source": [
    "Primero, vamos a calcular los __P(c)__. Para ello, tenemos que contar el número de documentos de la categoría en cuestión existentes en nuestro conjunto de entrenamiento y dividirlo entre el número total de documentos de nuestro conjunto de entrenamiento. Así pues, por ejemplo, la probabilidad de acción (__P(acción)__) sería el número resultante de dividir el total de documentos catalogados como \"acción\" de nuestro conjunto de entrenamiento entre el número total de documentos del conjunto de entrenamiento."
   ]
  },
  {
   "cell_type": "markdown",
   "metadata": {},
   "source": [
    "Como tenemos un conjunto con todos los archivos de entrenamiento y un conjunto específico por cada categoría, realizamos un bucle y por cada categoría generamos su probabilidad:"
   ]
  },
  {
   "cell_type": "code",
   "execution_count": 30,
   "metadata": {
    "collapsed": false
   },
   "outputs": [
    {
     "name": "stdout",
     "output_type": "stream",
     "text": [
      "P(terror) = \t 0.183486\n",
      "P(acción) = \t 0.192661\n",
      "P(western) = \t 0.211009\n",
      "P(comedia) = \t 0.220183\n",
      "P(bélico) = \t 0.192661\n"
     ]
    }
   ],
   "source": [
    "probabilidad_categoría = {}\n",
    "\n",
    "for categoría in categorías:\n",
    "    probabilidad_categoría[categoría] = len(archivos_entrenamiento_categoría[categoría]) / len(archivos_entrenamiento)\n",
    "    print(\"P(%s) = \\t %f\" % (categoría, probabilidad_categoría[categoría]))"
   ]
  },
  {
   "cell_type": "markdown",
   "metadata": {},
   "source": [
    "Sólo para asegurarnos, todas las probabilidades deben sumar __~1__ en este apartado:"
   ]
  },
  {
   "cell_type": "code",
   "execution_count": 31,
   "metadata": {
    "collapsed": false
   },
   "outputs": [
    {
     "name": "stdout",
     "output_type": "stream",
     "text": [
      "Suma de probabilidades (debe ser ~1): \t 1.000000\n"
     ]
    }
   ],
   "source": [
    "print(\"Suma de probabilidades (debe ser ~1): \\t %f\" % (sum([probabilidad_categoría[categoría] for categoría in categorías])))"
   ]
  },
  {
   "cell_type": "markdown",
   "metadata": {},
   "source": [
    "Ahora, para calcular los __P(t|c)__ será un poco más complejo. Para llevar a cabo esta tarea haremos uso de __un diccionario por cada categoría__ que a su vez __contendrá otro diccionario dentro__ que __relacionará palabras clave con su probabilidad condicionada a la categoría del diccionario__. De nuevo, tomaremos la categoría \"acción\" como ejemplo: en \"probabilidad_palabraclave['acción']\" recogerá, por cada palabra clave, su probabilidad condiccionada a la categoría acción, es decir, su __P(t|acción__), siendo \"t\" cada entrada del diccionario."
   ]
  },
  {
   "cell_type": "markdown",
   "metadata": {},
   "source": [
    "Pero antes de empezar, definiremos un método, que utilizaremos en los siguientes pasos, que genere cada diccionario deseado como salida y, además, le __aplique un suavizado de LaPlace__:"
   ]
  },
  {
   "cell_type": "code",
   "execution_count": 32,
   "metadata": {
    "collapsed": false
   },
   "outputs": [],
   "source": [
    "def crea_diccionario_probabilidades_condicionadas(archivos_entrenamiento_categoría):\n",
    "    probabilidades_condicionadas = {}\n",
    "    cuenta_palabras_categoría = cuenta_palabras_desde_archivos(ruta_conjunto_entrenamiento, archivos_entrenamiento_categoría) # Almacena las palabras clave de la categoría y el número de veces que se repiten.\n",
    "    \n",
    "    número_palabras_clave_totales = len(palabras_clave) # Número de palabras clave que poseemos en total.\n",
    "    número_palabras_clave_categoría = sum(cuenta_palabras_categoría.values())\n",
    "    \n",
    "    for palabra_clave in palabras_clave:\n",
    "        if palabra_clave in cuenta_palabras_categoría:\n",
    "            número_veces_aparece_palabra_en_categoría = cuenta_palabras_categoría[palabra_clave] # Número de veces que la palabra clave se repite en esta categoría.\n",
    "        else:\n",
    "            número_veces_aparece_palabra_en_categoría = 0\n",
    "        resultado = ((número_veces_aparece_palabra_en_categoría + 1) / (número_palabras_clave_categoría + número_palabras_clave_totales)) # Añadimos 1 en el numerador y el número de palabras claves totales en el denominador para aplicar el suavizado.\n",
    "        probabilidades_condicionadas[palabra_clave] = resultado\n",
    "    \n",
    "    return probabilidades_condicionadas"
   ]
  },
  {
   "cell_type": "markdown",
   "metadata": {},
   "source": [
    "También vamos a crear un pequeño método que nos ayude a visualizar las probabilidades condicionadas:"
   ]
  },
  {
   "cell_type": "code",
   "execution_count": 33,
   "metadata": {
    "collapsed": false
   },
   "outputs": [],
   "source": [
    "def mostrar_diccionario_probabilidades_condicionadas(diccionario, categoría):\n",
    "    for entrada in diccionario:\n",
    "        print(\"P(%s|%s) = \\t %f\" % (entrada, categoría, diccionario[entrada]))"
   ]
  },
  {
   "cell_type": "markdown",
   "metadata": {},
   "source": [
    "Ahora, empezamos con el cálculo en sí:"
   ]
  },
  {
   "cell_type": "code",
   "execution_count": 34,
   "metadata": {
    "collapsed": false
   },
   "outputs": [
    {
     "name": "stdout",
     "output_type": "stream",
     "text": [
      "----- Categoría: terror -----\n",
      "P(hombres|terror) = \t 0.000203\n",
      "P(pesadilla|terror) = \t 0.001220\n",
      "P(ataque|terror) = \t 0.000610\n",
      "P(carreras|terror) = \t 0.000203\n",
      "P(unidos|terror) = \t 0.000203\n",
      "P(duelo|terror) = \t 0.000203\n",
      "P(divertidos|terror) = \t 0.000203\n",
      "P(prisión|terror) = \t 0.000203\n",
      "P(cómica|terror) = \t 0.000203\n",
      "P(gags|terror) = \t 0.000203\n",
      "P(muerte|terror) = \t 0.001423\n",
      "P(problemas|terror) = \t 0.000203\n",
      "P(enemigo|terror) = \t 0.000203\n",
      "P(estadounidense|terror) = \t 0.000610\n",
      "P(tópicos|terror) = \t 0.000203\n",
      "P(oeste|terror) = \t 0.000203\n",
      "P(guerra|terror) = \t 0.000203\n",
      "P(fenómenos|terror) = \t 0.000610\n",
      "P(asesina|terror) = \t 0.000203\n",
      "P(soldado|terror) = \t 0.000203\n",
      "P(agente|terror) = \t 0.000407\n",
      "P(persecución|terror) = \t 0.000203\n",
      "P(hilarantes|terror) = \t 0.000203\n",
      "P(absurdas|terror) = \t 0.000203\n",
      "P(terrible|terror) = \t 0.000813\n",
      "P(grupo|terror) = \t 0.000813\n",
      "P(asesinos|terror) = \t 0.000203\n",
      "P(banda|terror) = \t 0.000203\n",
      "P(irreverente|terror) = \t 0.000203\n",
      "P(miedo|terror) = \t 0.001016\n",
      "P(hijo|terror) = \t 0.002439\n",
      "P(misteriosa|terror) = \t 0.001016\n",
      "P(pistolero|terror) = \t 0.000203\n",
      "P(bandidos|terror) = \t 0.000203\n",
      "P(oficial|terror) = \t 0.000203\n",
      "P(teniente|terror) = \t 0.000203\n",
      "P(delirante|terror) = \t 0.000203\n",
      "P(monstruo|terror) = \t 0.000407\n",
      "P(coche|terror) = \t 0.000407\n",
      "P(escalofriante|terror) = \t 0.000610\n",
      "P(oscuro|terror) = \t 0.001220\n",
      "P(destrucción|terror) = \t 0.000407\n",
      "P(investigación|terror) = \t 0.000203\n",
      "P(policía|terror) = \t 0.001016\n",
      "P(vampiros|terror) = \t 0.000610\n",
      "P(llamada|terror) = \t 0.001626\n",
      "P(misterio|terror) = \t 0.000610\n",
      "P(general|terror) = \t 0.000203\n",
      "P(diligencia|terror) = \t 0.000203\n",
      "P(sargento|terror) = \t 0.000203\n",
      "P(infantería|terror) = \t 0.000203\n",
      "P(psicópata|terror) = \t 0.000610\n",
      "P(alegre|terror) = \t 0.000203\n",
      "P(terroristas|terror) = \t 0.000407\n",
      "P(alemanes|terror) = \t 0.000203\n",
      "P(divertida|terror) = \t 0.000203\n",
      "P(vietnam|terror) = \t 0.000203\n",
      "P(alemán|terror) = \t 0.000407\n",
      "P(sobrenatural|terror) = \t 0.000610\n",
      "P(granjero|terror) = \t 0.000407\n",
      "P(muerto|terror) = \t 0.000407\n",
      "P(cabo|terror) = \t 0.000407\n",
      "P(estadounidenses|terror) = \t 0.000203\n",
      "P(horror|terror) = \t 0.000610\n",
      "P(terrorífica|terror) = \t 0.000610\n",
      "P(capitán|terror) = \t 0.000203\n",
      "P(cómicos|terror) = \t 0.000203\n",
      "P(auto|terror) = \t 0.000407\n",
      "P(absurdo|terror) = \t 0.000203\n",
      "P(demonio|terror) = \t 0.000813\n",
      "P(carcajadas|terror) = \t 0.000203\n",
      "P(escapar|terror) = \t 0.000203\n",
      "P(humor|terror) = \t 0.000407\n",
      "P(extraño|terror) = \t 0.001016\n",
      "P(pueblo|terror) = \t 0.000610\n",
      "P(incorrecto|terror) = \t 0.000203\n",
      "P(ruso|terror) = \t 0.000203\n",
      "P(divertido|terror) = \t 0.000203\n",
      "P(inquietante|terror) = \t 0.000610\n",
      "P(sheriff|terror) = \t 0.000203\n",
      "P(joven|terror) = \t 0.002236\n",
      "P(sátira|terror) = \t 0.000203\n",
      "P(escapa|terror) = \t 0.000203\n",
      "P(amigo|terror) = \t 0.000203\n",
      "P(seguridad|terror) = \t 0.000610\n",
      "P(revólver|terror) = \t 0.000203\n",
      "P(camino|terror) = \t 0.000407\n",
      "P(extravagante|terror) = \t 0.000203\n",
      "P(matar|terror) = \t 0.000203\n",
      "P(hilarante|terror) = \t 0.000203\n",
      "P(gasolina|terror) = \t 0.000203\n",
      "P(misión|terror) = \t 0.000203\n",
      "P(crítica|terror) = \t 0.000407\n",
      "P(perturbadora|terror) = \t 0.000610\n",
      "P(ejército|terror) = \t 0.000203\n",
      "P(anticristo|terror) = \t 0.000813\n",
      "P(risas|terror) = \t 0.000203\n",
      "P(armas|terror) = \t 0.000203\n",
      "P(asesino|terror) = \t 0.000610\n",
      "P(maldición|terror) = \t 0.001016\n",
      "P(regimiento|terror) = \t 0.000203\n",
      "P(hospital|terror) = \t 0.001423\n",
      "P(combate|terror) = \t 0.000203\n",
      "P(suspense|terror) = \t 0.001220\n",
      "P(operación|terror) = \t 0.000203\n",
      "P(desierto|terror) = \t 0.000203\n",
      "P(carrera|terror) = \t 0.000203\n",
      "P(simpáticos|terror) = \t 0.000203\n",
      "P(bomba|terror) = \t 0.000203\n",
      "P(terrorista|terror) = \t 0.000203\n",
      "P(terrorífico|terror) = \t 0.000610\n",
      "P(detective|terror) = \t 0.001626\n",
      "P(soldados|terror) = \t 0.000203\n",
      "P(arma|terror) = \t 0.000203\n",
      "P(venganza|terror) = \t 0.000407\n",
      "----- Categoría: acción -----\n",
      "P(hombres|acción) = \t 0.001901\n",
      "P(pesadilla|acción) = \t 0.000158\n",
      "P(ataque|acción) = \t 0.000792\n",
      "P(carreras|acción) = \t 0.000792\n",
      "P(unidos|acción) = \t 0.001109\n",
      "P(duelo|acción) = \t 0.000158\n",
      "P(divertidos|acción) = \t 0.000158\n",
      "P(prisión|acción) = \t 0.000317\n",
      "P(cómica|acción) = \t 0.000158\n",
      "P(gags|acción) = \t 0.000158\n",
      "P(muerte|acción) = \t 0.000792\n",
      "P(problemas|acción) = \t 0.000475\n",
      "P(enemigo|acción) = \t 0.000158\n",
      "P(estadounidense|acción) = \t 0.000158\n",
      "P(tópicos|acción) = \t 0.000158\n",
      "P(oeste|acción) = \t 0.000158\n",
      "P(guerra|acción) = \t 0.000475\n",
      "P(fenómenos|acción) = \t 0.000158\n",
      "P(asesina|acción) = \t 0.000634\n",
      "P(soldado|acción) = \t 0.000158\n",
      "P(agente|acción) = \t 0.002059\n",
      "P(persecución|acción) = \t 0.000634\n",
      "P(hilarantes|acción) = \t 0.000158\n",
      "P(absurdas|acción) = \t 0.000158\n",
      "P(terrible|acción) = \t 0.000158\n",
      "P(grupo|acción) = \t 0.001109\n",
      "P(asesinos|acción) = \t 0.000950\n",
      "P(banda|acción) = \t 0.001109\n",
      "P(irreverente|acción) = \t 0.000158\n",
      "P(miedo|acción) = \t 0.000158\n",
      "P(hijo|acción) = \t 0.000634\n",
      "P(misteriosa|acción) = \t 0.000158\n",
      "P(pistolero|acción) = \t 0.000158\n",
      "P(bandidos|acción) = \t 0.000158\n",
      "P(oficial|acción) = \t 0.000634\n",
      "P(teniente|acción) = \t 0.000475\n",
      "P(delirante|acción) = \t 0.000158\n",
      "P(monstruo|acción) = \t 0.000158\n",
      "P(coche|acción) = \t 0.002851\n",
      "P(escalofriante|acción) = \t 0.000158\n",
      "P(oscuro|acción) = \t 0.000158\n",
      "P(destrucción|acción) = \t 0.000792\n",
      "P(investigación|acción) = \t 0.000792\n",
      "P(policía|acción) = \t 0.003326\n",
      "P(vampiros|acción) = \t 0.000158\n",
      "P(llamada|acción) = \t 0.000950\n",
      "P(misterio|acción) = \t 0.000158\n",
      "P(general|acción) = \t 0.000317\n",
      "P(diligencia|acción) = \t 0.000158\n",
      "P(sargento|acción) = \t 0.000317\n",
      "P(infantería|acción) = \t 0.000158\n",
      "P(psicópata|acción) = \t 0.000158\n",
      "P(alegre|acción) = \t 0.000158\n",
      "P(terroristas|acción) = \t 0.000317\n",
      "P(alemanes|acción) = \t 0.000158\n",
      "P(divertida|acción) = \t 0.000158\n",
      "P(vietnam|acción) = \t 0.000158\n",
      "P(alemán|acción) = \t 0.000317\n",
      "P(sobrenatural|acción) = \t 0.000158\n",
      "P(granjero|acción) = \t 0.000158\n",
      "P(muerto|acción) = \t 0.000634\n",
      "P(cabo|acción) = \t 0.000158\n",
      "P(estadounidenses|acción) = \t 0.000317\n",
      "P(horror|acción) = \t 0.000158\n",
      "P(terrorífica|acción) = \t 0.000158\n",
      "P(capitán|acción) = \t 0.000317\n",
      "P(cómicos|acción) = \t 0.000158\n",
      "P(auto|acción) = \t 0.001425\n",
      "P(absurdo|acción) = \t 0.000158\n",
      "P(demonio|acción) = \t 0.000158\n",
      "P(carcajadas|acción) = \t 0.000158\n",
      "P(escapar|acción) = \t 0.000950\n",
      "P(humor|acción) = \t 0.000158\n",
      "P(extraño|acción) = \t 0.000158\n",
      "P(pueblo|acción) = \t 0.000158\n",
      "P(incorrecto|acción) = \t 0.000158\n",
      "P(ruso|acción) = \t 0.000317\n",
      "P(divertido|acción) = \t 0.000158\n",
      "P(inquietante|acción) = \t 0.000158\n",
      "P(sheriff|acción) = \t 0.000158\n",
      "P(joven|acción) = \t 0.000317\n",
      "P(sátira|acción) = \t 0.000158\n",
      "P(escapa|acción) = \t 0.000634\n",
      "P(amigo|acción) = \t 0.001109\n",
      "P(seguridad|acción) = \t 0.000950\n",
      "P(revólver|acción) = \t 0.000158\n",
      "P(camino|acción) = \t 0.000158\n",
      "P(extravagante|acción) = \t 0.000158\n",
      "P(matar|acción) = \t 0.000317\n",
      "P(hilarante|acción) = \t 0.000158\n",
      "P(gasolina|acción) = \t 0.001267\n",
      "P(misión|acción) = \t 0.000950\n",
      "P(crítica|acción) = \t 0.000158\n",
      "P(perturbadora|acción) = \t 0.000158\n",
      "P(ejército|acción) = \t 0.000317\n",
      "P(anticristo|acción) = \t 0.000158\n",
      "P(risas|acción) = \t 0.000158\n",
      "P(armas|acción) = \t 0.000317\n",
      "P(asesino|acción) = \t 0.000634\n",
      "P(maldición|acción) = \t 0.000158\n",
      "P(regimiento|acción) = \t 0.000158\n",
      "P(hospital|acción) = \t 0.000792\n",
      "P(combate|acción) = \t 0.000475\n",
      "P(suspense|acción) = \t 0.000158\n",
      "P(operación|acción) = \t 0.000950\n",
      "P(desierto|acción) = \t 0.000317\n",
      "P(carrera|acción) = \t 0.001109\n",
      "P(simpáticos|acción) = \t 0.000158\n",
      "P(bomba|acción) = \t 0.000634\n",
      "P(terrorista|acción) = \t 0.000792\n",
      "P(terrorífico|acción) = \t 0.000158\n",
      "P(detective|acción) = \t 0.000317\n",
      "P(soldados|acción) = \t 0.000158\n",
      "P(arma|acción) = \t 0.000950\n",
      "P(venganza|acción) = \t 0.000950\n",
      "----- Categoría: western -----\n",
      "P(hombres|western) = \t 0.001368\n",
      "P(pesadilla|western) = \t 0.000171\n",
      "P(ataque|western) = \t 0.000684\n",
      "P(carreras|western) = \t 0.000171\n",
      "P(unidos|western) = \t 0.000855\n",
      "P(duelo|western) = \t 0.001026\n",
      "P(divertidos|western) = \t 0.000171\n",
      "P(prisión|western) = \t 0.000513\n",
      "P(cómica|western) = \t 0.000171\n",
      "P(gags|western) = \t 0.000342\n",
      "P(muerte|western) = \t 0.001026\n",
      "P(problemas|western) = \t 0.000684\n",
      "P(enemigo|western) = \t 0.000171\n",
      "P(estadounidense|western) = \t 0.000684\n",
      "P(tópicos|western) = \t 0.000171\n",
      "P(oeste|western) = \t 0.000684\n",
      "P(guerra|western) = \t 0.001881\n",
      "P(fenómenos|western) = \t 0.000171\n",
      "P(asesina|western) = \t 0.000513\n",
      "P(soldado|western) = \t 0.000684\n",
      "P(agente|western) = \t 0.000171\n",
      "P(persecución|western) = \t 0.000684\n",
      "P(hilarantes|western) = \t 0.000171\n",
      "P(absurdas|western) = \t 0.000171\n",
      "P(terrible|western) = \t 0.000171\n",
      "P(grupo|western) = \t 0.001539\n",
      "P(asesinos|western) = \t 0.000684\n",
      "P(banda|western) = \t 0.002052\n",
      "P(irreverente|western) = \t 0.000171\n",
      "P(miedo|western) = \t 0.000171\n",
      "P(hijo|western) = \t 0.002565\n",
      "P(misteriosa|western) = \t 0.000171\n",
      "P(pistolero|western) = \t 0.002052\n",
      "P(bandidos|western) = \t 0.001026\n",
      "P(oficial|western) = \t 0.000513\n",
      "P(teniente|western) = \t 0.000513\n",
      "P(delirante|western) = \t 0.000342\n",
      "P(monstruo|western) = \t 0.000171\n",
      "P(coche|western) = \t 0.000171\n",
      "P(escalofriante|western) = \t 0.000171\n",
      "P(oscuro|western) = \t 0.000171\n",
      "P(destrucción|western) = \t 0.000171\n",
      "P(investigación|western) = \t 0.000171\n",
      "P(policía|western) = \t 0.000171\n",
      "P(vampiros|western) = \t 0.000171\n",
      "P(llamada|western) = \t 0.000342\n",
      "P(misterio|western) = \t 0.000171\n",
      "P(general|western) = \t 0.000513\n",
      "P(diligencia|western) = \t 0.001710\n",
      "P(sargento|western) = \t 0.001026\n",
      "P(infantería|western) = \t 0.000171\n",
      "P(psicópata|western) = \t 0.000171\n",
      "P(alegre|western) = \t 0.000171\n",
      "P(terroristas|western) = \t 0.000171\n",
      "P(alemanes|western) = \t 0.000171\n",
      "P(divertida|western) = \t 0.000171\n",
      "P(vietnam|western) = \t 0.000171\n",
      "P(alemán|western) = \t 0.000342\n",
      "P(sobrenatural|western) = \t 0.000171\n",
      "P(granjero|western) = \t 0.000855\n",
      "P(muerto|western) = \t 0.000684\n",
      "P(cabo|western) = \t 0.000342\n",
      "P(estadounidenses|western) = \t 0.000342\n",
      "P(horror|western) = \t 0.000342\n",
      "P(terrorífica|western) = \t 0.000171\n",
      "P(capitán|western) = \t 0.001026\n",
      "P(cómicos|western) = \t 0.000171\n",
      "P(auto|western) = \t 0.000171\n",
      "P(absurdo|western) = \t 0.000171\n",
      "P(demonio|western) = \t 0.000171\n",
      "P(carcajadas|western) = \t 0.000171\n",
      "P(escapar|western) = \t 0.000513\n",
      "P(humor|western) = \t 0.000171\n",
      "P(extraño|western) = \t 0.000513\n",
      "P(pueblo|western) = \t 0.005643\n",
      "P(incorrecto|western) = \t 0.000171\n",
      "P(ruso|western) = \t 0.000171\n",
      "P(divertido|western) = \t 0.000171\n",
      "P(inquietante|western) = \t 0.000171\n",
      "P(sheriff|western) = \t 0.002223\n",
      "P(joven|western) = \t 0.002394\n",
      "P(sátira|western) = \t 0.000171\n",
      "P(escapa|western) = \t 0.000171\n",
      "P(amigo|western) = \t 0.002394\n",
      "P(seguridad|western) = \t 0.000171\n",
      "P(revólver|western) = \t 0.000513\n",
      "P(camino|western) = \t 0.001710\n",
      "P(extravagante|western) = \t 0.000171\n",
      "P(matar|western) = \t 0.000513\n",
      "P(hilarante|western) = \t 0.000171\n",
      "P(gasolina|western) = \t 0.000171\n",
      "P(misión|western) = \t 0.000342\n",
      "P(crítica|western) = \t 0.000171\n",
      "P(perturbadora|western) = \t 0.000171\n",
      "P(ejército|western) = \t 0.001197\n",
      "P(anticristo|western) = \t 0.000171\n",
      "P(risas|western) = \t 0.000171\n",
      "P(armas|western) = \t 0.000855\n",
      "P(asesino|western) = \t 0.000855\n",
      "P(maldición|western) = \t 0.000171\n",
      "P(regimiento|western) = \t 0.000342\n",
      "P(hospital|western) = \t 0.000171\n",
      "P(combate|western) = \t 0.000171\n",
      "P(suspense|western) = \t 0.000171\n",
      "P(operación|western) = \t 0.000171\n",
      "P(desierto|western) = \t 0.000342\n",
      "P(carrera|western) = \t 0.000342\n",
      "P(simpáticos|western) = \t 0.000171\n",
      "P(bomba|western) = \t 0.000171\n",
      "P(terrorista|western) = \t 0.000171\n",
      "P(terrorífico|western) = \t 0.000171\n",
      "P(detective|western) = \t 0.000171\n",
      "P(soldados|western) = \t 0.000855\n",
      "P(arma|western) = \t 0.000513\n",
      "P(venganza|western) = \t 0.001197\n",
      "----- Categoría: comedia -----\n",
      "P(hombres|comedia) = \t 0.000178\n",
      "P(pesadilla|comedia) = \t 0.000357\n",
      "P(ataque|comedia) = \t 0.000178\n",
      "P(carreras|comedia) = \t 0.000178\n",
      "P(unidos|comedia) = \t 0.001070\n",
      "P(duelo|comedia) = \t 0.000178\n",
      "P(divertidos|comedia) = \t 0.000714\n",
      "P(prisión|comedia) = \t 0.000535\n",
      "P(cómica|comedia) = \t 0.000714\n",
      "P(gags|comedia) = \t 0.002141\n",
      "P(muerte|comedia) = \t 0.000357\n",
      "P(problemas|comedia) = \t 0.001070\n",
      "P(enemigo|comedia) = \t 0.000178\n",
      "P(estadounidense|comedia) = \t 0.000178\n",
      "P(tópicos|comedia) = \t 0.000892\n",
      "P(oeste|comedia) = \t 0.000178\n",
      "P(guerra|comedia) = \t 0.001070\n",
      "P(fenómenos|comedia) = \t 0.000178\n",
      "P(asesina|comedia) = \t 0.000178\n",
      "P(soldado|comedia) = \t 0.000357\n",
      "P(agente|comedia) = \t 0.000178\n",
      "P(persecución|comedia) = \t 0.000178\n",
      "P(hilarantes|comedia) = \t 0.001962\n",
      "P(absurdas|comedia) = \t 0.000892\n",
      "P(terrible|comedia) = \t 0.000357\n",
      "P(grupo|comedia) = \t 0.000892\n",
      "P(asesinos|comedia) = \t 0.000178\n",
      "P(banda|comedia) = \t 0.000178\n",
      "P(irreverente|comedia) = \t 0.001249\n",
      "P(miedo|comedia) = \t 0.000357\n",
      "P(hijo|comedia) = \t 0.000535\n",
      "P(misteriosa|comedia) = \t 0.000357\n",
      "P(pistolero|comedia) = \t 0.000178\n",
      "P(bandidos|comedia) = \t 0.000178\n",
      "P(oficial|comedia) = \t 0.000178\n",
      "P(teniente|comedia) = \t 0.000178\n",
      "P(delirante|comedia) = \t 0.000892\n",
      "P(monstruo|comedia) = \t 0.000535\n",
      "P(coche|comedia) = \t 0.000178\n",
      "P(escalofriante|comedia) = \t 0.000178\n",
      "P(oscuro|comedia) = \t 0.000357\n",
      "P(destrucción|comedia) = \t 0.000178\n",
      "P(investigación|comedia) = \t 0.000178\n",
      "P(policía|comedia) = \t 0.000714\n",
      "P(vampiros|comedia) = \t 0.000178\n",
      "P(llamada|comedia) = \t 0.000535\n",
      "P(misterio|comedia) = \t 0.000357\n",
      "P(general|comedia) = \t 0.000178\n",
      "P(diligencia|comedia) = \t 0.000178\n",
      "P(sargento|comedia) = \t 0.000178\n",
      "P(infantería|comedia) = \t 0.000178\n",
      "P(psicópata|comedia) = \t 0.000178\n",
      "P(alegre|comedia) = \t 0.000714\n",
      "P(terroristas|comedia) = \t 0.000178\n",
      "P(alemanes|comedia) = \t 0.000178\n",
      "P(divertida|comedia) = \t 0.001605\n",
      "P(vietnam|comedia) = \t 0.000178\n",
      "P(alemán|comedia) = \t 0.000178\n",
      "P(sobrenatural|comedia) = \t 0.000178\n",
      "P(granjero|comedia) = \t 0.000178\n",
      "P(muerto|comedia) = \t 0.000178\n",
      "P(cabo|comedia) = \t 0.000357\n",
      "P(estadounidenses|comedia) = \t 0.000178\n",
      "P(horror|comedia) = \t 0.000178\n",
      "P(terrorífica|comedia) = \t 0.000178\n",
      "P(capitán|comedia) = \t 0.000178\n",
      "P(cómicos|comedia) = \t 0.000714\n",
      "P(auto|comedia) = \t 0.000178\n",
      "P(absurdo|comedia) = \t 0.001249\n",
      "P(demonio|comedia) = \t 0.000178\n",
      "P(carcajadas|comedia) = \t 0.000714\n",
      "P(escapar|comedia) = \t 0.000178\n",
      "P(humor|comedia) = \t 0.002854\n",
      "P(extraño|comedia) = \t 0.000357\n",
      "P(pueblo|comedia) = \t 0.000714\n",
      "P(incorrecto|comedia) = \t 0.000892\n",
      "P(ruso|comedia) = \t 0.000178\n",
      "P(divertido|comedia) = \t 0.001249\n",
      "P(inquietante|comedia) = \t 0.000178\n",
      "P(sheriff|comedia) = \t 0.000357\n",
      "P(joven|comedia) = \t 0.000357\n",
      "P(sátira|comedia) = \t 0.001249\n",
      "P(escapa|comedia) = \t 0.000357\n",
      "P(amigo|comedia) = \t 0.000714\n",
      "P(seguridad|comedia) = \t 0.000535\n",
      "P(revólver|comedia) = \t 0.000178\n",
      "P(camino|comedia) = \t 0.000535\n",
      "P(extravagante|comedia) = \t 0.000714\n",
      "P(matar|comedia) = \t 0.000178\n",
      "P(hilarante|comedia) = \t 0.000892\n",
      "P(gasolina|comedia) = \t 0.000178\n",
      "P(misión|comedia) = \t 0.000535\n",
      "P(crítica|comedia) = \t 0.000892\n",
      "P(perturbadora|comedia) = \t 0.000178\n",
      "P(ejército|comedia) = \t 0.001070\n",
      "P(anticristo|comedia) = \t 0.000178\n",
      "P(risas|comedia) = \t 0.001249\n",
      "P(armas|comedia) = \t 0.000357\n",
      "P(asesino|comedia) = \t 0.000714\n",
      "P(maldición|comedia) = \t 0.000178\n",
      "P(regimiento|comedia) = \t 0.000178\n",
      "P(hospital|comedia) = \t 0.000357\n",
      "P(combate|comedia) = \t 0.000178\n",
      "P(suspense|comedia) = \t 0.000178\n",
      "P(operación|comedia) = \t 0.000178\n",
      "P(desierto|comedia) = \t 0.000178\n",
      "P(carrera|comedia) = \t 0.000178\n",
      "P(simpáticos|comedia) = \t 0.000892\n",
      "P(bomba|comedia) = \t 0.000178\n",
      "P(terrorista|comedia) = \t 0.000178\n",
      "P(terrorífico|comedia) = \t 0.000178\n",
      "P(detective|comedia) = \t 0.000178\n",
      "P(soldados|comedia) = \t 0.000535\n",
      "P(arma|comedia) = \t 0.000178\n",
      "P(venganza|comedia) = \t 0.000178\n",
      "----- Categoría: bélico -----\n",
      "P(hombres|bélico) = \t 0.002092\n",
      "P(pesadilla|bélico) = \t 0.000322\n",
      "P(ataque|bélico) = \t 0.000644\n",
      "P(carreras|bélico) = \t 0.000161\n",
      "P(unidos|bélico) = \t 0.001609\n",
      "P(duelo|bélico) = \t 0.000161\n",
      "P(divertidos|bélico) = \t 0.000161\n",
      "P(prisión|bélico) = \t 0.000161\n",
      "P(cómica|bélico) = \t 0.000161\n",
      "P(gags|bélico) = \t 0.000161\n",
      "P(muerte|bélico) = \t 0.000805\n",
      "P(problemas|bélico) = \t 0.000161\n",
      "P(enemigo|bélico) = \t 0.000966\n",
      "P(estadounidense|bélico) = \t 0.001287\n",
      "P(tópicos|bélico) = \t 0.000161\n",
      "P(oeste|bélico) = \t 0.000161\n",
      "P(guerra|bélico) = \t 0.006437\n",
      "P(fenómenos|bélico) = \t 0.000161\n",
      "P(asesina|bélico) = \t 0.000161\n",
      "P(soldado|bélico) = \t 0.001126\n",
      "P(agente|bélico) = \t 0.000161\n",
      "P(persecución|bélico) = \t 0.000161\n",
      "P(hilarantes|bélico) = \t 0.000161\n",
      "P(absurdas|bélico) = \t 0.000161\n",
      "P(terrible|bélico) = \t 0.000161\n",
      "P(grupo|bélico) = \t 0.002414\n",
      "P(asesinos|bélico) = \t 0.000322\n",
      "P(banda|bélico) = \t 0.000161\n",
      "P(irreverente|bélico) = \t 0.000161\n",
      "P(miedo|bélico) = \t 0.000161\n",
      "P(hijo|bélico) = \t 0.000322\n",
      "P(misteriosa|bélico) = \t 0.000161\n",
      "P(pistolero|bélico) = \t 0.000161\n",
      "P(bandidos|bélico) = \t 0.000161\n",
      "P(oficial|bélico) = \t 0.001126\n",
      "P(teniente|bélico) = \t 0.001448\n",
      "P(delirante|bélico) = \t 0.000161\n",
      "P(monstruo|bélico) = \t 0.000161\n",
      "P(coche|bélico) = \t 0.000161\n",
      "P(escalofriante|bélico) = \t 0.000161\n",
      "P(oscuro|bélico) = \t 0.000161\n",
      "P(destrucción|bélico) = \t 0.000322\n",
      "P(investigación|bélico) = \t 0.000161\n",
      "P(policía|bélico) = \t 0.000805\n",
      "P(vampiros|bélico) = \t 0.000161\n",
      "P(llamada|bélico) = \t 0.000161\n",
      "P(misterio|bélico) = \t 0.000161\n",
      "P(general|bélico) = \t 0.002736\n",
      "P(diligencia|bélico) = \t 0.000161\n",
      "P(sargento|bélico) = \t 0.003540\n",
      "P(infantería|bélico) = \t 0.001126\n",
      "P(psicópata|bélico) = \t 0.000161\n",
      "P(alegre|bélico) = \t 0.000161\n",
      "P(terroristas|bélico) = \t 0.000161\n",
      "P(alemanes|bélico) = \t 0.001448\n",
      "P(divertida|bélico) = \t 0.000161\n",
      "P(vietnam|bélico) = \t 0.001287\n",
      "P(alemán|bélico) = \t 0.001448\n",
      "P(sobrenatural|bélico) = \t 0.000161\n",
      "P(granjero|bélico) = \t 0.000161\n",
      "P(muerto|bélico) = \t 0.000483\n",
      "P(cabo|bélico) = \t 0.000966\n",
      "P(estadounidenses|bélico) = \t 0.001287\n",
      "P(horror|bélico) = \t 0.000483\n",
      "P(terrorífica|bélico) = \t 0.000161\n",
      "P(capitán|bélico) = \t 0.001448\n",
      "P(cómicos|bélico) = \t 0.000161\n",
      "P(auto|bélico) = \t 0.000161\n",
      "P(absurdo|bélico) = \t 0.000161\n",
      "P(demonio|bélico) = \t 0.000161\n",
      "P(carcajadas|bélico) = \t 0.000161\n",
      "P(escapar|bélico) = \t 0.000644\n",
      "P(humor|bélico) = \t 0.000322\n",
      "P(extraño|bélico) = \t 0.000161\n",
      "P(pueblo|bélico) = \t 0.000483\n",
      "P(incorrecto|bélico) = \t 0.000161\n",
      "P(ruso|bélico) = \t 0.000322\n",
      "P(divertido|bélico) = \t 0.000161\n",
      "P(inquietante|bélico) = \t 0.000161\n",
      "P(sheriff|bélico) = \t 0.000161\n",
      "P(joven|bélico) = \t 0.000805\n",
      "P(sátira|bélico) = \t 0.000161\n",
      "P(escapa|bélico) = \t 0.000161\n",
      "P(amigo|bélico) = \t 0.000805\n",
      "P(seguridad|bélico) = \t 0.000161\n",
      "P(revólver|bélico) = \t 0.000322\n",
      "P(camino|bélico) = \t 0.000322\n",
      "P(extravagante|bélico) = \t 0.000161\n",
      "P(matar|bélico) = \t 0.001609\n",
      "P(hilarante|bélico) = \t 0.000161\n",
      "P(gasolina|bélico) = \t 0.000161\n",
      "P(misión|bélico) = \t 0.001770\n",
      "P(crítica|bélico) = \t 0.000161\n",
      "P(perturbadora|bélico) = \t 0.000161\n",
      "P(ejército|bélico) = \t 0.003701\n",
      "P(anticristo|bélico) = \t 0.000161\n",
      "P(risas|bélico) = \t 0.000161\n",
      "P(armas|bélico) = \t 0.000483\n",
      "P(asesino|bélico) = \t 0.000322\n",
      "P(maldición|bélico) = \t 0.000161\n",
      "P(regimiento|bélico) = \t 0.001126\n",
      "P(hospital|bélico) = \t 0.000161\n",
      "P(combate|bélico) = \t 0.002092\n",
      "P(suspense|bélico) = \t 0.000161\n",
      "P(operación|bélico) = \t 0.001126\n",
      "P(desierto|bélico) = \t 0.000161\n",
      "P(carrera|bélico) = \t 0.000161\n",
      "P(simpáticos|bélico) = \t 0.000161\n",
      "P(bomba|bélico) = \t 0.000322\n",
      "P(terrorista|bélico) = \t 0.000161\n",
      "P(terrorífico|bélico) = \t 0.000161\n",
      "P(detective|bélico) = \t 0.000161\n",
      "P(soldados|bélico) = \t 0.003219\n",
      "P(arma|bélico) = \t 0.000644\n",
      "P(venganza|bélico) = \t 0.000161\n"
     ]
    }
   ],
   "source": [
    "probabilidad_palabraclave = {}\n",
    "\n",
    "for categoría in categorías:\n",
    "    probabilidad_palabraclave[categoría] = crea_diccionario_probabilidades_condicionadas(archivos_entrenamiento_categoría[categoría])\n",
    "    \n",
    "    print(\"----- Categoría: %s -----\" % (categoría))\n",
    "    mostrar_diccionario_probabilidades_condicionadas(probabilidad_palabraclave[categoría], categoría)"
   ]
  },
  {
   "cell_type": "markdown",
   "metadata": {},
   "source": [
    "Una vez calculadas todas las probabilidades condicionadas de todas las categorías ya hemos finalizado con este subapartado, pero antes vamos a recordar un par de cosas:"
   ]
  },
  {
   "cell_type": "markdown",
   "metadata": {},
   "source": [
    "Para acceder a una probabilidad específica símplemente ejecutamos lo siguiente (para el ejemplo obtendremos la __probabilidad de coche__ condicionada a la categoría __acción__, es decir, __P(coche|acción)__):"
   ]
  },
  {
   "cell_type": "code",
   "execution_count": 35,
   "metadata": {
    "collapsed": false
   },
   "outputs": [],
   "source": [
    "# Descomentar para comprobar. Por defecto estará comentado para que el algoritmo funcione sin la categoría usada en el ejemplo.\n",
    "#print(\"P(coche|acción) = %f\" % (probabilidad_palabraclave[\"acción\"][\"coche\"]))"
   ]
  },
  {
   "cell_type": "markdown",
   "metadata": {},
   "source": [
    "Si hubiese una __palabra clave que no apareciese en acción, la probabilidad no sería 0__ ya que estamos usando suavizado. Por ejemplo, podemos comprobarlo con la probabilidad de soldado (que no forma parte de las palabras clave de acción) condicionada a acción (__P(gags|acción)__):"
   ]
  },
  {
   "cell_type": "code",
   "execution_count": 36,
   "metadata": {
    "collapsed": false
   },
   "outputs": [],
   "source": [
    "# Descomentar para comprobar. Por defecto estará comentado para que el algoritmo funcione sin la categoría usada en el ejemplo.\n",
    "#print(\"P(gags|acción) = %f\" % (probabilidad_palabraclave[\"acción\"][\"gags\"]))"
   ]
  },
  {
   "cell_type": "markdown",
   "metadata": {},
   "source": [
    "### Parte IV-B: Procesamiento de kNN"
   ]
  },
  {
   "cell_type": "markdown",
   "metadata": {},
   "source": [
    "Como en este escenario __el orden de las palabras clave sí nos importa__, vamos a asegurarnos y a definir una lista con las palabras clave (creada a partir del conjunto de palabras clave que ya teníamos):"
   ]
  },
  {
   "cell_type": "code",
   "execution_count": 37,
   "metadata": {
    "collapsed": false
   },
   "outputs": [
    {
     "name": "stdout",
     "output_type": "stream",
     "text": [
      "['hombres', 'pesadilla', 'ataque', 'carreras', 'unidos', 'duelo', 'divertidos', 'prisión', 'cómica', 'gags', 'muerte', 'problemas', 'enemigo', 'estadounidense', 'tópicos', 'oeste', 'guerra', 'fenómenos', 'asesina', 'soldado', 'agente', 'persecución', 'hilarantes', 'absurdas', 'terrible', 'grupo', 'asesinos', 'banda', 'irreverente', 'miedo', 'hijo', 'misteriosa', 'pistolero', 'bandidos', 'oficial', 'teniente', 'delirante', 'monstruo', 'coche', 'escalofriante', 'oscuro', 'destrucción', 'investigación', 'policía', 'vampiros', 'llamada', 'misterio', 'general', 'diligencia', 'sargento', 'infantería', 'psicópata', 'alegre', 'terroristas', 'alemanes', 'divertida', 'vietnam', 'alemán', 'sobrenatural', 'granjero', 'muerto', 'cabo', 'estadounidenses', 'horror', 'terrorífica', 'capitán', 'cómicos', 'auto', 'absurdo', 'demonio', 'carcajadas', 'escapar', 'humor', 'extraño', 'pueblo', 'incorrecto', 'ruso', 'divertido', 'inquietante', 'sheriff', 'joven', 'sátira', 'escapa', 'amigo', 'seguridad', 'revólver', 'camino', 'extravagante', 'matar', 'hilarante', 'gasolina', 'misión', 'crítica', 'perturbadora', 'ejército', 'anticristo', 'risas', 'armas', 'asesino', 'maldición', 'regimiento', 'hospital', 'combate', 'suspense', 'operación', 'desierto', 'carrera', 'simpáticos', 'bomba', 'terrorista', 'terrorífico', 'detective', 'soldados', 'arma', 'venganza']\n"
     ]
    }
   ],
   "source": [
    "lista_palabras_clave = list(palabras_clave)\n",
    "\n",
    "print(lista_palabras_clave)"
   ]
  },
  {
   "cell_type": "markdown",
   "metadata": {},
   "source": [
    "También vamos a __crear__ un __diccionario__ que tenga como __clave cada palabras clave__ y como __valor el número de veces que se repiten__, ya que nos va a ser necesario en el método que definiremos a continuación."
   ]
  },
  {
   "cell_type": "code",
   "execution_count": 38,
   "metadata": {
    "collapsed": false
   },
   "outputs": [
    {
     "name": "stdout",
     "output_type": "stream",
     "text": [
      "{'terrible': 4, 'terroristas': 2, 'fenómenos': 2, 'anticristo': 3, 'hijo': 31, 'muerto': 9, 'seguridad': 9, 'hospital': 11, 'pueblo': 39, 'camino': 13, 'persecución': 6, 'sheriff': 13, 'ataque': 12, 'amigo': 26, 'asesinos': 9, 'joven': 29, 'oscuro': 6, 'agente': 13, 'vampiros': 2, 'alemán': 11, 'terrorífico': 2, 'guerra': 56, 'granjero': 5, 'grupo': 35, 'capitán': 14, 'soldados': 25, 'ejército': 34, 'venganza': 12, 'policía': 31, 'incorrecto': 4, 'gags': 12, 'absurdo': 6, 'irreverente': 6, 'sátira': 6, 'risas': 6, 'teniente': 12, 'unidos': 24, 'operación': 11, 'vietnam': 7, 'estadounidenses': 9, 'matar': 12, 'escapar': 10, 'miedo': 5, 'pesadilla': 7, 'monstruo': 3, 'humor': 17, 'llamada': 15, 'muerte': 20, 'asesino': 13, 'hilarante': 4, 'asesina': 5, 'divertidos': 3, 'crítica': 5, 'divertida': 8, 'alegre': 3, 'coche': 18, 'hombres': 30, 'auto': 9, 'detective': 8, 'problemas': 10, 'cabo': 8, 'sargento': 27, 'misión': 18, 'oficial': 11, 'alemanes': 8, 'destrucción': 6, 'revólver': 3, 'horror': 5, 'combate': 14, 'arma': 10, 'misteriosa': 5, 'extravagante': 3, 'divertido': 6, 'banda': 17, 'armas': 8, 'extraño': 7, 'general': 19, 'soldado': 10, 'sobrenatural': 2, 'estadounidense': 12, 'diligencia': 9, 'pistolero': 11, 'investigación': 4, 'carreras': 4, 'carrera': 7, 'desierto': 2, 'oeste': 3, 'cómica': 3, 'absurdas': 4, 'escalofriante': 2, 'perturbadora': 2, 'psicópata': 2, 'hilarantes': 10, 'escapa': 4, 'tópicos': 4, 'delirante': 5, 'cómicos': 3, 'gasolina': 7, 'demonio': 3, 'misterio': 3, 'suspense': 5, 'simpáticos': 4, 'regimiento': 7, 'prisión': 5, 'ruso': 2, 'infantería': 6, 'maldición': 4, 'terrorista': 4, 'duelo': 5, 'bandidos': 5, 'inquietante': 2, 'bomba': 4, 'enemigo': 5, 'terrorífica': 2, 'carcajadas': 3}\n"
     ]
    }
   ],
   "source": [
    "palabras_clave_y_repeticiones = {}\n",
    "\n",
    "cuenta_palabras = cuenta_palabras_desde_archivos(ruta_conjunto_entrenamiento, archivos_entrenamiento)\n",
    "\n",
    "for palabra in cuenta_palabras:\n",
    "    if palabra in palabras_clave:\n",
    "        palabras_clave_y_repeticiones[palabra] = cuenta_palabras[palabra]\n",
    "\n",
    "print(palabras_clave_y_repeticiones)"
   ]
  },
  {
   "cell_type": "markdown",
   "metadata": {},
   "source": [
    "Ahora, vamos a definir un __método__ que tenga como entrada una palabra clave y un archivo (y su ruta) y __calcule el peso para esa palabra clave y ese documento__."
   ]
  },
  {
   "cell_type": "code",
   "execution_count": 39,
   "metadata": {
    "collapsed": true
   },
   "outputs": [],
   "source": [
    "def calculo_peso(palabra_clave, ruta, archivo):\n",
    "    frecuencia_en_documento = 0\n",
    "    frecuencia_documental = 0\n",
    "    frecuencia_documental_inversa = 0\n",
    "    peso = 0\n",
    "    \n",
    "    cuenta_palabras = cuenta_palabras_desde_archivo(ruta, archivo)\n",
    "    if palabra_clave in cuenta_palabras:\n",
    "        frecuencia_en_documento = cuenta_palabras[palabra_clave]\n",
    "    \n",
    "    frecuencia_documental = palabras_clave_y_repeticiones[palabra_clave]\n",
    "    \n",
    "    if frecuencia_documental is not 0:\n",
    "        aux = len(archivos_entrenamiento) / frecuencia_documental\n",
    "    else:\n",
    "        aux = 0\n",
    "    \n",
    "    frecuencia_documental_inversa = math.log(aux)\n",
    "    \n",
    "    peso = frecuencia_en_documento * frecuencia_documental_inversa\n",
    "    \n",
    "    return peso"
   ]
  },
  {
   "cell_type": "markdown",
   "metadata": {},
   "source": [
    "A continuación, un __método__ que reciba __como entrada un conjunto de archivos__ y __calcule sus pesos__ (devolverá una lista)."
   ]
  },
  {
   "cell_type": "code",
   "execution_count": 40,
   "metadata": {
    "collapsed": false
   },
   "outputs": [],
   "source": [
    "def calculo_pesos(ruta, archivo):\n",
    "    lista_pesos = []\n",
    "    \n",
    "    for palabra_clave in lista_palabras_clave:\n",
    "        lista_pesos.append(calculo_peso(palabra_clave, ruta, archivo))\n",
    "    \n",
    "    return lista_pesos"
   ]
  },
  {
   "cell_type": "markdown",
   "metadata": {},
   "source": [
    "Ahora es momento de usar lo que hemos definido anteriormente, vamos a crear un __diccionario__ (\"*diccionario_palabraclave_pesos*\") que __por cada archivo del conjunto de entrenamiento__ (clave del diccionario) contenga __una lista de pesos__ de cada palabra (valor de la clave del diccionario)."
   ]
  },
  {
   "cell_type": "code",
   "execution_count": 41,
   "metadata": {
    "collapsed": false
   },
   "outputs": [],
   "source": [
    "import math\n",
    "\n",
    "diccionario_palabraclave_pesos = {}\n",
    "\n",
    "for archivo in archivos_entrenamiento:\n",
    "    lista_pesos_archivo = calculo_pesos(ruta_conjunto_entrenamiento, archivo)\n",
    "    \n",
    "    diccionario_palabraclave_pesos[archivo.replace(\".txt\", \"\")] = lista_pesos_archivo\n",
    "\n",
    "#print(diccionario_palabraclave_pesos)"
   ]
  },
  {
   "cell_type": "markdown",
   "metadata": {
    "collapsed": false
   },
   "source": [
    "---"
   ]
  },
  {
   "cell_type": "markdown",
   "metadata": {},
   "source": [
    "## Parte V: Salvado del procesamiento en fichero"
   ]
  },
  {
   "cell_type": "markdown",
   "metadata": {},
   "source": [
    "Dado que el enunciado de la práctica requiere que guardemos el procesado que acabamos que realizar (en la parte IV) para después utilizarlo en la ejecución de los algoritmos, procedemos a ello."
   ]
  },
  {
   "cell_type": "markdown",
   "metadata": {},
   "source": [
    "### Parte V-A: Salvado del procesamiento de Naive Bayes"
   ]
  },
  {
   "cell_type": "markdown",
   "metadata": {},
   "source": [
    "El objetivo aquí es que el usuario pueda abrir el archivo \"*.csv*\" y lo entienda, por ello vamos a guardar en la primera columna de dicho \"*.csv*\" (es decir, en el primer valor) cada probabilidad, y lo haremos como \"***P(categoría)***\" o \"***P(palabra|categoría)***\" y en la segunda columna, su valor."
   ]
  },
  {
   "cell_type": "markdown",
   "metadata": {
    "collapsed": false
   },
   "source": [
    "Para ello, como tenemos cada probabilidad en un diccionario distinto, vamos a crear un nuevo diccionario que contenga todas las probabilidades:"
   ]
  },
  {
   "cell_type": "code",
   "execution_count": 42,
   "metadata": {
    "collapsed": true
   },
   "outputs": [],
   "source": [
    "diccionario_probabilidades_a_guardar = {}\n",
    "\n",
    "for categoría in categorías:\n",
    "    diccionario_probabilidades_a_guardar[\"P(\" + categoría + \")\"] = probabilidad_categoría[categoría]\n",
    "    \n",
    "    for entrada in probabilidad_palabraclave[categoría]:\n",
    "        diccionario_probabilidades_a_guardar[\"P(\" + entrada + \"|\" + categoría + \")\"] = probabilidad_palabraclave[categoría][entrada]"
   ]
  },
  {
   "cell_type": "markdown",
   "metadata": {},
   "source": [
    "Y a continuación procedemos al guardado:"
   ]
  },
  {
   "cell_type": "code",
   "execution_count": 43,
   "metadata": {
    "collapsed": false
   },
   "outputs": [],
   "source": [
    "csvfile = \"csv/naive-bayes.csv\"\n",
    "datos_a_guardar = diccionario_probabilidades_a_guardar\n",
    "\n",
    "with open(csvfile, \"w\") as output:\n",
    "    writer = csv.writer(output, lineterminator='\\n')\n",
    "    for dato in datos_a_guardar:\n",
    "        writer.writerow([dato] + [datos_a_guardar[dato]])"
   ]
  },
  {
   "cell_type": "markdown",
   "metadata": {},
   "source": [
    "### Parte V-B: Salvado del procesamiento de kNN"
   ]
  },
  {
   "cell_type": "markdown",
   "metadata": {
    "collapsed": false
   },
   "source": [
    "El salvado de kNN es mucho más fácil, sólo tenemos que guardar el diccionario que generamos en la parte anterior: El primer valor del \"*.csv*\" sería la clave del diccionario (el __nombre del documento__) y el segundo su valor (la __lista de pesos para cada palabra__)."
   ]
  },
  {
   "cell_type": "code",
   "execution_count": 44,
   "metadata": {
    "collapsed": false
   },
   "outputs": [],
   "source": [
    "csvfile = \"csv/knn.csv\"\n",
    "datos_a_guardar = diccionario_palabraclave_pesos\n",
    "\n",
    "with open(csvfile, \"w\") as output:\n",
    "    writer = csv.writer(output, lineterminator='\\n')\n",
    "    for dato in datos_a_guardar:\n",
    "        writer.writerow([dato] + [datos_a_guardar[dato]])"
   ]
  },
  {
   "cell_type": "markdown",
   "metadata": {},
   "source": [
    "---"
   ]
  },
  {
   "cell_type": "markdown",
   "metadata": {},
   "source": [
    "## Parte VI: Ejecución de los algoritmos"
   ]
  },
  {
   "cell_type": "markdown",
   "metadata": {},
   "source": [
    "En la parte II ya encontramos los ficheros del conjunto de test, que están en su respectiva carpeta, ahora tenemos que procesaros igual que hicimos en la parte III con los ficheros del conjunto de pruebas."
   ]
  },
  {
   "cell_type": "markdown",
   "metadata": {},
   "source": [
    "### Parte VI-A: Ejecución de Naive Bayes"
   ]
  },
  {
   "cell_type": "markdown",
   "metadata": {},
   "source": [
    "El método naive_bayes recibe un archivo y los datos procesados (probabilidades) como parámetros y determina la categoría del archivo pasado como parámetro."
   ]
  },
  {
   "cell_type": "code",
   "execution_count": 45,
   "metadata": {
    "collapsed": false
   },
   "outputs": [],
   "source": [
    "def naive_bayes(archivo, csv):\n",
    "    cuenta_palabras = cuenta_palabras_desde_archivo(ruta_conjunto_prueba, archivo)\n",
    "    \n",
    "    palabras_coincidentes_con_palabras_clave = cuenta_palabras.copy()\n",
    "    \n",
    "    # De las palabras que contiene el fichero, desechamos todas las que no coinciden con las palabras clave.\n",
    "    for palabra in cuenta_palabras:\n",
    "        if palabra not in palabras_clave:\n",
    "            del palabras_coincidentes_con_palabras_clave[palabra]\n",
    "    \n",
    "    # Abrimos el fichero \".csv\" generado para consultar datos en el siguiente paso.\n",
    "    datos = lee_fichero(csv)\n",
    "    \n",
    "    # Ejecutamos el algoritmo en sí.\n",
    "    resultados = {} # Resultados será un diccionario que contendrá la categoría y la \"puntuación\" otorgada por el algoritmo a esa categoría (para posteriormente elegir la categoría con el máximo valor).\n",
    "    \n",
    "    for categoría in categorías:\n",
    "        probabilidades_condicionadas_a_multiplicar = []\n",
    "        for palabra_clave in palabras_coincidentes_con_palabras_clave:\n",
    "            cadena_a_buscar = \"P(\" + palabra_clave + \"|\" + categoría + \")\" # Define la cadena que se debe buscar en el archivo. En este caso la probabilidad condicionada a la categoría.\n",
    "            probabilidades_condicionadas_a_multiplicar.append(float(datos[cadena_a_buscar]) ** palabras_coincidentes_con_palabras_clave[palabra_clave]) # Busca el valor de la probabilidad condicionada requerida (lo transforma en float), lo eleva al número de veces que se repite y añade el valor de la probabilidad condicionada hallada a una lista que se pasará a multiplicar después.\n",
    "        \n",
    "        cadena_a_buscar = \"P(\" + categoría + \")\" # Define la cadena que se debe buscar en el archivo. En este caso la probabilidad de la categoría.\n",
    "        probabilidad_categoría = float(datos[cadena_a_buscar])\n",
    "        \n",
    "        # Multiplicamos los elementos de la lista de probabilidades condicionadas\n",
    "        probabilidades_condicionadas_multiplicadas = 1.0\n",
    "        for elemento in probabilidades_condicionadas_a_multiplicar:\n",
    "            probabilidades_condicionadas_multiplicadas = probabilidades_condicionadas_multiplicadas * elemento\n",
    "        \n",
    "        resultados[categoría] = probabilidades_condicionadas_multiplicadas * probabilidad_categoría # Calcula el coeficiente\n",
    "    \n",
    "    resultado = max(resultados, key=resultados.get) # Devuleve el resultado del algoritmo. En este caso el elemento del diccionario con mayor coeficiente.\n",
    "    \n",
    "    return resultado"
   ]
  },
  {
   "cell_type": "markdown",
   "metadata": {},
   "source": [
    "__Ejecutamos el algoritmo__ e __imprimimos__ los __resultados__ obtenidos:"
   ]
  },
  {
   "cell_type": "code",
   "execution_count": 46,
   "metadata": {
    "collapsed": false
   },
   "outputs": [],
   "source": [
    "def aplicar_naive_bayes_archivos_prueba():\n",
    "    print(\"El resultado de aplicar el algoritmo [Naive-Bayes] al conjunto de pruebas es...\")\n",
    "    for archivo in archivos_prueba:\n",
    "        algoritmo = naive_bayes(archivo, \"csv/naive-bayes.csv\")\n",
    "        print(\"[%s] \\t [%s]\" % (archivo.replace(\".txt\", \"\"), algoritmo))"
   ]
  },
  {
   "cell_type": "code",
   "execution_count": 47,
   "metadata": {
    "collapsed": false
   },
   "outputs": [
    {
     "name": "stdout",
     "output_type": "stream",
     "text": [
      "El resultado de aplicar el algoritmo [Naive-Bayes] al conjunto de pruebas es...\n",
      "[Le llamaban Trinidad] \t [western]\n",
      "[Insidious] \t [terror]\n",
      "[El tirador] \t [acción]\n",
      "[La caza del Octubre Rojo] \t [bélico]\n",
      "[It] \t [western]\n",
      "[El padrino] \t [western]\n",
      "[El ultimátum de Bourne] \t [acción]\n",
      "[A todo gas - Tokyo race] \t [acción]\n",
      "[Misión imposible - Protocolo fantasma] \t [acción]\n",
      "[Shrek 3] \t [comedia]\n",
      "[Sin perdón] \t [western]\n",
      "[La noche de los muertos vivientes] \t [western]\n",
      "[Los otros] \t [bélico]\n",
      "[La matanza de Texas] \t [acción]\n",
      "[Jungla de cristal] \t [acción]\n",
      "[Fast and Furious 5] \t [acción]\n",
      "[Django desencadenado] \t [western]\n",
      "[Teléfono rojo - Volamos hacia Moscú] \t [bélico]\n",
      "[El jinete pálido] \t [western]\n",
      "[Solo ante el peligro] \t [western]\n"
     ]
    }
   ],
   "source": [
    "aplicar_naive_bayes_archivos_prueba()"
   ]
  },
  {
   "cell_type": "markdown",
   "metadata": {},
   "source": [
    "### Parte VI-B: Ejecución de kNN"
   ]
  },
  {
   "cell_type": "markdown",
   "metadata": {
    "collapsed": true
   },
   "source": [
    "El siguiente método, \"*calcula_distancia*\", recibe como parámetros dos listas de pesos, comprueba si tienen el mismo tamaño y aplica la fórmula de similitud a ambas listas. Cada elemento de la lista está relacionado con una palabra clave (y las palabras clave mantienen posición entre las listas, es decir, el elemento 1 de la lista 1 es el peso de la misma palabra que el elemento 1 de la lista 2)."
   ]
  },
  {
   "cell_type": "code",
   "execution_count": 48,
   "metadata": {
    "collapsed": false
   },
   "outputs": [],
   "source": [
    "def calcula_distancia(v, w):\n",
    "    # Comprueba que las listas de pesos son del mismo tamaño, por seguridad.\n",
    "    if(len(v) == len(w)):\n",
    "        numerador = sum([elemento_v * elemento_w for elemento_v, elemento_w in zip(v,w)])\n",
    "        \n",
    "        denominador = (math.sqrt(sum([elemento_v ** 2 for elemento_v in v]))) * (math.sqrt(sum([elemento_w ** 2 for elemento_w in w])))\n",
    "        \n",
    "        return numerador / denominador"
   ]
  },
  {
   "cell_type": "markdown",
   "metadata": {},
   "source": [
    "A continuación, creamos un método utilidad para calcular los __k__ elementos con mayor valor de un diccionario."
   ]
  },
  {
   "cell_type": "code",
   "execution_count": 49,
   "metadata": {
    "collapsed": false
   },
   "outputs": [],
   "source": [
    "def k_maximos(diccionario, k):\n",
    "    resultado = {}\n",
    "    \n",
    "    for i in range(k):\n",
    "        maximo = max(diccionario, key=diccionario.get)\n",
    "        resultado[maximo] = diccionario[maximo]\n",
    "        del diccionario[maximo]\n",
    "    \n",
    "    return resultado"
   ]
  },
  {
   "cell_type": "markdown",
   "metadata": {},
   "source": [
    "El siguiente método es el algoritmo __kNN__ en sí. Recibe un documento, los datos procesados de la parte IV y un valor de __k__ y determina a qué categoría pertenece un documento."
   ]
  },
  {
   "cell_type": "code",
   "execution_count": 50,
   "metadata": {
    "collapsed": false
   },
   "outputs": [],
   "source": [
    "def knn(archivo, csv, k):\n",
    "    v = calculo_pesos(ruta_conjunto_prueba, archivo)\n",
    "    \n",
    "    # Abrimos el fichero \".csv\" generado para consultar datos en el siguiente paso.\n",
    "    datos = lee_fichero(csv)\n",
    "    \n",
    "    # Ejecutamos el algoritmo en sí.\n",
    "    documento_similitud = {} # documento_similitud será un diccionario que contendrá el archivo y la \"puntuación\" (similitud) otorgada por el algoritmo a esa categoría (para posteriormente elegir la categoría del archivo con la similitud más cercana a uno, que será el mayor valor).\n",
    "    \n",
    "    # Ahora que tenemos el peso del archivo a clasificar mediante el algoritmo y los pesos de los archivos del conjunto de entrenamiento (extraídos del \".csv\" y guardados en forma de diccionario) tenemos que calcular, una por una, la distancia a cada elemento del conjunto de entrenamiento y quedarnos con la menor.\n",
    "    for dato in datos:\n",
    "        # Como lo que guardamos es una cadena, es necesario un pequeño procesamiento para transformarlo de nuevo en una lista.\n",
    "        w = datos[dato].replace('[', '') # Primero eliminamos \"[\".\n",
    "        w = w.replace(']', '') # Hacemos lo mismo con \"]\".\n",
    "        w = w.split(\",\") # Aplicamos \".split()\" para volver a \"trocear\" la cadena y convertirla de nuevo en una lista.\n",
    "        w = [float(elemento) for elemento in w]\n",
    "        documento_similitud[dato] = calcula_distancia(v, w) # \"v\" son los pesos del archivo a clasificar y \"w\" los del archivo del conjunto de entrenamiento que está siendo procesado.\n",
    "    \n",
    "    k_documentos_similitud = k_maximos(documento_similitud, k)\n",
    "    #print(k_documentos_similitud)\n",
    "    \n",
    "    # Para hallar la categoría más repetida y gestionar los desempates haremos lo siguiente:\n",
    "    # La clave del diccionario será un string: la categoría.\n",
    "    # El valor un entero: el número de veces que se repite la categoría (para elegir la mayor, si no hay empate).\n",
    "    \n",
    "    candidatos_repetición = {}\n",
    "    \n",
    "    for elemento in k_documentos_similitud:\n",
    "        género_documento = elemento.split(\"/\") # \"género_documento\" guarda \"género/nombre_documento\", por ejemplo \"acción/El caso bourne\".\n",
    "        género = género_documento[0]\n",
    "        if género not in candidatos_repetición:\n",
    "            #candidatos[género] = (1, k_documentos_similitud[elemento])\n",
    "            candidatos_repetición[género] = 1\n",
    "        else:\n",
    "            #candidatos[género] = (candidatos[género][0] + 1, k_documentos_similitud[elemento] + candidatos[género][1])\n",
    "            candidatos_repetición[género] = candidatos_repetición[género] + 1\n",
    "    \n",
    "    #print(candidatos_repetición)\n",
    "    \n",
    "    # Hallamos el máximo número de veces que una categoría se repite\n",
    "    elemento_máxima_repetición = max(candidatos_repetición, key=candidatos_repetición.get)\n",
    "    #print(elemento_máxima_repetición)\n",
    "    máxima_repetición = candidatos_repetición[elemento_máxima_repetición]\n",
    "    #print(máxima_repetición)\n",
    "    \n",
    "    # Ahora toca repetir un bucle similar. Esta vez vamos a excluir todos los elementos que no tengan la máxima repetición.\n",
    "    # Entre los elementos con máxima repetición, nos quedamos con la categoría cuyos elementos sumen más similitud.\n",
    "    # La clave del diccionario volverá a ser un string, y de nuevo almacenará la categoría.\n",
    "    # Esta vez el value será un decimal (float): la suma de las similitudes (para elegir la mayor si hay empate).\n",
    "    \n",
    "    candidatos_suma_similitudes = {}\n",
    "    \n",
    "    for elemento in k_documentos_similitud:\n",
    "        género_documento = elemento.split(\"/\") # \"género_documento\" guarda \"género/nombre_documento\", por ejemplo \"acción/El caso bourne\".\n",
    "        género = género_documento[0]\n",
    "        if candidatos_repetición[género]== máxima_repetición:\n",
    "            if género not in candidatos_suma_similitudes:\n",
    "                candidatos_suma_similitudes[género] = k_documentos_similitud[elemento]\n",
    "            else:\n",
    "                candidatos_suma_similitudes[género] = candidatos_suma_similitudes[género] + k_documentos_similitud[elemento]\n",
    "    \n",
    "    #print(candidatos_suma_similitudes)\n",
    "    \n",
    "    # Hallamos la(s) categoría(s) que más se repiten\n",
    "    resultado = max(candidatos_suma_similitudes, key=candidatos_suma_similitudes.get)\n",
    "    \n",
    "    # Para una mayor exactitud, saber en qué categoría se enmarcará la muestra y a qué película se debe devolvemos ambos datos (el elemento 0 contendrá la categoría y el 1 la película de dónde procede).\n",
    "    return resultado, k_documentos_similitud"
   ]
  },
  {
   "cell_type": "markdown",
   "metadata": {},
   "source": [
    "Elegimos un valor para __k__ (podemos hacerlo en la llamada a la función, pero para hacerlos más visual):"
   ]
  },
  {
   "cell_type": "code",
   "execution_count": 51,
   "metadata": {
    "collapsed": false
   },
   "outputs": [],
   "source": [
    "k = 5"
   ]
  },
  {
   "cell_type": "markdown",
   "metadata": {},
   "source": [
    "Y __ejecutamos el algoritmo__ e __imprimimos__ los __resultados__ obtenidos:"
   ]
  },
  {
   "cell_type": "code",
   "execution_count": 52,
   "metadata": {
    "collapsed": false
   },
   "outputs": [],
   "source": [
    "def aplicar_knn_archivos_prueba():\n",
    "    print(\"El resultado de aplicar el algoritmo [kNN] con [k=%d] (%dNN) al conjunto de pruebas es...\" % (k, k))\n",
    "    for archivo in archivos_prueba:\n",
    "        algoritmo = knn(archivo, \"csv/knn.csv\", k)\n",
    "        print(\"[%s] \\t [%s]\" % (archivo.replace(\".txt\", \"\"), algoritmo[0]))\n",
    "        print(\"Lista de similitudes: %s\" % (algoritmo[1]))"
   ]
  },
  {
   "cell_type": "code",
   "execution_count": 53,
   "metadata": {
    "collapsed": false,
    "scrolled": false
   },
   "outputs": [
    {
     "name": "stdout",
     "output_type": "stream",
     "text": [
      "El resultado de aplicar el algoritmo [kNN] con [k=5] (5NN) al conjunto de pruebas es...\n",
      "[Le llamaban Trinidad] \t [western]\n",
      "Lista de similitudes: {'western/El dorado': 0.5594783673424888, 'western/Duelo de titanes': 0.4990402384913104, 'western/Los 7 magníficos': 0.43142840067961447, 'western/Por un puñado de dólares': 0.41598830657252417, 'western/El hombre que mató a Liberty Valance': 0.30618556554410825}\n",
      "[Insidious] \t [terror]\n",
      "Lista de similitudes: {'terror/Dracula': 0.3785362064389706, 'terror/Sé lo que hicisteis el ultimo verano': 0.3306090979174511, 'terror/Pesadilla en Elm Street': 0.2878593103804384, 'comedia/Resacón en Las Vegas': 0.2760886311113221, 'terror/Expediente Warren': 0.2666140075215833}\n",
      "[El tirador] \t [acción]\n",
      "Lista de similitudes: {'acción/Venganza': 0.7166351835302441, 'acción/Fast and Furious 6': 0.3616080114475917, 'acción/El caso Bourne': 0.3344159980280112, 'acción/Misión imposible - Nación secreta': 0.2498760065335393, 'acción/Misión imposible III': 0.23821729818517628}\n",
      "[La caza del Octubre Rojo] \t [bélico]\n",
      "Lista de similitudes: {'bélico/Cartas desde Iwo Jima': 0.4199182039196137, 'bélico/Banderas de nuestros padres': 0.4101931515530466, 'bélico/La delgada línea roja': 0.4079552188965766, 'western/El tesoro de Sierra Madre': 0.38991446038396155, 'western/La legión invencible': 0.3734559794613924}\n",
      "[It] \t [acción]\n",
      "Lista de similitudes: {'comedia/Monstruos SA': 0.6369395431209927, 'terror/Babadook': 0.3916797014207088, 'bélico/Rescate al amanecer': 0.20653875202587754, 'acción/La jungla 4 punto 0': 0.15272152005398887, 'acción/Venganza - Conexión Estambul': 0.15215569793578324}\n",
      "[El padrino] \t [acción]\n",
      "Lista de similitudes: {'acción/La jungla 4 punto 0': 0.7022648195054882, 'western/El último tren de Gun Hill': 0.6410258316470611, 'acción/Kill Bill - Volumen 1': 0.40342436074475135, 'terror/Los pájaros': 0.3735108554194977, 'western/El tren de las 3 y 10': 0.2163583960523366}\n",
      "[El ultimátum de Bourne] \t [acción]\n",
      "Lista de similitudes: {'acción/Fast and Furious 6': 0.48508884222165843, 'acción/Misión imposible III': 0.3029634627434044, 'acción/Venganza 3': 0.2954271153804632, 'bélico/Enemigo a las puertas': 0.2916615406560646, 'acción/Misión imposible - Nación secreta': 0.28671766749913563}\n",
      "[A todo gas - Tokyo race] \t [acción]\n",
      "Lista de similitudes: {'acción/Turbo-Charged Prelude': 0.6472089174972788, 'western/Río rojo': 0.41106515639813396, 'acción/Venganza 3': 0.4006091833267584, 'western/El tesoro de Sierra Madre': 0.38539810147057724, 'acción/A todo gas': 0.33416742032517477}\n",
      "[Misión imposible - Protocolo fantasma] \t [acción]\n",
      "Lista de similitudes: {'acción/Misión imposible - Nación secreta': 0.4822999248459919, 'acción/Fast and Furious 6': 0.3797766006559929, 'acción/2 Fast 2 Furious - A todo gas 2': 0.3370704563070231, 'acción/Venganza - Conexión Estambul': 0.33131367530755274, 'acción/Misión imposible III': 0.3179898015140289}\n",
      "[Shrek 3] \t [comedia]\n",
      "Lista de similitudes: {'comedia/Swiss Army Man': 0.4543040209971191, 'bélico/El hundimiento': 0.43169479407826583, 'comedia/Brüno': 0.4239454334075868, 'comedia/Resacón 2': 0.39311872742554593, 'comedia/Solo en casa': 0.35700401242509133}\n",
      "[Sin perdón] \t [western]\n",
      "Lista de similitudes: {'western/Por un puñado de dólares': 0.6488417629829177, 'western/Duelo de titanes': 0.6460547377914322, 'western/El dorado': 0.5181860198276014, 'western/Los 7 magníficos': 0.5178202000935387, 'western/Los odiosos ocho': 0.38049515174447074}\n",
      "[La noche de los muertos vivientes] \t [terror]\n",
      "Lista de similitudes: {'terror/Dracula': 0.49073331528041075, 'terror/REC': 0.4738094309976329, 'western/Incidente en Ox-Bow': 0.41687176996107145, 'western/Los odiosos ocho': 0.3442310594652035, 'bélico/Corazones de hierro': 0.30706279054650487}\n",
      "[Los otros] \t [terror]\n",
      "Lista de similitudes: {'terror/Annabelle': 0.5155542383748993, 'terror/Ju On': 0.2841328143366443, 'acción/Misión imposible II': 0.21353224398932863, 'terror/El exorcista': 0.19873434211239666, 'terror/The Omen': 0.17815774534910642}\n",
      "[La matanza de Texas] \t [acción]\n",
      "Lista de similitudes: {'acción/Venganza 3': 0.3737653110666028, 'comedia/Scary Movie': 0.3085155700295386, 'comedia/Madagascar': 0.30354824336631214, 'acción/Kill Bill - Volumen 1': 0.2893571402698498, 'acción/Kill Bill - Volumen 2': 0.2790552077084429}\n",
      "[Jungla de cristal] \t [acción]\n",
      "Lista de similitudes: {'acción/Misión imposible - Nación secreta': 0.38196399872741416, 'terror/The Omen': 0.2667475712576583, 'acción/Kill Bill - Volumen 2': 0.18849914281534785, 'western/Centauros del desierto': 0.15361237891876459, 'western/Grupo salvaje': 0.1458502404997158}\n",
      "[Fast and Furious 5] \t [acción]\n",
      "Lista de similitudes: {'acción/Fast and Furious 6': 0.5819354202344941, 'acción/Misión imposible III': 0.39932206165860845, 'acción/Venganza 3': 0.3213776226782802, 'acción/Fast and Furious 7': 0.31611362091517486, 'terror/Los pájaros': 0.3122517106064826}\n",
      "[Django desencadenado] \t [western]\n",
      "Lista de similitudes: {'western/Incidente en Ox-Bow': 0.4454897755294257, 'western/El bueno el feo y el malo': 0.3506504419812575, 'western/Los odiosos ocho': 0.30812822796966005, 'acción/Venganza - Conexión Estambul': 0.280223731490033, 'acción/Turbo-Charged Prelude': 0.23778351474366655}\n",
      "[Teléfono rojo - Volamos hacia Moscú] \t [bélico]\n",
      "Lista de similitudes: {'bélico/Valkiria': 0.5792914735422068, 'bélico/Senderos de gloria': 0.5733450434712067, 'acción/La jungla 4 punto 0': 0.4471595916915947, 'terror/Los pájaros': 0.3603182760684009, 'bélico/Cartas desde Iwo Jima': 0.35166406801202577}\n",
      "[El jinete pálido] \t [terror]\n",
      "Lista de similitudes: {'terror/Babadook': 0.3898794031776769, 'acción/Kill Bill - Volumen 1': 0.3227229095586248, 'acción/La jungla 4 punto 0': 0.3212139498091863, 'terror/Sé lo que hicisteis el ultimo verano': 0.31226782036182255, 'bélico/El último samurái': 0.30151815669122284}\n",
      "[Solo ante el peligro] \t [western]\n",
      "Lista de similitudes: {'western/Por un puñado de dólares': 0.7240718742078598, 'western/Duelo de titanes': 0.648271487018412, 'western/El hombre que mató a Liberty Valance': 0.5696466720304807, 'western/Grupo salvaje': 0.4960477540209307, 'western/Los odiosos ocho': 0.49403307052597867}\n"
     ]
    }
   ],
   "source": [
    "aplicar_knn_archivos_prueba()"
   ]
  },
  {
   "cell_type": "markdown",
   "metadata": {},
   "source": [
    "---"
   ]
  },
  {
   "cell_type": "markdown",
   "metadata": {},
   "source": [
    "## Parte VII: Análisis de los resultados"
   ]
  },
  {
   "cell_type": "markdown",
   "metadata": {},
   "source": [
    "La siguiente tabla muestra la relación entre el __documento a clasificar__ del conjunto de pruebas, su __género real__ y los __géneros en los que ha sido clasificado__ mediante __Naive Bayes__ y un __valor bajo de kNN__ (1) y __un valor un poco más elevado__ (5) y, finalmente, con uno __mucho más elevado__ (12)."
   ]
  },
  {
   "cell_type": "markdown",
   "metadata": {
    "collapsed": false
   },
   "source": [
    "\\begin{array}{|r|r|} \\hline\n",
    "\\textbf{Nombre del documento}&\\textbf{Género REAL}&\\textbf{Género Naive Bayes}&\\textbf{Género 1NN}&\\textbf{Género 5NN}&\\textbf{Género 12NN}\\\\ \\hline\n",
    "A \\: todo \\: gas - Tokyo \\: race&\\textbf{Acción}&Acción&Acción&Acción&Acción\\\\ \\hline\n",
    "Django \\: desencadenado&\\textbf{Western}&Western&Western&Western&Western\\\\ \\hline\n",
    "El \\: jinete \\: pálido&\\textbf{Western}&Western&Terror&Terror&Terror\\\\ \\hline\n",
    "El \\: padrino&\\textbf{Drama}&Western&Acción&Acción&Western\\\\ \\hline\n",
    "El \\: tirador&\\textbf{Acción / Bélico}&Acción&Acción&Acción&Acción\\\\ \\hline\n",
    "El \\: ultimátum \\: de \\: Bourne&\\textbf{Acción}&Acción&Acción&Acción&Acción\\\\ \\hline\n",
    "Fast \\: and \\: Furious \\: 5&\\textbf{Acción}&Acción&Acción&Acción&Acción\\\\ \\hline\n",
    "Insidious&\\textbf{Terror}&Terror&Terror&Terror&Terror\\\\ \\hline\n",
    "It&\\textbf{Terror}&Western&Comedia&Acción&Acción\\\\ \\hline\n",
    "Jungla \\: de \\: cristal&\\textbf{Acción}&Acción&Acción&Acción&Acción\\\\ \\hline\n",
    "La \\: caza \\: del \\: Octubre \\: Rojo&\\textbf{Acción / Bélico}&Bélico&Bélico&Bélico&Bélico\\\\ \\hline\n",
    "La \\: matanza \\: de \\: Texas&\\textbf{Terror}&Acción&Acción&Acción&Acción\\\\ \\hline\n",
    "La \\: noche \\: de \\: los \\: muertos \\: vivientes&\\textbf{Terror}&Western&Terror&Terror&Western\\\\ \\hline\n",
    "Le \\: llamaban \\: Trinidad&\\textbf{Wester / Comedia}&Western&Wester&Western&Western\\\\ \\hline\n",
    "Los \\: otros&\\textbf{Terror}&Bélico&Terror&Terror&Terror\\\\ \\hline\n",
    "Misión \\: imposible - Protocolo \\: fantasma&\\textbf{Acción}&Acción&Acción&Acción&Acción\\\\ \\hline\n",
    "Shrek \\: 3&\\textbf{Comedia}&Comedia&Comedia&Comedia&Comedia\\\\ \\hline\n",
    "Sin \\: perdón&\\textbf{Western}&Western&Western&Western&Western\\\\ \\hline\n",
    "Solo \\: ante \\: el \\: peligro&\\textbf{Western}&Western&Western&Western&Western\\\\ \\hline\n",
    "Teléfono \\: rojo - Volamos \\: hacia \\: Moscú&\\textbf{Bélico / Comedia}&Bélico&Bélico&Bélico&Bélico\\\\ \\hline\n",
    "\\end{array}"
   ]
  },
  {
   "cell_type": "markdown",
   "metadata": {},
   "source": [
    "Porcentaje aciertos algoritmo __Naive Bayes__:"
   ]
  },
  {
   "cell_type": "markdown",
   "metadata": {
    "collapsed": false
   },
   "source": [
    "---"
   ]
  },
  {
   "cell_type": "markdown",
   "metadata": {},
   "source": [
    "## Parte VIII: Conclusiones"
   ]
  },
  {
   "cell_type": "code",
   "execution_count": null,
   "metadata": {
    "collapsed": true
   },
   "outputs": [],
   "source": []
  }
 ],
 "metadata": {
  "kernelspec": {
   "display_name": "Python 3",
   "language": "python",
   "name": "python3"
  },
  "language_info": {
   "codemirror_mode": {
    "name": "ipython",
    "version": 3
   },
   "file_extension": ".py",
   "mimetype": "text/x-python",
   "name": "python",
   "nbconvert_exporter": "python",
   "pygments_lexer": "ipython3",
   "version": "3.6.0"
  }
 },
 "nbformat": 4,
 "nbformat_minor": 2
}
