{
 "cells": [
  {
   "cell_type": "markdown",
   "metadata": {},
   "source": [
    "## Clasificación de documentos:"
   ]
  },
  {
   "cell_type": "markdown",
   "metadata": {},
   "source": [
    "# Calculo del género de una película a raíz de su sinopsis"
   ]
  },
  {
   "cell_type": "markdown",
   "metadata": {},
   "source": [
    "## Parte I: Introducción"
   ]
  },
  {
   "cell_type": "markdown",
   "metadata": {},
   "source": [
    "Se requiere la implementación de un algoritmo que, previamente entrenado, calcule el __género principal__ de una película en base al conocimiento adquirido."
   ]
  },
  {
   "cell_type": "markdown",
   "metadata": {},
   "source": [
    "Los géneros que tendrá en cuenta el algoritmo son: ___acción___, ___comedia___, ___infantil___, ___drama___, ___terror___, ___musical___."
   ]
  },
  {
   "cell_type": "markdown",
   "metadata": {},
   "source": [
    "Los __archivos que contienen la sinopsis__ de las películas estarán distribuídos de la siguiente forma: 1) Si forman parte del conjunto de pruebas estarán dentro de la carpeta del conjunto de prueba sin más, que será la carpeta en la que el algoritmo, una vez entrenado, buscará sinopsis para categorizarlas 2) Si forman parte del conjunto de entrenamiento estarán dentro de la carpeta del conjunto de entrenamiento y __a su vez__ dentro de una carpeta que indique su género."
   ]
  },
  {
   "cell_type": "markdown",
   "metadata": {},
   "source": [
    "El __formato__ de los archivos será _.txt_, por lo tanto estamos hablando de texto plano."
   ]
  },
  {
   "cell_type": "markdown",
   "metadata": {},
   "source": [
    "__Los conocimientos requeridos por parte del usuario__ que ejecutará el algoritmo __son mínimos__: tan sólo necesita __colocar__ los textos, en el formato adecuado, en la carpeta indicada y __ejecutar__ el algoritmo en sí. Únicamente se requiere mayor interacción por parte del usuario si desea cambiar el funcionamiento del algorimo en sí, o ajustar el mismo, como por ejemplo si desea cambiar las palabras clave para cada una de las categorías."
   ]
  },
  {
   "cell_type": "markdown",
   "metadata": {},
   "source": [
    "## Parte II: Escaneo de archivos"
   ]
  },
  {
   "cell_type": "markdown",
   "metadata": {},
   "source": [
    "Empezamos símplemente indicando qué __carpeta__ contiene el __conjunto de entrenamiento__ y el de __prueba__."
   ]
  },
  {
   "cell_type": "code",
   "execution_count": 104,
   "metadata": {
    "collapsed": false
   },
   "outputs": [],
   "source": [
    "ruta_conjunto_entrenamiento = \"conjunto_entrenamiento\"\n",
    "ruta_conjunto_prueba = \"conjunto_prueba\"\n",
    "\n",
    "#categorías = {\"acción\", \"comedia\"}"
   ]
  },
  {
   "cell_type": "markdown",
   "metadata": {},
   "source": [
    "A continuación, vamos a recorrer nuestra estructura de carpetas para detectar cada uno de los textos a analizar."
   ]
  },
  {
   "cell_type": "markdown",
   "metadata": {},
   "source": [
    "Primero __empezamos encontrando__ todos los __archivos ya clasificados__ (conjunto de entrenamiento), según su __categoría__."
   ]
  },
  {
   "cell_type": "code",
   "execution_count": 219,
   "metadata": {
    "collapsed": false
   },
   "outputs": [],
   "source": [
    "# NOTA: Vamos a almacenarlos en conjunto (set) ya que no nos interesa el orden y, además, no permite duplicados (no puede haber dos archivos con el mismo nombre).\n",
    "\n",
    "archivos_entrenamiento_acción = set()\n",
    "for file in os.listdir(ruta_conjunto_entrenamiento + \"/\" + \"acción\"):\n",
    "    if file.endswith(\".txt\"):\n",
    "        aux = \"acción\" + \"/\" + file\n",
    "        archivos_entrenamiento_acción.add(aux)\n",
    "\n",
    "archivos_entrenamiento_comedia = set()\n",
    "for file in os.listdir(ruta_conjunto_entrenamiento + \"/\" + \"comedia\"):\n",
    "    if file.endswith(\".txt\"):\n",
    "        aux = \"comedia\" + \"/\" + file\n",
    "        archivos_entrenamiento_comedia.add(aux)\n",
    "\n",
    "archivos_entrenamiento_terror = set()\n",
    "for file in os.listdir(ruta_conjunto_entrenamiento + \"/\" + \"terror\"):\n",
    "    if file.endswith(\".txt\"):\n",
    "        aux = \"terror\" + \"/\" + file\n",
    "        archivos_entrenamiento_terror.add(aux)"
   ]
  },
  {
   "cell_type": "markdown",
   "metadata": {},
   "source": [
    "Y, a continuación, procedemos a __encontrar__ los __archivos que querríamos clasificar__ (conjunto de prueba):"
   ]
  },
  {
   "cell_type": "code",
   "execution_count": 145,
   "metadata": {
    "collapsed": true
   },
   "outputs": [],
   "source": [
    "# Usamos conjunto por la misma razón de arriba.\n",
    "\n",
    "archivos_prueba = set()\n",
    "for file in os.listdir(ruta_conjunto_prueba):\n",
    "    if file.endswith(\".txt\"):\n",
    "        archivos_prueba.add(file)"
   ]
  },
  {
   "cell_type": "markdown",
   "metadata": {},
   "source": [
    "## Parte III: Elección del conjunto de palabras clave"
   ]
  },
  {
   "cell_type": "markdown",
   "metadata": {
    "collapsed": false
   },
   "source": [
    "Para ayudarnos en el estudio de las __palabras clave__ que debemos escoger para cada categoría vamos a realizar un pequeño estudio para determinar las palabras más frecuentes de cada categoría. La elección en sí debemos realizarla a mano puesto que no podemos escoger directamente las más frecuentes puesto que con total seguridad entre las más frecuentes se encontrarán verbos, conectores, preposiciones, pronombres, artículos, nombres propios, etc. que no nos serán de utilidad a la hora de determinar la categoría de una película."
   ]
  },
  {
   "cell_type": "markdown",
   "metadata": {},
   "source": [
    "Definimos el siguiente __método que recibirá un conjunto de archivos__ y __contará las palabras__ que aparecen en él __y el número de veces que dichas palabras aparecen__."
   ]
  },
  {
   "cell_type": "code",
   "execution_count": 186,
   "metadata": {
    "collapsed": false
   },
   "outputs": [],
   "source": [
    "def cuenta_palabras_desde_archivos(archivos):\n",
    "    cuenta_palabras = {}\n",
    "    \n",
    "    for archivo in archivos:\n",
    "        file = open(ruta_conjunto_entrenamiento + \"/\" + archivo, \"r\", encoding=\"latin-1\") # Elegimos latin-1 en vez de utf-8 por problemas con las tildes.\n",
    "\n",
    "        for word in file.read().split(): # Recorremos el fichero, palabra a palabra.\n",
    "            word = word.lower() # Pasamos la palabra a minúscula.\n",
    "            # Para perder la menor información posible, reemplazamos ':', ',', ':' y ';', que son los carácteres más típicos que nos podemos encontrar adyacentes a una palabra y que la invalidarían en el siguiente if del algoritmo.\n",
    "            word = word.replace('.', '')\n",
    "            word = word.replace(',', '')\n",
    "            word = word.replace(':', '')\n",
    "            word = word.replace(';', '')\n",
    "            if word.isalpha() is True: # Será true cuando todos los caracteres son alfabéticos y hay al menos uno.\n",
    "                if word in cuenta_palabras:\n",
    "                    cuenta_palabras[word] += 1 # Si la palabra ya existe, entonces incrementa en 1 el número de veces que hace aparición.\n",
    "                else:\n",
    "                    cuenta_palabras[word] = 1 # Si la palabra no existe, la añade (con valor 1 al número de veces que aparece).\n",
    "    \n",
    "    return cuenta_palabras"
   ]
  },
  {
   "cell_type": "markdown",
   "metadata": {},
   "source": [
    "Además, con propósito de limpiar el output que obtendremos vamos a establecer un __umbral__ para desechar todas las palabras que se repitan por debajo del mismo:"
   ]
  },
  {
   "cell_type": "code",
   "execution_count": 224,
   "metadata": {
    "collapsed": true
   },
   "outputs": [],
   "source": [
    "umbral_repetición = 3"
   ]
  },
  {
   "cell_type": "markdown",
   "metadata": {
    "collapsed": false
   },
   "source": [
    "Y, con el mismo propósito, otro __umbral__ para desechar todas las palabras con una longitud menor a él:"
   ]
  },
  {
   "cell_type": "code",
   "execution_count": 233,
   "metadata": {
    "collapsed": true
   },
   "outputs": [],
   "source": [
    "umbral_longitud = 3"
   ]
  },
  {
   "cell_type": "markdown",
   "metadata": {},
   "source": [
    "Y, por último, un método que use al anterior que, además, nos __ordene las palabras__ (de mayor a menor uso) __y las muestre__:"
   ]
  },
  {
   "cell_type": "code",
   "execution_count": 234,
   "metadata": {
    "collapsed": false
   },
   "outputs": [],
   "source": [
    "def cuenta_palabras_desde_archivos_ordenadas(archivos):\n",
    "    cuenta_palabras = cuenta_palabras_desde_archivos(archivos)\n",
    "    \n",
    "    lista = [] # Usamos una lista para poder ordenar las palabras (map).\n",
    "    for palabra, contador in cuenta_palabras.items():\n",
    "        lista.append((contador, palabra))\n",
    "\n",
    "    lista = sorted(lista, reverse = True) # Lo ordenamos y lo invertimos para que las palabras más frecuentes estén arriba.\n",
    "\n",
    "    for aux in lista:\n",
    "        if(aux[0] > umbral_repetición and len(aux[1]) > umbral_longitud): # Si el número de veces que aparece la palabra es mayor que el umbral, se muestra.\n",
    "            print(\"%s \\t %d\" % (aux[1], aux[0]))"
   ]
  },
  {
   "cell_type": "markdown",
   "metadata": {
    "collapsed": true
   },
   "source": [
    "Palabras más frecuentes en: __ACCIÓN__."
   ]
  },
  {
   "cell_type": "code",
   "execution_count": 232,
   "metadata": {
    "collapsed": false
   },
   "outputs": [
    {
     "name": "stdout",
     "output_type": "stream",
     "text": [
      "bourne \t 31\n",
      "tras \t 14\n",
      "para \t 14\n",
      "nicky \t 14\n",
      "hasta \t 12\n",
      "vosen \t 11\n",
      "ross \t 9\n",
      "mientras \t 9\n",
      "daniels \t 9\n",
      "pamela \t 8\n",
      "este \t 6\n",
      "agentes \t 6\n",
      "siendo \t 5\n",
      "pero \t 5\n",
      "ellos \t 5\n",
      "donde \t 5\n",
      "desh \t 5\n",
      "sido \t 4\n",
      "pues \t 4\n",
      "programa \t 4\n",
      "estación \t 4\n",
      "esta \t 4\n",
      "ella \t 4\n",
      "documentación \t 4\n",
      "desde \t 4\n",
      "cual \t 4\n",
      "coche \t 4\n",
      "aunque \t 4\n"
     ]
    }
   ],
   "source": [
    "cuenta_palabras_desde_archivos_ordenadas(archivos_entrenamiento_acción)"
   ]
  },
  {
   "cell_type": "markdown",
   "metadata": {},
   "source": [
    "Palabras más frecuentes en: __COMEDIA__."
   ]
  },
  {
   "cell_type": "code",
   "execution_count": 204,
   "metadata": {
    "collapsed": true
   },
   "outputs": [],
   "source": [
    "cuenta_palabras_desde_archivos_ordenadas(archivos_entrenamiento_comedia)"
   ]
  },
  {
   "cell_type": "markdown",
   "metadata": {
    "collapsed": false
   },
   "source": [
    "Palabras más frecuentes en: __TERROR__."
   ]
  },
  {
   "cell_type": "code",
   "execution_count": 223,
   "metadata": {
    "collapsed": false
   },
   "outputs": [],
   "source": [
    "cuenta_palabras_desde_archivos_ordenadas(archivos_entrenamiento_terror)"
   ]
  },
  {
   "cell_type": "markdown",
   "metadata": {},
   "source": [
    "Una vez realizado el estudio, inicializamos manualmente las __palabras clave__ de cada __categoría__, usaremos unas 20 palabras para cada una de ellas (podrán repetirse entre categorías)."
   ]
  },
  {
   "cell_type": "code",
   "execution_count": 220,
   "metadata": {
    "collapsed": false
   },
   "outputs": [],
   "source": [
    "# Las inicializamos como conjuntos ya que no nos interesa el orden y, además, no se permiten duplicados.\n",
    "palabras_clave_accion = {}\n",
    "palabras_clave_comedia = {}\n",
    "palabras_clave_terror = {}"
   ]
  },
  {
   "cell_type": "markdown",
   "metadata": {},
   "source": [
    "Y, a continuación, añadimos todas las palabras clave de cada categoría a un nuevo conjunto que contenga __todas las palabras clave__."
   ]
  },
  {
   "cell_type": "code",
   "execution_count": 222,
   "metadata": {
    "collapsed": false
   },
   "outputs": [
    {
     "name": "stdout",
     "output_type": "stream",
     "text": [
      "Las palabras clave son: set()\n"
     ]
    }
   ],
   "source": [
    "palabras_clave = set()\n",
    "# Update nos permite añadir el contenido de un set a otro set\n",
    "palabras_clave.update(palabras_clave_accion)\n",
    "palabras_clave.update(palabras_clave_comedia)\n",
    "palabras_clave.update(palabras_clave_terror)\n",
    "print(\"Las palabras clave son: %s\" % (palabras_clave))"
   ]
  },
  {
   "cell_type": "markdown",
   "metadata": {},
   "source": [
    "## Parte IV: Procesamiento"
   ]
  },
  {
   "cell_type": "markdown",
   "metadata": {},
   "source": [
    "# TO DO"
   ]
  }
 ],
 "metadata": {
  "kernelspec": {
   "display_name": "Python 3",
   "language": "python",
   "name": "python3"
  },
  "language_info": {
   "codemirror_mode": {
    "name": "ipython",
    "version": 3
   },
   "file_extension": ".py",
   "mimetype": "text/x-python",
   "name": "python",
   "nbconvert_exporter": "python",
   "pygments_lexer": "ipython3",
   "version": "3.6.0"
  }
 },
 "nbformat": 4,
 "nbformat_minor": 2
}
